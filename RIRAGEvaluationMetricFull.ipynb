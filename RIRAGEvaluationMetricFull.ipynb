{
  "nbformat": 4,
  "nbformat_minor": 0,
  "metadata": {
    "colab": {
      "provenance": [],
      "machine_shape": "hm",
      "gpuType": "T4",
      "authorship_tag": "ABX9TyN6oHjHH0PXOFLgObQfPT3N",
      "include_colab_link": true
    },
    "kernelspec": {
      "name": "python3",
      "display_name": "Python 3"
    },
    "language_info": {
      "name": "python"
    },
    "accelerator": "GPU",
    "widgets": {
      "application/vnd.jupyter.widget-state+json": {
        "cb90e7e5cf1042789e107f69c7cf4f57": {
          "model_module": "@jupyter-widgets/controls",
          "model_name": "HBoxModel",
          "model_module_version": "1.5.0",
          "state": {
            "_dom_classes": [],
            "_model_module": "@jupyter-widgets/controls",
            "_model_module_version": "1.5.0",
            "_model_name": "HBoxModel",
            "_view_count": null,
            "_view_module": "@jupyter-widgets/controls",
            "_view_module_version": "1.5.0",
            "_view_name": "HBoxView",
            "box_style": "",
            "children": [
              "IPY_MODEL_b79d68c93a9a4cc5a142bae140ffe0b3",
              "IPY_MODEL_664524594034482f8e92de2b47e9eaa5",
              "IPY_MODEL_d36be162f31b41d1a54e083536136e6e"
            ],
            "layout": "IPY_MODEL_f63d7b574ac44bb2906478d5f7663149"
          }
        },
        "b79d68c93a9a4cc5a142bae140ffe0b3": {
          "model_module": "@jupyter-widgets/controls",
          "model_name": "HTMLModel",
          "model_module_version": "1.5.0",
          "state": {
            "_dom_classes": [],
            "_model_module": "@jupyter-widgets/controls",
            "_model_module_version": "1.5.0",
            "_model_name": "HTMLModel",
            "_view_count": null,
            "_view_module": "@jupyter-widgets/controls",
            "_view_module_version": "1.5.0",
            "_view_name": "HTMLView",
            "description": "",
            "description_tooltip": null,
            "layout": "IPY_MODEL_e486ea7a91754ee78b553ff72d69edc9",
            "placeholder": "​",
            "style": "IPY_MODEL_b078c406336d493f8b0f750de00d5c59",
            "value": "tokenizer_config.json: 100%"
          }
        },
        "664524594034482f8e92de2b47e9eaa5": {
          "model_module": "@jupyter-widgets/controls",
          "model_name": "FloatProgressModel",
          "model_module_version": "1.5.0",
          "state": {
            "_dom_classes": [],
            "_model_module": "@jupyter-widgets/controls",
            "_model_module_version": "1.5.0",
            "_model_name": "FloatProgressModel",
            "_view_count": null,
            "_view_module": "@jupyter-widgets/controls",
            "_view_module_version": "1.5.0",
            "_view_name": "ProgressView",
            "bar_style": "success",
            "description": "",
            "description_tooltip": null,
            "layout": "IPY_MODEL_353fd252e4fa432a9c160ef438d4ecac",
            "max": 48,
            "min": 0,
            "orientation": "horizontal",
            "style": "IPY_MODEL_fb805a68769d495bad0e134368dbf215",
            "value": 48
          }
        },
        "d36be162f31b41d1a54e083536136e6e": {
          "model_module": "@jupyter-widgets/controls",
          "model_name": "HTMLModel",
          "model_module_version": "1.5.0",
          "state": {
            "_dom_classes": [],
            "_model_module": "@jupyter-widgets/controls",
            "_model_module_version": "1.5.0",
            "_model_name": "HTMLModel",
            "_view_count": null,
            "_view_module": "@jupyter-widgets/controls",
            "_view_module_version": "1.5.0",
            "_view_name": "HTMLView",
            "description": "",
            "description_tooltip": null,
            "layout": "IPY_MODEL_9f561570230540a28103862b2e79e71c",
            "placeholder": "​",
            "style": "IPY_MODEL_88afe4b812b04ae5a46788fe40443dec",
            "value": " 48.0/48.0 [00:00&lt;00:00, 4.33kB/s]"
          }
        },
        "f63d7b574ac44bb2906478d5f7663149": {
          "model_module": "@jupyter-widgets/base",
          "model_name": "LayoutModel",
          "model_module_version": "1.2.0",
          "state": {
            "_model_module": "@jupyter-widgets/base",
            "_model_module_version": "1.2.0",
            "_model_name": "LayoutModel",
            "_view_count": null,
            "_view_module": "@jupyter-widgets/base",
            "_view_module_version": "1.2.0",
            "_view_name": "LayoutView",
            "align_content": null,
            "align_items": null,
            "align_self": null,
            "border": null,
            "bottom": null,
            "display": null,
            "flex": null,
            "flex_flow": null,
            "grid_area": null,
            "grid_auto_columns": null,
            "grid_auto_flow": null,
            "grid_auto_rows": null,
            "grid_column": null,
            "grid_gap": null,
            "grid_row": null,
            "grid_template_areas": null,
            "grid_template_columns": null,
            "grid_template_rows": null,
            "height": null,
            "justify_content": null,
            "justify_items": null,
            "left": null,
            "margin": null,
            "max_height": null,
            "max_width": null,
            "min_height": null,
            "min_width": null,
            "object_fit": null,
            "object_position": null,
            "order": null,
            "overflow": null,
            "overflow_x": null,
            "overflow_y": null,
            "padding": null,
            "right": null,
            "top": null,
            "visibility": null,
            "width": null
          }
        },
        "e486ea7a91754ee78b553ff72d69edc9": {
          "model_module": "@jupyter-widgets/base",
          "model_name": "LayoutModel",
          "model_module_version": "1.2.0",
          "state": {
            "_model_module": "@jupyter-widgets/base",
            "_model_module_version": "1.2.0",
            "_model_name": "LayoutModel",
            "_view_count": null,
            "_view_module": "@jupyter-widgets/base",
            "_view_module_version": "1.2.0",
            "_view_name": "LayoutView",
            "align_content": null,
            "align_items": null,
            "align_self": null,
            "border": null,
            "bottom": null,
            "display": null,
            "flex": null,
            "flex_flow": null,
            "grid_area": null,
            "grid_auto_columns": null,
            "grid_auto_flow": null,
            "grid_auto_rows": null,
            "grid_column": null,
            "grid_gap": null,
            "grid_row": null,
            "grid_template_areas": null,
            "grid_template_columns": null,
            "grid_template_rows": null,
            "height": null,
            "justify_content": null,
            "justify_items": null,
            "left": null,
            "margin": null,
            "max_height": null,
            "max_width": null,
            "min_height": null,
            "min_width": null,
            "object_fit": null,
            "object_position": null,
            "order": null,
            "overflow": null,
            "overflow_x": null,
            "overflow_y": null,
            "padding": null,
            "right": null,
            "top": null,
            "visibility": null,
            "width": null
          }
        },
        "b078c406336d493f8b0f750de00d5c59": {
          "model_module": "@jupyter-widgets/controls",
          "model_name": "DescriptionStyleModel",
          "model_module_version": "1.5.0",
          "state": {
            "_model_module": "@jupyter-widgets/controls",
            "_model_module_version": "1.5.0",
            "_model_name": "DescriptionStyleModel",
            "_view_count": null,
            "_view_module": "@jupyter-widgets/base",
            "_view_module_version": "1.2.0",
            "_view_name": "StyleView",
            "description_width": ""
          }
        },
        "353fd252e4fa432a9c160ef438d4ecac": {
          "model_module": "@jupyter-widgets/base",
          "model_name": "LayoutModel",
          "model_module_version": "1.2.0",
          "state": {
            "_model_module": "@jupyter-widgets/base",
            "_model_module_version": "1.2.0",
            "_model_name": "LayoutModel",
            "_view_count": null,
            "_view_module": "@jupyter-widgets/base",
            "_view_module_version": "1.2.0",
            "_view_name": "LayoutView",
            "align_content": null,
            "align_items": null,
            "align_self": null,
            "border": null,
            "bottom": null,
            "display": null,
            "flex": null,
            "flex_flow": null,
            "grid_area": null,
            "grid_auto_columns": null,
            "grid_auto_flow": null,
            "grid_auto_rows": null,
            "grid_column": null,
            "grid_gap": null,
            "grid_row": null,
            "grid_template_areas": null,
            "grid_template_columns": null,
            "grid_template_rows": null,
            "height": null,
            "justify_content": null,
            "justify_items": null,
            "left": null,
            "margin": null,
            "max_height": null,
            "max_width": null,
            "min_height": null,
            "min_width": null,
            "object_fit": null,
            "object_position": null,
            "order": null,
            "overflow": null,
            "overflow_x": null,
            "overflow_y": null,
            "padding": null,
            "right": null,
            "top": null,
            "visibility": null,
            "width": null
          }
        },
        "fb805a68769d495bad0e134368dbf215": {
          "model_module": "@jupyter-widgets/controls",
          "model_name": "ProgressStyleModel",
          "model_module_version": "1.5.0",
          "state": {
            "_model_module": "@jupyter-widgets/controls",
            "_model_module_version": "1.5.0",
            "_model_name": "ProgressStyleModel",
            "_view_count": null,
            "_view_module": "@jupyter-widgets/base",
            "_view_module_version": "1.2.0",
            "_view_name": "StyleView",
            "bar_color": null,
            "description_width": ""
          }
        },
        "9f561570230540a28103862b2e79e71c": {
          "model_module": "@jupyter-widgets/base",
          "model_name": "LayoutModel",
          "model_module_version": "1.2.0",
          "state": {
            "_model_module": "@jupyter-widgets/base",
            "_model_module_version": "1.2.0",
            "_model_name": "LayoutModel",
            "_view_count": null,
            "_view_module": "@jupyter-widgets/base",
            "_view_module_version": "1.2.0",
            "_view_name": "LayoutView",
            "align_content": null,
            "align_items": null,
            "align_self": null,
            "border": null,
            "bottom": null,
            "display": null,
            "flex": null,
            "flex_flow": null,
            "grid_area": null,
            "grid_auto_columns": null,
            "grid_auto_flow": null,
            "grid_auto_rows": null,
            "grid_column": null,
            "grid_gap": null,
            "grid_row": null,
            "grid_template_areas": null,
            "grid_template_columns": null,
            "grid_template_rows": null,
            "height": null,
            "justify_content": null,
            "justify_items": null,
            "left": null,
            "margin": null,
            "max_height": null,
            "max_width": null,
            "min_height": null,
            "min_width": null,
            "object_fit": null,
            "object_position": null,
            "order": null,
            "overflow": null,
            "overflow_x": null,
            "overflow_y": null,
            "padding": null,
            "right": null,
            "top": null,
            "visibility": null,
            "width": null
          }
        },
        "88afe4b812b04ae5a46788fe40443dec": {
          "model_module": "@jupyter-widgets/controls",
          "model_name": "DescriptionStyleModel",
          "model_module_version": "1.5.0",
          "state": {
            "_model_module": "@jupyter-widgets/controls",
            "_model_module_version": "1.5.0",
            "_model_name": "DescriptionStyleModel",
            "_view_count": null,
            "_view_module": "@jupyter-widgets/base",
            "_view_module_version": "1.2.0",
            "_view_name": "StyleView",
            "description_width": ""
          }
        },
        "ddf6cccab51a421480532ccdb5eaf4bc": {
          "model_module": "@jupyter-widgets/controls",
          "model_name": "HBoxModel",
          "model_module_version": "1.5.0",
          "state": {
            "_dom_classes": [],
            "_model_module": "@jupyter-widgets/controls",
            "_model_module_version": "1.5.0",
            "_model_name": "HBoxModel",
            "_view_count": null,
            "_view_module": "@jupyter-widgets/controls",
            "_view_module_version": "1.5.0",
            "_view_name": "HBoxView",
            "box_style": "",
            "children": [
              "IPY_MODEL_fd4359b0e67e44f1b1d3fd57476790d0",
              "IPY_MODEL_487f7488192e4362882b45d2b93cb4cb",
              "IPY_MODEL_02a8b2652e9d497190ceeb5ee781d1fe"
            ],
            "layout": "IPY_MODEL_717f6b53d44d4d69b464a25b729a3884"
          }
        },
        "fd4359b0e67e44f1b1d3fd57476790d0": {
          "model_module": "@jupyter-widgets/controls",
          "model_name": "HTMLModel",
          "model_module_version": "1.5.0",
          "state": {
            "_dom_classes": [],
            "_model_module": "@jupyter-widgets/controls",
            "_model_module_version": "1.5.0",
            "_model_name": "HTMLModel",
            "_view_count": null,
            "_view_module": "@jupyter-widgets/controls",
            "_view_module_version": "1.5.0",
            "_view_name": "HTMLView",
            "description": "",
            "description_tooltip": null,
            "layout": "IPY_MODEL_582a6dfbbdb04c9d9799f5184f4cfc8b",
            "placeholder": "​",
            "style": "IPY_MODEL_7eec18c98341471f9ab14f21c018dfc1",
            "value": "config.json: 100%"
          }
        },
        "487f7488192e4362882b45d2b93cb4cb": {
          "model_module": "@jupyter-widgets/controls",
          "model_name": "FloatProgressModel",
          "model_module_version": "1.5.0",
          "state": {
            "_dom_classes": [],
            "_model_module": "@jupyter-widgets/controls",
            "_model_module_version": "1.5.0",
            "_model_name": "FloatProgressModel",
            "_view_count": null,
            "_view_module": "@jupyter-widgets/controls",
            "_view_module_version": "1.5.0",
            "_view_name": "ProgressView",
            "bar_style": "success",
            "description": "",
            "description_tooltip": null,
            "layout": "IPY_MODEL_15ba26997b3b41bb991a881cc835323f",
            "max": 1017,
            "min": 0,
            "orientation": "horizontal",
            "style": "IPY_MODEL_c77fd91b424e48e7b7213028150e045f",
            "value": 1017
          }
        },
        "02a8b2652e9d497190ceeb5ee781d1fe": {
          "model_module": "@jupyter-widgets/controls",
          "model_name": "HTMLModel",
          "model_module_version": "1.5.0",
          "state": {
            "_dom_classes": [],
            "_model_module": "@jupyter-widgets/controls",
            "_model_module_version": "1.5.0",
            "_model_name": "HTMLModel",
            "_view_count": null,
            "_view_module": "@jupyter-widgets/controls",
            "_view_module_version": "1.5.0",
            "_view_name": "HTMLView",
            "description": "",
            "description_tooltip": null,
            "layout": "IPY_MODEL_d523dabcb03947a288baf89411e222df",
            "placeholder": "​",
            "style": "IPY_MODEL_222305dfa1f042ce9bedb33dc78e877d",
            "value": " 1.02k/1.02k [00:00&lt;00:00, 81.1kB/s]"
          }
        },
        "717f6b53d44d4d69b464a25b729a3884": {
          "model_module": "@jupyter-widgets/base",
          "model_name": "LayoutModel",
          "model_module_version": "1.2.0",
          "state": {
            "_model_module": "@jupyter-widgets/base",
            "_model_module_version": "1.2.0",
            "_model_name": "LayoutModel",
            "_view_count": null,
            "_view_module": "@jupyter-widgets/base",
            "_view_module_version": "1.2.0",
            "_view_name": "LayoutView",
            "align_content": null,
            "align_items": null,
            "align_self": null,
            "border": null,
            "bottom": null,
            "display": null,
            "flex": null,
            "flex_flow": null,
            "grid_area": null,
            "grid_auto_columns": null,
            "grid_auto_flow": null,
            "grid_auto_rows": null,
            "grid_column": null,
            "grid_gap": null,
            "grid_row": null,
            "grid_template_areas": null,
            "grid_template_columns": null,
            "grid_template_rows": null,
            "height": null,
            "justify_content": null,
            "justify_items": null,
            "left": null,
            "margin": null,
            "max_height": null,
            "max_width": null,
            "min_height": null,
            "min_width": null,
            "object_fit": null,
            "object_position": null,
            "order": null,
            "overflow": null,
            "overflow_x": null,
            "overflow_y": null,
            "padding": null,
            "right": null,
            "top": null,
            "visibility": null,
            "width": null
          }
        },
        "582a6dfbbdb04c9d9799f5184f4cfc8b": {
          "model_module": "@jupyter-widgets/base",
          "model_name": "LayoutModel",
          "model_module_version": "1.2.0",
          "state": {
            "_model_module": "@jupyter-widgets/base",
            "_model_module_version": "1.2.0",
            "_model_name": "LayoutModel",
            "_view_count": null,
            "_view_module": "@jupyter-widgets/base",
            "_view_module_version": "1.2.0",
            "_view_name": "LayoutView",
            "align_content": null,
            "align_items": null,
            "align_self": null,
            "border": null,
            "bottom": null,
            "display": null,
            "flex": null,
            "flex_flow": null,
            "grid_area": null,
            "grid_auto_columns": null,
            "grid_auto_flow": null,
            "grid_auto_rows": null,
            "grid_column": null,
            "grid_gap": null,
            "grid_row": null,
            "grid_template_areas": null,
            "grid_template_columns": null,
            "grid_template_rows": null,
            "height": null,
            "justify_content": null,
            "justify_items": null,
            "left": null,
            "margin": null,
            "max_height": null,
            "max_width": null,
            "min_height": null,
            "min_width": null,
            "object_fit": null,
            "object_position": null,
            "order": null,
            "overflow": null,
            "overflow_x": null,
            "overflow_y": null,
            "padding": null,
            "right": null,
            "top": null,
            "visibility": null,
            "width": null
          }
        },
        "7eec18c98341471f9ab14f21c018dfc1": {
          "model_module": "@jupyter-widgets/controls",
          "model_name": "DescriptionStyleModel",
          "model_module_version": "1.5.0",
          "state": {
            "_model_module": "@jupyter-widgets/controls",
            "_model_module_version": "1.5.0",
            "_model_name": "DescriptionStyleModel",
            "_view_count": null,
            "_view_module": "@jupyter-widgets/base",
            "_view_module_version": "1.2.0",
            "_view_name": "StyleView",
            "description_width": ""
          }
        },
        "15ba26997b3b41bb991a881cc835323f": {
          "model_module": "@jupyter-widgets/base",
          "model_name": "LayoutModel",
          "model_module_version": "1.2.0",
          "state": {
            "_model_module": "@jupyter-widgets/base",
            "_model_module_version": "1.2.0",
            "_model_name": "LayoutModel",
            "_view_count": null,
            "_view_module": "@jupyter-widgets/base",
            "_view_module_version": "1.2.0",
            "_view_name": "LayoutView",
            "align_content": null,
            "align_items": null,
            "align_self": null,
            "border": null,
            "bottom": null,
            "display": null,
            "flex": null,
            "flex_flow": null,
            "grid_area": null,
            "grid_auto_columns": null,
            "grid_auto_flow": null,
            "grid_auto_rows": null,
            "grid_column": null,
            "grid_gap": null,
            "grid_row": null,
            "grid_template_areas": null,
            "grid_template_columns": null,
            "grid_template_rows": null,
            "height": null,
            "justify_content": null,
            "justify_items": null,
            "left": null,
            "margin": null,
            "max_height": null,
            "max_width": null,
            "min_height": null,
            "min_width": null,
            "object_fit": null,
            "object_position": null,
            "order": null,
            "overflow": null,
            "overflow_x": null,
            "overflow_y": null,
            "padding": null,
            "right": null,
            "top": null,
            "visibility": null,
            "width": null
          }
        },
        "c77fd91b424e48e7b7213028150e045f": {
          "model_module": "@jupyter-widgets/controls",
          "model_name": "ProgressStyleModel",
          "model_module_version": "1.5.0",
          "state": {
            "_model_module": "@jupyter-widgets/controls",
            "_model_module_version": "1.5.0",
            "_model_name": "ProgressStyleModel",
            "_view_count": null,
            "_view_module": "@jupyter-widgets/base",
            "_view_module_version": "1.2.0",
            "_view_name": "StyleView",
            "bar_color": null,
            "description_width": ""
          }
        },
        "d523dabcb03947a288baf89411e222df": {
          "model_module": "@jupyter-widgets/base",
          "model_name": "LayoutModel",
          "model_module_version": "1.2.0",
          "state": {
            "_model_module": "@jupyter-widgets/base",
            "_model_module_version": "1.2.0",
            "_model_name": "LayoutModel",
            "_view_count": null,
            "_view_module": "@jupyter-widgets/base",
            "_view_module_version": "1.2.0",
            "_view_name": "LayoutView",
            "align_content": null,
            "align_items": null,
            "align_self": null,
            "border": null,
            "bottom": null,
            "display": null,
            "flex": null,
            "flex_flow": null,
            "grid_area": null,
            "grid_auto_columns": null,
            "grid_auto_flow": null,
            "grid_auto_rows": null,
            "grid_column": null,
            "grid_gap": null,
            "grid_row": null,
            "grid_template_areas": null,
            "grid_template_columns": null,
            "grid_template_rows": null,
            "height": null,
            "justify_content": null,
            "justify_items": null,
            "left": null,
            "margin": null,
            "max_height": null,
            "max_width": null,
            "min_height": null,
            "min_width": null,
            "object_fit": null,
            "object_position": null,
            "order": null,
            "overflow": null,
            "overflow_x": null,
            "overflow_y": null,
            "padding": null,
            "right": null,
            "top": null,
            "visibility": null,
            "width": null
          }
        },
        "222305dfa1f042ce9bedb33dc78e877d": {
          "model_module": "@jupyter-widgets/controls",
          "model_name": "DescriptionStyleModel",
          "model_module_version": "1.5.0",
          "state": {
            "_model_module": "@jupyter-widgets/controls",
            "_model_module_version": "1.5.0",
            "_model_name": "DescriptionStyleModel",
            "_view_count": null,
            "_view_module": "@jupyter-widgets/base",
            "_view_module_version": "1.2.0",
            "_view_name": "StyleView",
            "description_width": ""
          }
        },
        "c85f921259a844a382aba4768ff17e08": {
          "model_module": "@jupyter-widgets/controls",
          "model_name": "HBoxModel",
          "model_module_version": "1.5.0",
          "state": {
            "_dom_classes": [],
            "_model_module": "@jupyter-widgets/controls",
            "_model_module_version": "1.5.0",
            "_model_name": "HBoxModel",
            "_view_count": null,
            "_view_module": "@jupyter-widgets/controls",
            "_view_module_version": "1.5.0",
            "_view_name": "HBoxView",
            "box_style": "",
            "children": [
              "IPY_MODEL_099948dbf74f48b28bf20961f2464061",
              "IPY_MODEL_016445560c9840cfab3a5047ce932cc6",
              "IPY_MODEL_5a185a8140964c58a632396335c3dbe9"
            ],
            "layout": "IPY_MODEL_2a4f1a5ec8414059a3e164c59c93cf83"
          }
        },
        "099948dbf74f48b28bf20961f2464061": {
          "model_module": "@jupyter-widgets/controls",
          "model_name": "HTMLModel",
          "model_module_version": "1.5.0",
          "state": {
            "_dom_classes": [],
            "_model_module": "@jupyter-widgets/controls",
            "_model_module_version": "1.5.0",
            "_model_name": "HTMLModel",
            "_view_count": null,
            "_view_module": "@jupyter-widgets/controls",
            "_view_module_version": "1.5.0",
            "_view_name": "HTMLView",
            "description": "",
            "description_tooltip": null,
            "layout": "IPY_MODEL_44b743b09ad040ce96a66cc23da80320",
            "placeholder": "​",
            "style": "IPY_MODEL_327b734226724d479a24f46760519c34",
            "value": "vocab.txt: 100%"
          }
        },
        "016445560c9840cfab3a5047ce932cc6": {
          "model_module": "@jupyter-widgets/controls",
          "model_name": "FloatProgressModel",
          "model_module_version": "1.5.0",
          "state": {
            "_dom_classes": [],
            "_model_module": "@jupyter-widgets/controls",
            "_model_module_version": "1.5.0",
            "_model_name": "FloatProgressModel",
            "_view_count": null,
            "_view_module": "@jupyter-widgets/controls",
            "_view_module_version": "1.5.0",
            "_view_name": "ProgressView",
            "bar_style": "success",
            "description": "",
            "description_tooltip": null,
            "layout": "IPY_MODEL_e500c5c682d44afd862f855f0a85d6ed",
            "max": 221793,
            "min": 0,
            "orientation": "horizontal",
            "style": "IPY_MODEL_42dc2da252d843e1acf077c2f4e2d09a",
            "value": 221793
          }
        },
        "5a185a8140964c58a632396335c3dbe9": {
          "model_module": "@jupyter-widgets/controls",
          "model_name": "HTMLModel",
          "model_module_version": "1.5.0",
          "state": {
            "_dom_classes": [],
            "_model_module": "@jupyter-widgets/controls",
            "_model_module_version": "1.5.0",
            "_model_name": "HTMLModel",
            "_view_count": null,
            "_view_module": "@jupyter-widgets/controls",
            "_view_module_version": "1.5.0",
            "_view_name": "HTMLView",
            "description": "",
            "description_tooltip": null,
            "layout": "IPY_MODEL_69801539830f479695ba928da8d75903",
            "placeholder": "​",
            "style": "IPY_MODEL_e8fab7f5ad114499b76de1479c8d4f47",
            "value": " 222k/222k [00:00&lt;00:00, 1.23MB/s]"
          }
        },
        "2a4f1a5ec8414059a3e164c59c93cf83": {
          "model_module": "@jupyter-widgets/base",
          "model_name": "LayoutModel",
          "model_module_version": "1.2.0",
          "state": {
            "_model_module": "@jupyter-widgets/base",
            "_model_module_version": "1.2.0",
            "_model_name": "LayoutModel",
            "_view_count": null,
            "_view_module": "@jupyter-widgets/base",
            "_view_module_version": "1.2.0",
            "_view_name": "LayoutView",
            "align_content": null,
            "align_items": null,
            "align_self": null,
            "border": null,
            "bottom": null,
            "display": null,
            "flex": null,
            "flex_flow": null,
            "grid_area": null,
            "grid_auto_columns": null,
            "grid_auto_flow": null,
            "grid_auto_rows": null,
            "grid_column": null,
            "grid_gap": null,
            "grid_row": null,
            "grid_template_areas": null,
            "grid_template_columns": null,
            "grid_template_rows": null,
            "height": null,
            "justify_content": null,
            "justify_items": null,
            "left": null,
            "margin": null,
            "max_height": null,
            "max_width": null,
            "min_height": null,
            "min_width": null,
            "object_fit": null,
            "object_position": null,
            "order": null,
            "overflow": null,
            "overflow_x": null,
            "overflow_y": null,
            "padding": null,
            "right": null,
            "top": null,
            "visibility": null,
            "width": null
          }
        },
        "44b743b09ad040ce96a66cc23da80320": {
          "model_module": "@jupyter-widgets/base",
          "model_name": "LayoutModel",
          "model_module_version": "1.2.0",
          "state": {
            "_model_module": "@jupyter-widgets/base",
            "_model_module_version": "1.2.0",
            "_model_name": "LayoutModel",
            "_view_count": null,
            "_view_module": "@jupyter-widgets/base",
            "_view_module_version": "1.2.0",
            "_view_name": "LayoutView",
            "align_content": null,
            "align_items": null,
            "align_self": null,
            "border": null,
            "bottom": null,
            "display": null,
            "flex": null,
            "flex_flow": null,
            "grid_area": null,
            "grid_auto_columns": null,
            "grid_auto_flow": null,
            "grid_auto_rows": null,
            "grid_column": null,
            "grid_gap": null,
            "grid_row": null,
            "grid_template_areas": null,
            "grid_template_columns": null,
            "grid_template_rows": null,
            "height": null,
            "justify_content": null,
            "justify_items": null,
            "left": null,
            "margin": null,
            "max_height": null,
            "max_width": null,
            "min_height": null,
            "min_width": null,
            "object_fit": null,
            "object_position": null,
            "order": null,
            "overflow": null,
            "overflow_x": null,
            "overflow_y": null,
            "padding": null,
            "right": null,
            "top": null,
            "visibility": null,
            "width": null
          }
        },
        "327b734226724d479a24f46760519c34": {
          "model_module": "@jupyter-widgets/controls",
          "model_name": "DescriptionStyleModel",
          "model_module_version": "1.5.0",
          "state": {
            "_model_module": "@jupyter-widgets/controls",
            "_model_module_version": "1.5.0",
            "_model_name": "DescriptionStyleModel",
            "_view_count": null,
            "_view_module": "@jupyter-widgets/base",
            "_view_module_version": "1.2.0",
            "_view_name": "StyleView",
            "description_width": ""
          }
        },
        "e500c5c682d44afd862f855f0a85d6ed": {
          "model_module": "@jupyter-widgets/base",
          "model_name": "LayoutModel",
          "model_module_version": "1.2.0",
          "state": {
            "_model_module": "@jupyter-widgets/base",
            "_model_module_version": "1.2.0",
            "_model_name": "LayoutModel",
            "_view_count": null,
            "_view_module": "@jupyter-widgets/base",
            "_view_module_version": "1.2.0",
            "_view_name": "LayoutView",
            "align_content": null,
            "align_items": null,
            "align_self": null,
            "border": null,
            "bottom": null,
            "display": null,
            "flex": null,
            "flex_flow": null,
            "grid_area": null,
            "grid_auto_columns": null,
            "grid_auto_flow": null,
            "grid_auto_rows": null,
            "grid_column": null,
            "grid_gap": null,
            "grid_row": null,
            "grid_template_areas": null,
            "grid_template_columns": null,
            "grid_template_rows": null,
            "height": null,
            "justify_content": null,
            "justify_items": null,
            "left": null,
            "margin": null,
            "max_height": null,
            "max_width": null,
            "min_height": null,
            "min_width": null,
            "object_fit": null,
            "object_position": null,
            "order": null,
            "overflow": null,
            "overflow_x": null,
            "overflow_y": null,
            "padding": null,
            "right": null,
            "top": null,
            "visibility": null,
            "width": null
          }
        },
        "42dc2da252d843e1acf077c2f4e2d09a": {
          "model_module": "@jupyter-widgets/controls",
          "model_name": "ProgressStyleModel",
          "model_module_version": "1.5.0",
          "state": {
            "_model_module": "@jupyter-widgets/controls",
            "_model_module_version": "1.5.0",
            "_model_name": "ProgressStyleModel",
            "_view_count": null,
            "_view_module": "@jupyter-widgets/base",
            "_view_module_version": "1.2.0",
            "_view_name": "StyleView",
            "bar_color": null,
            "description_width": ""
          }
        },
        "69801539830f479695ba928da8d75903": {
          "model_module": "@jupyter-widgets/base",
          "model_name": "LayoutModel",
          "model_module_version": "1.2.0",
          "state": {
            "_model_module": "@jupyter-widgets/base",
            "_model_module_version": "1.2.0",
            "_model_name": "LayoutModel",
            "_view_count": null,
            "_view_module": "@jupyter-widgets/base",
            "_view_module_version": "1.2.0",
            "_view_name": "LayoutView",
            "align_content": null,
            "align_items": null,
            "align_self": null,
            "border": null,
            "bottom": null,
            "display": null,
            "flex": null,
            "flex_flow": null,
            "grid_area": null,
            "grid_auto_columns": null,
            "grid_auto_flow": null,
            "grid_auto_rows": null,
            "grid_column": null,
            "grid_gap": null,
            "grid_row": null,
            "grid_template_areas": null,
            "grid_template_columns": null,
            "grid_template_rows": null,
            "height": null,
            "justify_content": null,
            "justify_items": null,
            "left": null,
            "margin": null,
            "max_height": null,
            "max_width": null,
            "min_height": null,
            "min_width": null,
            "object_fit": null,
            "object_position": null,
            "order": null,
            "overflow": null,
            "overflow_x": null,
            "overflow_y": null,
            "padding": null,
            "right": null,
            "top": null,
            "visibility": null,
            "width": null
          }
        },
        "e8fab7f5ad114499b76de1479c8d4f47": {
          "model_module": "@jupyter-widgets/controls",
          "model_name": "DescriptionStyleModel",
          "model_module_version": "1.5.0",
          "state": {
            "_model_module": "@jupyter-widgets/controls",
            "_model_module_version": "1.5.0",
            "_model_name": "DescriptionStyleModel",
            "_view_count": null,
            "_view_module": "@jupyter-widgets/base",
            "_view_module_version": "1.2.0",
            "_view_name": "StyleView",
            "description_width": ""
          }
        },
        "798f653215074dd1ae4b00ca47cd5cdf": {
          "model_module": "@jupyter-widgets/controls",
          "model_name": "HBoxModel",
          "model_module_version": "1.5.0",
          "state": {
            "_dom_classes": [],
            "_model_module": "@jupyter-widgets/controls",
            "_model_module_version": "1.5.0",
            "_model_name": "HBoxModel",
            "_view_count": null,
            "_view_module": "@jupyter-widgets/controls",
            "_view_module_version": "1.5.0",
            "_view_name": "HBoxView",
            "box_style": "",
            "children": [
              "IPY_MODEL_c8b85e0d25c94ecdaa1d0035763655ed",
              "IPY_MODEL_3851bb49983845709ce15b5431aeff58",
              "IPY_MODEL_d0febc5cd6974c1ea5a32626fb09f3a2"
            ],
            "layout": "IPY_MODEL_0347385d989542969a1ba9fe742840fa"
          }
        },
        "c8b85e0d25c94ecdaa1d0035763655ed": {
          "model_module": "@jupyter-widgets/controls",
          "model_name": "HTMLModel",
          "model_module_version": "1.5.0",
          "state": {
            "_dom_classes": [],
            "_model_module": "@jupyter-widgets/controls",
            "_model_module_version": "1.5.0",
            "_model_name": "HTMLModel",
            "_view_count": null,
            "_view_module": "@jupyter-widgets/controls",
            "_view_module_version": "1.5.0",
            "_view_name": "HTMLView",
            "description": "",
            "description_tooltip": null,
            "layout": "IPY_MODEL_a5197e8106464e7d95cd0e3a4eea2438",
            "placeholder": "​",
            "style": "IPY_MODEL_031466c4f5c140ca825cead5a97e5953",
            "value": "special_tokens_map.json: 100%"
          }
        },
        "3851bb49983845709ce15b5431aeff58": {
          "model_module": "@jupyter-widgets/controls",
          "model_name": "FloatProgressModel",
          "model_module_version": "1.5.0",
          "state": {
            "_dom_classes": [],
            "_model_module": "@jupyter-widgets/controls",
            "_model_module_version": "1.5.0",
            "_model_name": "FloatProgressModel",
            "_view_count": null,
            "_view_module": "@jupyter-widgets/controls",
            "_view_module_version": "1.5.0",
            "_view_name": "ProgressView",
            "bar_style": "success",
            "description": "",
            "description_tooltip": null,
            "layout": "IPY_MODEL_d19f8f535c014efc91d31a5f6ffd305f",
            "max": 112,
            "min": 0,
            "orientation": "horizontal",
            "style": "IPY_MODEL_e202b97c39934b3fb73479c5d828856f",
            "value": 112
          }
        },
        "d0febc5cd6974c1ea5a32626fb09f3a2": {
          "model_module": "@jupyter-widgets/controls",
          "model_name": "HTMLModel",
          "model_module_version": "1.5.0",
          "state": {
            "_dom_classes": [],
            "_model_module": "@jupyter-widgets/controls",
            "_model_module_version": "1.5.0",
            "_model_name": "HTMLModel",
            "_view_count": null,
            "_view_module": "@jupyter-widgets/controls",
            "_view_module_version": "1.5.0",
            "_view_name": "HTMLView",
            "description": "",
            "description_tooltip": null,
            "layout": "IPY_MODEL_2258fe72646d4e5abe0c7b46824fb01f",
            "placeholder": "​",
            "style": "IPY_MODEL_e5702618bab34dd0825b62c7f7e494f5",
            "value": " 112/112 [00:00&lt;00:00, 9.01kB/s]"
          }
        },
        "0347385d989542969a1ba9fe742840fa": {
          "model_module": "@jupyter-widgets/base",
          "model_name": "LayoutModel",
          "model_module_version": "1.2.0",
          "state": {
            "_model_module": "@jupyter-widgets/base",
            "_model_module_version": "1.2.0",
            "_model_name": "LayoutModel",
            "_view_count": null,
            "_view_module": "@jupyter-widgets/base",
            "_view_module_version": "1.2.0",
            "_view_name": "LayoutView",
            "align_content": null,
            "align_items": null,
            "align_self": null,
            "border": null,
            "bottom": null,
            "display": null,
            "flex": null,
            "flex_flow": null,
            "grid_area": null,
            "grid_auto_columns": null,
            "grid_auto_flow": null,
            "grid_auto_rows": null,
            "grid_column": null,
            "grid_gap": null,
            "grid_row": null,
            "grid_template_areas": null,
            "grid_template_columns": null,
            "grid_template_rows": null,
            "height": null,
            "justify_content": null,
            "justify_items": null,
            "left": null,
            "margin": null,
            "max_height": null,
            "max_width": null,
            "min_height": null,
            "min_width": null,
            "object_fit": null,
            "object_position": null,
            "order": null,
            "overflow": null,
            "overflow_x": null,
            "overflow_y": null,
            "padding": null,
            "right": null,
            "top": null,
            "visibility": null,
            "width": null
          }
        },
        "a5197e8106464e7d95cd0e3a4eea2438": {
          "model_module": "@jupyter-widgets/base",
          "model_name": "LayoutModel",
          "model_module_version": "1.2.0",
          "state": {
            "_model_module": "@jupyter-widgets/base",
            "_model_module_version": "1.2.0",
            "_model_name": "LayoutModel",
            "_view_count": null,
            "_view_module": "@jupyter-widgets/base",
            "_view_module_version": "1.2.0",
            "_view_name": "LayoutView",
            "align_content": null,
            "align_items": null,
            "align_self": null,
            "border": null,
            "bottom": null,
            "display": null,
            "flex": null,
            "flex_flow": null,
            "grid_area": null,
            "grid_auto_columns": null,
            "grid_auto_flow": null,
            "grid_auto_rows": null,
            "grid_column": null,
            "grid_gap": null,
            "grid_row": null,
            "grid_template_areas": null,
            "grid_template_columns": null,
            "grid_template_rows": null,
            "height": null,
            "justify_content": null,
            "justify_items": null,
            "left": null,
            "margin": null,
            "max_height": null,
            "max_width": null,
            "min_height": null,
            "min_width": null,
            "object_fit": null,
            "object_position": null,
            "order": null,
            "overflow": null,
            "overflow_x": null,
            "overflow_y": null,
            "padding": null,
            "right": null,
            "top": null,
            "visibility": null,
            "width": null
          }
        },
        "031466c4f5c140ca825cead5a97e5953": {
          "model_module": "@jupyter-widgets/controls",
          "model_name": "DescriptionStyleModel",
          "model_module_version": "1.5.0",
          "state": {
            "_model_module": "@jupyter-widgets/controls",
            "_model_module_version": "1.5.0",
            "_model_name": "DescriptionStyleModel",
            "_view_count": null,
            "_view_module": "@jupyter-widgets/base",
            "_view_module_version": "1.2.0",
            "_view_name": "StyleView",
            "description_width": ""
          }
        },
        "d19f8f535c014efc91d31a5f6ffd305f": {
          "model_module": "@jupyter-widgets/base",
          "model_name": "LayoutModel",
          "model_module_version": "1.2.0",
          "state": {
            "_model_module": "@jupyter-widgets/base",
            "_model_module_version": "1.2.0",
            "_model_name": "LayoutModel",
            "_view_count": null,
            "_view_module": "@jupyter-widgets/base",
            "_view_module_version": "1.2.0",
            "_view_name": "LayoutView",
            "align_content": null,
            "align_items": null,
            "align_self": null,
            "border": null,
            "bottom": null,
            "display": null,
            "flex": null,
            "flex_flow": null,
            "grid_area": null,
            "grid_auto_columns": null,
            "grid_auto_flow": null,
            "grid_auto_rows": null,
            "grid_column": null,
            "grid_gap": null,
            "grid_row": null,
            "grid_template_areas": null,
            "grid_template_columns": null,
            "grid_template_rows": null,
            "height": null,
            "justify_content": null,
            "justify_items": null,
            "left": null,
            "margin": null,
            "max_height": null,
            "max_width": null,
            "min_height": null,
            "min_width": null,
            "object_fit": null,
            "object_position": null,
            "order": null,
            "overflow": null,
            "overflow_x": null,
            "overflow_y": null,
            "padding": null,
            "right": null,
            "top": null,
            "visibility": null,
            "width": null
          }
        },
        "e202b97c39934b3fb73479c5d828856f": {
          "model_module": "@jupyter-widgets/controls",
          "model_name": "ProgressStyleModel",
          "model_module_version": "1.5.0",
          "state": {
            "_model_module": "@jupyter-widgets/controls",
            "_model_module_version": "1.5.0",
            "_model_name": "ProgressStyleModel",
            "_view_count": null,
            "_view_module": "@jupyter-widgets/base",
            "_view_module_version": "1.2.0",
            "_view_name": "StyleView",
            "bar_color": null,
            "description_width": ""
          }
        },
        "2258fe72646d4e5abe0c7b46824fb01f": {
          "model_module": "@jupyter-widgets/base",
          "model_name": "LayoutModel",
          "model_module_version": "1.2.0",
          "state": {
            "_model_module": "@jupyter-widgets/base",
            "_model_module_version": "1.2.0",
            "_model_name": "LayoutModel",
            "_view_count": null,
            "_view_module": "@jupyter-widgets/base",
            "_view_module_version": "1.2.0",
            "_view_name": "LayoutView",
            "align_content": null,
            "align_items": null,
            "align_self": null,
            "border": null,
            "bottom": null,
            "display": null,
            "flex": null,
            "flex_flow": null,
            "grid_area": null,
            "grid_auto_columns": null,
            "grid_auto_flow": null,
            "grid_auto_rows": null,
            "grid_column": null,
            "grid_gap": null,
            "grid_row": null,
            "grid_template_areas": null,
            "grid_template_columns": null,
            "grid_template_rows": null,
            "height": null,
            "justify_content": null,
            "justify_items": null,
            "left": null,
            "margin": null,
            "max_height": null,
            "max_width": null,
            "min_height": null,
            "min_width": null,
            "object_fit": null,
            "object_position": null,
            "order": null,
            "overflow": null,
            "overflow_x": null,
            "overflow_y": null,
            "padding": null,
            "right": null,
            "top": null,
            "visibility": null,
            "width": null
          }
        },
        "e5702618bab34dd0825b62c7f7e494f5": {
          "model_module": "@jupyter-widgets/controls",
          "model_name": "DescriptionStyleModel",
          "model_module_version": "1.5.0",
          "state": {
            "_model_module": "@jupyter-widgets/controls",
            "_model_module_version": "1.5.0",
            "_model_name": "DescriptionStyleModel",
            "_view_count": null,
            "_view_module": "@jupyter-widgets/base",
            "_view_module_version": "1.2.0",
            "_view_name": "StyleView",
            "description_width": ""
          }
        },
        "c79af4e6225c492aa0409391f4bba360": {
          "model_module": "@jupyter-widgets/controls",
          "model_name": "HBoxModel",
          "model_module_version": "1.5.0",
          "state": {
            "_dom_classes": [],
            "_model_module": "@jupyter-widgets/controls",
            "_model_module_version": "1.5.0",
            "_model_name": "HBoxModel",
            "_view_count": null,
            "_view_module": "@jupyter-widgets/controls",
            "_view_module_version": "1.5.0",
            "_view_name": "HBoxView",
            "box_style": "",
            "children": [
              "IPY_MODEL_2d61e71336a147e7942ee9389a01bf02",
              "IPY_MODEL_a1fc5e55274142caad86dafa5f258fe6",
              "IPY_MODEL_d97017a9bba64f379cee126b1c0071f0"
            ],
            "layout": "IPY_MODEL_206afe2cc2fb4d9f9fd02e7e2d88dcef"
          }
        },
        "2d61e71336a147e7942ee9389a01bf02": {
          "model_module": "@jupyter-widgets/controls",
          "model_name": "HTMLModel",
          "model_module_version": "1.5.0",
          "state": {
            "_dom_classes": [],
            "_model_module": "@jupyter-widgets/controls",
            "_model_module_version": "1.5.0",
            "_model_name": "HTMLModel",
            "_view_count": null,
            "_view_module": "@jupyter-widgets/controls",
            "_view_module_version": "1.5.0",
            "_view_name": "HTMLView",
            "description": "",
            "description_tooltip": null,
            "layout": "IPY_MODEL_2e198effc98647ac89a6a8999653be1b",
            "placeholder": "​",
            "style": "IPY_MODEL_03f69a3faee04474a31706723c875944",
            "value": "pytorch_model.bin: 100%"
          }
        },
        "a1fc5e55274142caad86dafa5f258fe6": {
          "model_module": "@jupyter-widgets/controls",
          "model_name": "FloatProgressModel",
          "model_module_version": "1.5.0",
          "state": {
            "_dom_classes": [],
            "_model_module": "@jupyter-widgets/controls",
            "_model_module_version": "1.5.0",
            "_model_name": "FloatProgressModel",
            "_view_count": null,
            "_view_module": "@jupyter-widgets/controls",
            "_view_module_version": "1.5.0",
            "_view_name": "ProgressView",
            "bar_style": "success",
            "description": "",
            "description_tooltip": null,
            "layout": "IPY_MODEL_d5d04b6d3ff34cef8b0e70c118f9fc22",
            "max": 440474526,
            "min": 0,
            "orientation": "horizontal",
            "style": "IPY_MODEL_9241f12600cf4211b0eb6f412e8935bb",
            "value": 440474526
          }
        },
        "d97017a9bba64f379cee126b1c0071f0": {
          "model_module": "@jupyter-widgets/controls",
          "model_name": "HTMLModel",
          "model_module_version": "1.5.0",
          "state": {
            "_dom_classes": [],
            "_model_module": "@jupyter-widgets/controls",
            "_model_module_version": "1.5.0",
            "_model_name": "HTMLModel",
            "_view_count": null,
            "_view_module": "@jupyter-widgets/controls",
            "_view_module_version": "1.5.0",
            "_view_name": "HTMLView",
            "description": "",
            "description_tooltip": null,
            "layout": "IPY_MODEL_b4fe2bf1a7474afcaf0b6d5d23d48d29",
            "placeholder": "​",
            "style": "IPY_MODEL_8036a97606db4ba1a01cc319ed3746a2",
            "value": " 440M/440M [00:20&lt;00:00, 23.6MB/s]"
          }
        },
        "206afe2cc2fb4d9f9fd02e7e2d88dcef": {
          "model_module": "@jupyter-widgets/base",
          "model_name": "LayoutModel",
          "model_module_version": "1.2.0",
          "state": {
            "_model_module": "@jupyter-widgets/base",
            "_model_module_version": "1.2.0",
            "_model_name": "LayoutModel",
            "_view_count": null,
            "_view_module": "@jupyter-widgets/base",
            "_view_module_version": "1.2.0",
            "_view_name": "LayoutView",
            "align_content": null,
            "align_items": null,
            "align_self": null,
            "border": null,
            "bottom": null,
            "display": null,
            "flex": null,
            "flex_flow": null,
            "grid_area": null,
            "grid_auto_columns": null,
            "grid_auto_flow": null,
            "grid_auto_rows": null,
            "grid_column": null,
            "grid_gap": null,
            "grid_row": null,
            "grid_template_areas": null,
            "grid_template_columns": null,
            "grid_template_rows": null,
            "height": null,
            "justify_content": null,
            "justify_items": null,
            "left": null,
            "margin": null,
            "max_height": null,
            "max_width": null,
            "min_height": null,
            "min_width": null,
            "object_fit": null,
            "object_position": null,
            "order": null,
            "overflow": null,
            "overflow_x": null,
            "overflow_y": null,
            "padding": null,
            "right": null,
            "top": null,
            "visibility": null,
            "width": null
          }
        },
        "2e198effc98647ac89a6a8999653be1b": {
          "model_module": "@jupyter-widgets/base",
          "model_name": "LayoutModel",
          "model_module_version": "1.2.0",
          "state": {
            "_model_module": "@jupyter-widgets/base",
            "_model_module_version": "1.2.0",
            "_model_name": "LayoutModel",
            "_view_count": null,
            "_view_module": "@jupyter-widgets/base",
            "_view_module_version": "1.2.0",
            "_view_name": "LayoutView",
            "align_content": null,
            "align_items": null,
            "align_self": null,
            "border": null,
            "bottom": null,
            "display": null,
            "flex": null,
            "flex_flow": null,
            "grid_area": null,
            "grid_auto_columns": null,
            "grid_auto_flow": null,
            "grid_auto_rows": null,
            "grid_column": null,
            "grid_gap": null,
            "grid_row": null,
            "grid_template_areas": null,
            "grid_template_columns": null,
            "grid_template_rows": null,
            "height": null,
            "justify_content": null,
            "justify_items": null,
            "left": null,
            "margin": null,
            "max_height": null,
            "max_width": null,
            "min_height": null,
            "min_width": null,
            "object_fit": null,
            "object_position": null,
            "order": null,
            "overflow": null,
            "overflow_x": null,
            "overflow_y": null,
            "padding": null,
            "right": null,
            "top": null,
            "visibility": null,
            "width": null
          }
        },
        "03f69a3faee04474a31706723c875944": {
          "model_module": "@jupyter-widgets/controls",
          "model_name": "DescriptionStyleModel",
          "model_module_version": "1.5.0",
          "state": {
            "_model_module": "@jupyter-widgets/controls",
            "_model_module_version": "1.5.0",
            "_model_name": "DescriptionStyleModel",
            "_view_count": null,
            "_view_module": "@jupyter-widgets/base",
            "_view_module_version": "1.2.0",
            "_view_name": "StyleView",
            "description_width": ""
          }
        },
        "d5d04b6d3ff34cef8b0e70c118f9fc22": {
          "model_module": "@jupyter-widgets/base",
          "model_name": "LayoutModel",
          "model_module_version": "1.2.0",
          "state": {
            "_model_module": "@jupyter-widgets/base",
            "_model_module_version": "1.2.0",
            "_model_name": "LayoutModel",
            "_view_count": null,
            "_view_module": "@jupyter-widgets/base",
            "_view_module_version": "1.2.0",
            "_view_name": "LayoutView",
            "align_content": null,
            "align_items": null,
            "align_self": null,
            "border": null,
            "bottom": null,
            "display": null,
            "flex": null,
            "flex_flow": null,
            "grid_area": null,
            "grid_auto_columns": null,
            "grid_auto_flow": null,
            "grid_auto_rows": null,
            "grid_column": null,
            "grid_gap": null,
            "grid_row": null,
            "grid_template_areas": null,
            "grid_template_columns": null,
            "grid_template_rows": null,
            "height": null,
            "justify_content": null,
            "justify_items": null,
            "left": null,
            "margin": null,
            "max_height": null,
            "max_width": null,
            "min_height": null,
            "min_width": null,
            "object_fit": null,
            "object_position": null,
            "order": null,
            "overflow": null,
            "overflow_x": null,
            "overflow_y": null,
            "padding": null,
            "right": null,
            "top": null,
            "visibility": null,
            "width": null
          }
        },
        "9241f12600cf4211b0eb6f412e8935bb": {
          "model_module": "@jupyter-widgets/controls",
          "model_name": "ProgressStyleModel",
          "model_module_version": "1.5.0",
          "state": {
            "_model_module": "@jupyter-widgets/controls",
            "_model_module_version": "1.5.0",
            "_model_name": "ProgressStyleModel",
            "_view_count": null,
            "_view_module": "@jupyter-widgets/base",
            "_view_module_version": "1.2.0",
            "_view_name": "StyleView",
            "bar_color": null,
            "description_width": ""
          }
        },
        "b4fe2bf1a7474afcaf0b6d5d23d48d29": {
          "model_module": "@jupyter-widgets/base",
          "model_name": "LayoutModel",
          "model_module_version": "1.2.0",
          "state": {
            "_model_module": "@jupyter-widgets/base",
            "_model_module_version": "1.2.0",
            "_model_name": "LayoutModel",
            "_view_count": null,
            "_view_module": "@jupyter-widgets/base",
            "_view_module_version": "1.2.0",
            "_view_name": "LayoutView",
            "align_content": null,
            "align_items": null,
            "align_self": null,
            "border": null,
            "bottom": null,
            "display": null,
            "flex": null,
            "flex_flow": null,
            "grid_area": null,
            "grid_auto_columns": null,
            "grid_auto_flow": null,
            "grid_auto_rows": null,
            "grid_column": null,
            "grid_gap": null,
            "grid_row": null,
            "grid_template_areas": null,
            "grid_template_columns": null,
            "grid_template_rows": null,
            "height": null,
            "justify_content": null,
            "justify_items": null,
            "left": null,
            "margin": null,
            "max_height": null,
            "max_width": null,
            "min_height": null,
            "min_width": null,
            "object_fit": null,
            "object_position": null,
            "order": null,
            "overflow": null,
            "overflow_x": null,
            "overflow_y": null,
            "padding": null,
            "right": null,
            "top": null,
            "visibility": null,
            "width": null
          }
        },
        "8036a97606db4ba1a01cc319ed3746a2": {
          "model_module": "@jupyter-widgets/controls",
          "model_name": "DescriptionStyleModel",
          "model_module_version": "1.5.0",
          "state": {
            "_model_module": "@jupyter-widgets/controls",
            "_model_module_version": "1.5.0",
            "_model_name": "DescriptionStyleModel",
            "_view_count": null,
            "_view_module": "@jupyter-widgets/base",
            "_view_module_version": "1.2.0",
            "_view_name": "StyleView",
            "description_width": ""
          }
        }
      }
    }
  },
  "cells": [
    {
      "cell_type": "markdown",
      "metadata": {
        "id": "view-in-github",
        "colab_type": "text"
      },
      "source": [
        "<a href=\"https://colab.research.google.com/github/tubagokhan/RegNLPDataset/blob/main/RIRAGEvaluationMetricFull.ipynb\" target=\"_parent\"><img src=\"https://colab.research.google.com/assets/colab-badge.svg\" alt=\"Open In Colab\"/></a>"
      ]
    },
    {
      "cell_type": "code",
      "execution_count": 1,
      "metadata": {
        "colab": {
          "base_uri": "https://localhost:8080/"
        },
        "id": "yy0CGGYh9NPI",
        "outputId": "dd68db06-b7ae-4e8d-845c-fc95d6cf9ef5"
      },
      "outputs": [
        {
          "output_type": "stream",
          "name": "stdout",
          "text": [
            "Downloading...\n",
            "From: https://drive.google.com/uc?id=1BB21XL5geQ0Uw6gk0_uRFk6tthPQ0vSh\n",
            "To: /content/ObligationClassificationDataset.json\n",
            "100% 545k/545k [00:00<00:00, 114MB/s]\n",
            "Downloading...\n",
            "From: https://drive.google.com/uc?id=1BGb3EYmhmTMVx3qTihCBpUrJ3WO2lM8H\n",
            "To: /content/selected_test_samples.json\n",
            "100% 135k/135k [00:00<00:00, 120MB/s]\n"
          ]
        }
      ],
      "source": [
        "!gdown 1BB21XL5geQ0Uw6gk0_uRFk6tthPQ0vSh\n",
        "!gdown 1BGb3EYmhmTMVx3qTihCBpUrJ3WO2lM8H"
      ]
    },
    {
      "cell_type": "code",
      "source": [
        "import json\n",
        "import torch\n",
        "from torch.utils.data import Dataset\n",
        "from transformers import AutoTokenizer, AutoModelForSequenceClassification, Trainer, TrainingArguments, EarlyStoppingCallback\n",
        "from sklearn.model_selection import train_test_split\n",
        "from sklearn.metrics import accuracy_score, precision_recall_fscore_support\n",
        "\n",
        "# Check if CUDA is available and use it if possible\n",
        "device = torch.device(\"cuda\" if torch.cuda.is_available() else \"cpu\")\n",
        "print(f\"Using device: {device}\")\n",
        "\n",
        "# Step 1: Load and preprocess the data\n",
        "json_path = \"./ObligationClassificationDataset.json\"\n",
        "with open(json_path, 'r') as file:\n",
        "    data = json.load(file)\n",
        "\n",
        "texts = [item['Text'] for item in data]\n",
        "labels = [1 if item['Obligation'] else 0 for item in data]  # Converting True/False to 1/0\n",
        "\n",
        "# Step 2: Tokenization using LegalBERT tokenizer\n",
        "tokenizer = AutoTokenizer.from_pretrained('nlpaueb/legal-bert-base-uncased')\n",
        "\n",
        "class ObligationDataset(Dataset):\n",
        "    def __init__(self, texts, labels, tokenizer, max_len=128):\n",
        "        self.texts = texts\n",
        "        self.labels = labels\n",
        "        self.tokenizer = tokenizer\n",
        "        self.max_len = max_len\n",
        "\n",
        "    def __len__(self):\n",
        "        return len(self.texts)\n",
        "\n",
        "    def __getitem__(self, idx):\n",
        "        text = self.texts[idx]\n",
        "        label = self.labels[idx]\n",
        "        encoding = self.tokenizer.encode_plus(\n",
        "            text,\n",
        "            add_special_tokens=True,\n",
        "            max_length=self.max_len,\n",
        "            return_token_type_ids=False,\n",
        "            truncation=True,\n",
        "            padding='max_length',\n",
        "            return_attention_mask=True,\n",
        "            return_tensors='pt',\n",
        "        )\n",
        "        return {\n",
        "            'text': text,\n",
        "            'input_ids': encoding['input_ids'].flatten(),\n",
        "            'attention_mask': encoding['attention_mask'].flatten(),\n",
        "            'labels': torch.tensor(label, dtype=torch.long)\n",
        "        }\n",
        "\n",
        "# Splitting data into training and validation sets\n",
        "X_train, X_val, y_train, y_val = train_test_split(texts, labels, test_size=0.2, random_state=42)\n",
        "\n",
        "train_dataset = ObligationDataset(X_train, y_train, tokenizer)\n",
        "val_dataset = ObligationDataset(X_val, y_val, tokenizer)\n",
        "\n",
        "# Step 3: Fine-tuning LegalBERT for sequence classification\n",
        "model = AutoModelForSequenceClassification.from_pretrained('nlpaueb/legal-bert-base-uncased', num_labels=2)\n",
        "model.to(device)  # Move model to the GPU\n",
        "\n",
        "training_args = TrainingArguments(\n",
        "    output_dir='./results',\n",
        "    num_train_epochs=10,\n",
        "    per_device_train_batch_size=16,\n",
        "    per_device_eval_batch_size=16,\n",
        "    warmup_steps=500,\n",
        "    weight_decay=0.01,\n",
        "    logging_dir='./logs',\n",
        "    logging_steps=10,\n",
        "    eval_strategy=\"epoch\",\n",
        "    save_strategy=\"epoch\",\n",
        "    load_best_model_at_end=True,\n",
        ")\n",
        "\n",
        "def compute_metrics(pred):\n",
        "    labels = pred.label_ids\n",
        "    preds = pred.predictions.argmax(-1)\n",
        "    precision, recall, f1, _ = precision_recall_fscore_support(labels, preds, average='binary')\n",
        "    acc = accuracy_score(labels, preds)\n",
        "    return {\n",
        "        'accuracy': acc,\n",
        "        'f1': f1,\n",
        "        'precision': precision,\n",
        "        'recall': recall\n",
        "    }\n",
        "\n",
        "trainer = Trainer(\n",
        "    model=model,\n",
        "    args=training_args,\n",
        "    train_dataset=train_dataset,\n",
        "    eval_dataset=val_dataset,\n",
        "    compute_metrics=compute_metrics,\n",
        "    callbacks=[EarlyStoppingCallback(early_stopping_patience=3)]\n",
        ")\n",
        "\n",
        "# Step 4: Train the model\n",
        "trainer.train()\n",
        "\n",
        "# Step 5: Evaluate the model\n",
        "trainer.evaluate()\n",
        "\n",
        "# Step 6: Save the model and tokenizer for future use\n",
        "model.save_pretrained('./obligation-classifier-legalbert')\n",
        "tokenizer.save_pretrained('./obligation-classifier-legalbert')\n",
        "\n",
        "print(\"Model fine-tuning and evaluation completed.\")\n"
      ],
      "metadata": {
        "colab": {
          "base_uri": "https://localhost:8080/",
          "height": 533,
          "referenced_widgets": [
            "cb90e7e5cf1042789e107f69c7cf4f57",
            "b79d68c93a9a4cc5a142bae140ffe0b3",
            "664524594034482f8e92de2b47e9eaa5",
            "d36be162f31b41d1a54e083536136e6e",
            "f63d7b574ac44bb2906478d5f7663149",
            "e486ea7a91754ee78b553ff72d69edc9",
            "b078c406336d493f8b0f750de00d5c59",
            "353fd252e4fa432a9c160ef438d4ecac",
            "fb805a68769d495bad0e134368dbf215",
            "9f561570230540a28103862b2e79e71c",
            "88afe4b812b04ae5a46788fe40443dec",
            "ddf6cccab51a421480532ccdb5eaf4bc",
            "fd4359b0e67e44f1b1d3fd57476790d0",
            "487f7488192e4362882b45d2b93cb4cb",
            "02a8b2652e9d497190ceeb5ee781d1fe",
            "717f6b53d44d4d69b464a25b729a3884",
            "582a6dfbbdb04c9d9799f5184f4cfc8b",
            "7eec18c98341471f9ab14f21c018dfc1",
            "15ba26997b3b41bb991a881cc835323f",
            "c77fd91b424e48e7b7213028150e045f",
            "d523dabcb03947a288baf89411e222df",
            "222305dfa1f042ce9bedb33dc78e877d",
            "c85f921259a844a382aba4768ff17e08",
            "099948dbf74f48b28bf20961f2464061",
            "016445560c9840cfab3a5047ce932cc6",
            "5a185a8140964c58a632396335c3dbe9",
            "2a4f1a5ec8414059a3e164c59c93cf83",
            "44b743b09ad040ce96a66cc23da80320",
            "327b734226724d479a24f46760519c34",
            "e500c5c682d44afd862f855f0a85d6ed",
            "42dc2da252d843e1acf077c2f4e2d09a",
            "69801539830f479695ba928da8d75903",
            "e8fab7f5ad114499b76de1479c8d4f47",
            "798f653215074dd1ae4b00ca47cd5cdf",
            "c8b85e0d25c94ecdaa1d0035763655ed",
            "3851bb49983845709ce15b5431aeff58",
            "d0febc5cd6974c1ea5a32626fb09f3a2",
            "0347385d989542969a1ba9fe742840fa",
            "a5197e8106464e7d95cd0e3a4eea2438",
            "031466c4f5c140ca825cead5a97e5953",
            "d19f8f535c014efc91d31a5f6ffd305f",
            "e202b97c39934b3fb73479c5d828856f",
            "2258fe72646d4e5abe0c7b46824fb01f",
            "e5702618bab34dd0825b62c7f7e494f5",
            "c79af4e6225c492aa0409391f4bba360",
            "2d61e71336a147e7942ee9389a01bf02",
            "a1fc5e55274142caad86dafa5f258fe6",
            "d97017a9bba64f379cee126b1c0071f0",
            "206afe2cc2fb4d9f9fd02e7e2d88dcef",
            "2e198effc98647ac89a6a8999653be1b",
            "03f69a3faee04474a31706723c875944",
            "d5d04b6d3ff34cef8b0e70c118f9fc22",
            "9241f12600cf4211b0eb6f412e8935bb",
            "b4fe2bf1a7474afcaf0b6d5d23d48d29",
            "8036a97606db4ba1a01cc319ed3746a2"
          ]
        },
        "id": "hTBzJsgY_bY4",
        "outputId": "a25ff54d-ad53-4795-eb5e-d8e5226dbd8d"
      },
      "execution_count": 2,
      "outputs": [
        {
          "output_type": "stream",
          "name": "stdout",
          "text": [
            "Using device: cuda\n"
          ]
        },
        {
          "output_type": "display_data",
          "data": {
            "text/plain": [
              "tokenizer_config.json:   0%|          | 0.00/48.0 [00:00<?, ?B/s]"
            ],
            "application/vnd.jupyter.widget-view+json": {
              "version_major": 2,
              "version_minor": 0,
              "model_id": "cb90e7e5cf1042789e107f69c7cf4f57"
            }
          },
          "metadata": {}
        },
        {
          "output_type": "display_data",
          "data": {
            "text/plain": [
              "config.json:   0%|          | 0.00/1.02k [00:00<?, ?B/s]"
            ],
            "application/vnd.jupyter.widget-view+json": {
              "version_major": 2,
              "version_minor": 0,
              "model_id": "ddf6cccab51a421480532ccdb5eaf4bc"
            }
          },
          "metadata": {}
        },
        {
          "output_type": "display_data",
          "data": {
            "text/plain": [
              "vocab.txt:   0%|          | 0.00/222k [00:00<?, ?B/s]"
            ],
            "application/vnd.jupyter.widget-view+json": {
              "version_major": 2,
              "version_minor": 0,
              "model_id": "c85f921259a844a382aba4768ff17e08"
            }
          },
          "metadata": {}
        },
        {
          "output_type": "display_data",
          "data": {
            "text/plain": [
              "special_tokens_map.json:   0%|          | 0.00/112 [00:00<?, ?B/s]"
            ],
            "application/vnd.jupyter.widget-view+json": {
              "version_major": 2,
              "version_minor": 0,
              "model_id": "798f653215074dd1ae4b00ca47cd5cdf"
            }
          },
          "metadata": {}
        },
        {
          "output_type": "display_data",
          "data": {
            "text/plain": [
              "pytorch_model.bin:   0%|          | 0.00/440M [00:00<?, ?B/s]"
            ],
            "application/vnd.jupyter.widget-view+json": {
              "version_major": 2,
              "version_minor": 0,
              "model_id": "c79af4e6225c492aa0409391f4bba360"
            }
          },
          "metadata": {}
        },
        {
          "output_type": "stream",
          "name": "stderr",
          "text": [
            "Some weights of BertForSequenceClassification were not initialized from the model checkpoint at nlpaueb/legal-bert-base-uncased and are newly initialized: ['classifier.bias', 'classifier.weight']\n",
            "You should probably TRAIN this model on a down-stream task to be able to use it for predictions and inference.\n"
          ]
        },
        {
          "output_type": "display_data",
          "data": {
            "text/plain": [
              "<IPython.core.display.HTML object>"
            ],
            "text/html": [
              "\n",
              "    <div>\n",
              "      \n",
              "      <progress value='690' max='1150' style='width:300px; height:20px; vertical-align: middle;'></progress>\n",
              "      [ 690/1150 04:39 < 03:07, 2.46 it/s, Epoch 6/10]\n",
              "    </div>\n",
              "    <table border=\"1\" class=\"dataframe\">\n",
              "  <thead>\n",
              " <tr style=\"text-align: left;\">\n",
              "      <th>Epoch</th>\n",
              "      <th>Training Loss</th>\n",
              "      <th>Validation Loss</th>\n",
              "      <th>Accuracy</th>\n",
              "      <th>F1</th>\n",
              "      <th>Precision</th>\n",
              "      <th>Recall</th>\n",
              "    </tr>\n",
              "  </thead>\n",
              "  <tbody>\n",
              "    <tr>\n",
              "      <td>1</td>\n",
              "      <td>0.477400</td>\n",
              "      <td>0.384716</td>\n",
              "      <td>0.850000</td>\n",
              "      <td>0.887070</td>\n",
              "      <td>0.813814</td>\n",
              "      <td>0.974820</td>\n",
              "    </tr>\n",
              "    <tr>\n",
              "      <td>2</td>\n",
              "      <td>0.051200</td>\n",
              "      <td>0.080557</td>\n",
              "      <td>0.980435</td>\n",
              "      <td>0.983957</td>\n",
              "      <td>0.975265</td>\n",
              "      <td>0.992806</td>\n",
              "    </tr>\n",
              "    <tr>\n",
              "      <td>3</td>\n",
              "      <td>0.066200</td>\n",
              "      <td>0.025580</td>\n",
              "      <td>0.991304</td>\n",
              "      <td>0.992806</td>\n",
              "      <td>0.992806</td>\n",
              "      <td>0.992806</td>\n",
              "    </tr>\n",
              "    <tr>\n",
              "      <td>4</td>\n",
              "      <td>0.000200</td>\n",
              "      <td>0.034434</td>\n",
              "      <td>0.993478</td>\n",
              "      <td>0.994595</td>\n",
              "      <td>0.996390</td>\n",
              "      <td>0.992806</td>\n",
              "    </tr>\n",
              "    <tr>\n",
              "      <td>5</td>\n",
              "      <td>0.020800</td>\n",
              "      <td>0.100885</td>\n",
              "      <td>0.984783</td>\n",
              "      <td>0.987250</td>\n",
              "      <td>1.000000</td>\n",
              "      <td>0.974820</td>\n",
              "    </tr>\n",
              "    <tr>\n",
              "      <td>6</td>\n",
              "      <td>0.047800</td>\n",
              "      <td>0.057023</td>\n",
              "      <td>0.991304</td>\n",
              "      <td>0.992754</td>\n",
              "      <td>1.000000</td>\n",
              "      <td>0.985612</td>\n",
              "    </tr>\n",
              "  </tbody>\n",
              "</table><p>"
            ]
          },
          "metadata": {}
        },
        {
          "output_type": "display_data",
          "data": {
            "text/plain": [
              "<IPython.core.display.HTML object>"
            ],
            "text/html": [
              "\n",
              "    <div>\n",
              "      \n",
              "      <progress value='29' max='29' style='width:300px; height:20px; vertical-align: middle;'></progress>\n",
              "      [29/29 00:03]\n",
              "    </div>\n",
              "    "
            ]
          },
          "metadata": {}
        },
        {
          "output_type": "stream",
          "name": "stdout",
          "text": [
            "Model fine-tuning and evaluation completed.\n"
          ]
        }
      ]
    },
    {
      "cell_type": "code",
      "source": [
        "!pip install sentence_transformers"
      ],
      "metadata": {
        "colab": {
          "base_uri": "https://localhost:8080/"
        },
        "id": "Elfpuvaf_SvE",
        "outputId": "59b4bbc5-5d3b-4c5b-8fc8-432e2a47a7b7"
      },
      "execution_count": 3,
      "outputs": [
        {
          "output_type": "stream",
          "name": "stdout",
          "text": [
            "Collecting sentence_transformers\n",
            "  Downloading sentence_transformers-3.0.1-py3-none-any.whl.metadata (10 kB)\n",
            "Requirement already satisfied: transformers<5.0.0,>=4.34.0 in /usr/local/lib/python3.10/dist-packages (from sentence_transformers) (4.42.4)\n",
            "Requirement already satisfied: tqdm in /usr/local/lib/python3.10/dist-packages (from sentence_transformers) (4.66.5)\n",
            "Requirement already satisfied: torch>=1.11.0 in /usr/local/lib/python3.10/dist-packages (from sentence_transformers) (2.4.0+cu121)\n",
            "Requirement already satisfied: numpy in /usr/local/lib/python3.10/dist-packages (from sentence_transformers) (1.26.4)\n",
            "Requirement already satisfied: scikit-learn in /usr/local/lib/python3.10/dist-packages (from sentence_transformers) (1.3.2)\n",
            "Requirement already satisfied: scipy in /usr/local/lib/python3.10/dist-packages (from sentence_transformers) (1.13.1)\n",
            "Requirement already satisfied: huggingface-hub>=0.15.1 in /usr/local/lib/python3.10/dist-packages (from sentence_transformers) (0.23.5)\n",
            "Requirement already satisfied: Pillow in /usr/local/lib/python3.10/dist-packages (from sentence_transformers) (9.4.0)\n",
            "Requirement already satisfied: filelock in /usr/local/lib/python3.10/dist-packages (from huggingface-hub>=0.15.1->sentence_transformers) (3.15.4)\n",
            "Requirement already satisfied: fsspec>=2023.5.0 in /usr/local/lib/python3.10/dist-packages (from huggingface-hub>=0.15.1->sentence_transformers) (2024.6.1)\n",
            "Requirement already satisfied: packaging>=20.9 in /usr/local/lib/python3.10/dist-packages (from huggingface-hub>=0.15.1->sentence_transformers) (24.1)\n",
            "Requirement already satisfied: pyyaml>=5.1 in /usr/local/lib/python3.10/dist-packages (from huggingface-hub>=0.15.1->sentence_transformers) (6.0.2)\n",
            "Requirement already satisfied: requests in /usr/local/lib/python3.10/dist-packages (from huggingface-hub>=0.15.1->sentence_transformers) (2.32.3)\n",
            "Requirement already satisfied: typing-extensions>=3.7.4.3 in /usr/local/lib/python3.10/dist-packages (from huggingface-hub>=0.15.1->sentence_transformers) (4.12.2)\n",
            "Requirement already satisfied: sympy in /usr/local/lib/python3.10/dist-packages (from torch>=1.11.0->sentence_transformers) (1.13.2)\n",
            "Requirement already satisfied: networkx in /usr/local/lib/python3.10/dist-packages (from torch>=1.11.0->sentence_transformers) (3.3)\n",
            "Requirement already satisfied: jinja2 in /usr/local/lib/python3.10/dist-packages (from torch>=1.11.0->sentence_transformers) (3.1.4)\n",
            "Requirement already satisfied: regex!=2019.12.17 in /usr/local/lib/python3.10/dist-packages (from transformers<5.0.0,>=4.34.0->sentence_transformers) (2024.5.15)\n",
            "Requirement already satisfied: safetensors>=0.4.1 in /usr/local/lib/python3.10/dist-packages (from transformers<5.0.0,>=4.34.0->sentence_transformers) (0.4.4)\n",
            "Requirement already satisfied: tokenizers<0.20,>=0.19 in /usr/local/lib/python3.10/dist-packages (from transformers<5.0.0,>=4.34.0->sentence_transformers) (0.19.1)\n",
            "Requirement already satisfied: joblib>=1.1.1 in /usr/local/lib/python3.10/dist-packages (from scikit-learn->sentence_transformers) (1.4.2)\n",
            "Requirement already satisfied: threadpoolctl>=2.0.0 in /usr/local/lib/python3.10/dist-packages (from scikit-learn->sentence_transformers) (3.5.0)\n",
            "Requirement already satisfied: MarkupSafe>=2.0 in /usr/local/lib/python3.10/dist-packages (from jinja2->torch>=1.11.0->sentence_transformers) (2.1.5)\n",
            "Requirement already satisfied: charset-normalizer<4,>=2 in /usr/local/lib/python3.10/dist-packages (from requests->huggingface-hub>=0.15.1->sentence_transformers) (3.3.2)\n",
            "Requirement already satisfied: idna<4,>=2.5 in /usr/local/lib/python3.10/dist-packages (from requests->huggingface-hub>=0.15.1->sentence_transformers) (3.8)\n",
            "Requirement already satisfied: urllib3<3,>=1.21.1 in /usr/local/lib/python3.10/dist-packages (from requests->huggingface-hub>=0.15.1->sentence_transformers) (2.0.7)\n",
            "Requirement already satisfied: certifi>=2017.4.17 in /usr/local/lib/python3.10/dist-packages (from requests->huggingface-hub>=0.15.1->sentence_transformers) (2024.7.4)\n",
            "Requirement already satisfied: mpmath<1.4,>=1.1.0 in /usr/local/lib/python3.10/dist-packages (from sympy->torch>=1.11.0->sentence_transformers) (1.3.0)\n",
            "Downloading sentence_transformers-3.0.1-py3-none-any.whl (227 kB)\n",
            "\u001b[2K   \u001b[90m━━━━━━━━━━━━━━━━━━━━━━━━━━━━━━━━━━━━━━━━\u001b[0m \u001b[32m227.1/227.1 kB\u001b[0m \u001b[31m3.8 MB/s\u001b[0m eta \u001b[36m0:00:00\u001b[0m\n",
            "\u001b[?25hInstalling collected packages: sentence_transformers\n",
            "Successfully installed sentence_transformers-3.0.1\n"
          ]
        }
      ]
    },
    {
      "cell_type": "code",
      "source": [
        "import json\n",
        "import pandas as pd\n",
        "import numpy as np\n",
        "import torch\n",
        "from transformers import AutoTokenizer, AutoModelForSequenceClassification, pipeline\n",
        "from nltk.tokenize import sent_tokenize as sent_tokenize_uncached\n",
        "import nltk\n",
        "from functools import cache\n",
        "import tqdm\n",
        "\n",
        "nltk.download('punkt')\n",
        "\n",
        "# Set up device for torch operations\n",
        "device = 'cuda' if torch.cuda.is_available() else 'cpu'\n",
        "\n",
        "# Load the tokenizer and model for obligation detection\n",
        "model_name = './obligation-classifier-legalbert'\n",
        "obligation_tokenizer = AutoTokenizer.from_pretrained(model_name)\n",
        "obligation_model = AutoModelForSequenceClassification.from_pretrained(model_name)\n",
        "obligation_model.to(device)\n",
        "obligation_model.eval()\n",
        "\n",
        "# Load NLI model and tokenizer for obligation coverage using Microsoft's model\n",
        "coverage_nli_model = pipeline(\"text-classification\", model=\"microsoft/deberta-large-mnli\", device=device)\n",
        "\n",
        "# Load NLI model and tokenizer for entailment and contradiction checks\n",
        "nli_tokenizer = AutoTokenizer.from_pretrained('cross-encoder/nli-deberta-v3-xsmall')\n",
        "nli_model = AutoModelForSequenceClassification.from_pretrained('cross-encoder/nli-deberta-v3-xsmall')\n",
        "nli_model.to(device)\n",
        "nli_model.eval()\n",
        "\n",
        "# Define a cached version of sentence tokenization\n",
        "@cache\n",
        "def sent_tokenize(passage: str):\n",
        "  return sent_tokenize_uncached(passage)\n",
        "\n",
        "def softmax(logits):\n",
        "    e_logits = np.exp(logits - np.max(logits, axis=1, keepdims=True))\n",
        "    return e_logits / np.sum(e_logits, axis=1, keepdims=True)\n",
        "\n",
        "def get_nli_probabilities(premises, hypotheses):\n",
        "    features = tokenizer(premises, hypotheses, padding=True, truncation=True, return_tensors=\"pt\").to(\"cuda\")\n",
        "    nli_model.eval()\n",
        "    with torch.no_grad():\n",
        "        logits = nli_model(**features).logits.cpu().numpy()\n",
        "    probabilities = softmax(logits)\n",
        "    return probabilities\n",
        "\n",
        "def get_nli_matrix(passages, answers):\n",
        "    print(f\"{len(passages)} passages and {len(answers)} answers.\")\n",
        "    entailment_matrix = np.zeros((len(passages), len(answers)))\n",
        "    contradiction_matrix = np.zeros((len(passages), len(answers)))\n",
        "\n",
        "    batch_size = 16\n",
        "    for i, pas in enumerate(tqdm.tqdm(passages)):\n",
        "      for b in range(0, len(answers), batch_size):\n",
        "        e = b + batch_size\n",
        "        probs = get_nli_probabilities([pas] * len(answers[b:e]), answers[b:e])  # Get NLI probabilities\n",
        "        entailment_matrix[i, b:e] = probs[:, 1]\n",
        "        contradiction_matrix[i, b:e] = probs[:, 0]\n",
        "    return entailment_matrix, contradiction_matrix\n",
        "\n",
        "def calculate_scores_from_matrix(nli_matrix, score_type='entailment'):\n",
        "    if nli_matrix.size == 0:\n",
        "        print(\"Warning: NLI matrix is empty. Returning default score of 0.\")\n",
        "        return 0.0  # or some other default score or handling as appropriate for your use case\n",
        "\n",
        "    if score_type == 'entailment':\n",
        "        reduced_vector = np.max(nli_matrix, axis=0)\n",
        "    elif score_type == 'contradiction':\n",
        "        reduced_vector = np.min(nli_matrix, axis=0)\n",
        "    score = np.round(np.mean(reduced_vector), 5)\n",
        "    return score\n",
        "\n",
        "def calculate_obligation_coverage_score(passages, answers):\n",
        "    obligation_sentences_source = [sent for passage in passages for sent in sent_tokenize(passage)]\n",
        "    obligation_sentences_answer = [sent for answer in answers for sent in sent_tokenize(answer)]\n",
        "    covered_count = 0\n",
        "\n",
        "    for obligation in obligation_sentences_source:\n",
        "        obligation_covered = False\n",
        "        for answer_sentence in obligation_sentences_answer:\n",
        "            nli_result = coverage_nli_model(f\"{answer_sentence} [SEP] {obligation}\")\n",
        "            if nli_result[0]['label'].lower() == 'entailment' and nli_result[0]['score'] > 0.7:\n",
        "                covered_count += 1\n",
        "                obligation_covered = True\n",
        "                break\n",
        "\n",
        "\n",
        "    coverage_score = covered_count / len(obligation_sentences_source) if obligation_sentences_source else 0\n",
        "    return coverage_score\n",
        "\n",
        "def calculate_final_composite_score(passages, answers):\n",
        "    passage_sentences = [sent for passage in passages for sent in sent_tokenize(passage)]\n",
        "    answer_sentences = [sent for answer in answers for sent in sent_tokenize(answer)]\n",
        "    entailment_matrix, contradiction_matrix = get_nli_matrix(passage_sentences, answer_sentences)\n",
        "    entailment_score = calculate_scores_from_matrix(entailment_matrix, 'entailment')\n",
        "    contradiction_score = calculate_scores_from_matrix(contradiction_matrix, 'contradiction')\n",
        "    obligation_coverage_score = calculate_obligation_coverage_score(passages, answers)\n",
        "    print(f\"Entailment Score: {entailment_score}\")\n",
        "    print(f\"Contradiction Score: {contradiction_score}\")\n",
        "    print(f\"Obligation Coverage Score: {obligation_coverage_score}\")\n",
        "\n",
        "\n",
        "    # New formula: (O + E - C + 1) / 3\n",
        "    composite_score = (obligation_coverage_score + entailment_score - contradiction_score + 1) / 3\n",
        "    print(f\"Final Composite Score: {composite_score}\")\n",
        "    return np.round(composite_score, 5)\n",
        "\n"
      ],
      "metadata": {
        "colab": {
          "base_uri": "https://localhost:8080/"
        },
        "id": "DGx_m9ixGHP8",
        "outputId": "f08bd9f8-6b18-4e65-8fc1-6cc7fe7be877"
      },
      "execution_count": 67,
      "outputs": [
        {
          "output_type": "stream",
          "name": "stderr",
          "text": [
            "[nltk_data] Downloading package punkt to /root/nltk_data...\n",
            "[nltk_data]   Package punkt is already up-to-date!\n",
            "Some weights of the model checkpoint at microsoft/deberta-large-mnli were not used when initializing DebertaForSequenceClassification: ['config']\n",
            "- This IS expected if you are initializing DebertaForSequenceClassification from the checkpoint of a model trained on another task or with another architecture (e.g. initializing a BertForSequenceClassification model from a BertForPreTraining model).\n",
            "- This IS NOT expected if you are initializing DebertaForSequenceClassification from the checkpoint of a model that you expect to be exactly identical (initializing a BertForSequenceClassification model from a BertForSequenceClassification model).\n"
          ]
        }
      ]
    },
    {
      "cell_type": "code",
      "source": [
        "test_data=[\n",
        "    {\n",
        "    \"QuestionID\": \"1\",\n",
        "    \"Question\": \"What can I do sometimes\",\n",
        "    \"RetrievedPassage\": \"The proposed merger aims to combine resources. While this move is expected to result in significant market influence and revenue increase, it also brings risks such as integration challenges, potential layoffs, and regulatory scrutiny.\",\n",
        "    \"Answer\": \"to be or not to be. Is there anybody there? You may carefully apply the rules.\"\n",
        "  },\n",
        "  {\n",
        "    \"QuestionID\": \"1\",\n",
        "    \"Question\": \"What are the potential risks and benefits associated with the new merger proposal?\",\n",
        "    \"RetrievedPassage\": \"The proposed merger aims to combine resources of two leading tech firms to drive innovation and market expansion. While this move is expected to result in significant market influence and revenue increase, it also brings risks such as integration challenges, potential layoffs, and regulatory scrutiny.\",\n",
        "    \"Answer\": \"The merger is poised to significantly enhance our market position by pooling resources and expertise. However, we must navigate challenges such as the harmonization of corporate cultures and potential regulatory issues that may arise.\"\n",
        "  },\n",
        "  {\n",
        "    \"QuestionID\": \"2\",\n",
        "    \"Question\": \"How will the new environmental regulation impact our manufacturing processes?\",\n",
        "    \"RetrievedPassage\": \"The new environmental regulation mandates reductions in carbon emissions and requires the use of cleaner technologies. This will necessitate a shift in our manufacturing processes, involving substantial investment in new technology and potential restructuring of our facilities.\",\n",
        "    \"Answer\": \"To comply with the new regulation, we will be overhauling our current manufacturing processes, introducing energy-efficient technologies, and potentially facing short-term disruptions but ultimately improving our sustainability and compliance.\"\n",
        "  },\n",
        "  {\n",
        "    \"QuestionID\": \"3\",\n",
        "    \"Question\": \"What steps are being taken to improve employee satisfaction and retention?\",\n",
        "    \"RetrievedPassage\": \"In response to recent surveys indicating low employee satisfaction, the company plans to implement several initiatives. These include increasing compensation, offering more flexible working conditions, enhancing career development opportunities, and improving workplace culture.\",\n",
        "    \"Answer\": \"We are committed to improving employee satisfaction through comprehensive measures including competitive salary adjustments, flexible work policies, expanded professional development, and fostering a more inclusive and supportive work environment.\"\n",
        "  },\n",
        "  {\n",
        "    \"QuestionID\": \"4\",\n",
        "    \"Question\": \"Can you outline the new product development plan for the next year?\",\n",
        "    \"RetrievedPassage\": \"The product development plan for the next year focuses on leveraging advanced technologies to introduce a new line of smart devices. This plan includes phases of market research, prototype development, user testing, and a final market launch aimed for the fourth quarter.\",\n",
        "    \"Answer\": \"Our strategy involves a step-by-step rollout of new smart devices, starting with intensive market research, moving through several stages of design refinement and user testing, and culminating in a targeted launch by year-end to capture holiday sales.\"\n",
        "  },\n",
        "  {\n",
        "    \"QuestionID\": \"5\",\n",
        "    \"Question\": \"What are the primary objectives of our latest strategic initiative?\",\n",
        "    \"RetrievedPassage\": \"The primary objectives of our latest strategic initiative include increasing global market share, diversifying our product line to include eco-friendly options, and enhancing digital transformation across all departments to improve operational efficiency.\",\n",
        "    \"Answer\": \"Our strategic initiative aims to position us as a leader in the global market by expanding our reach, introducing sustainable products that meet modern environmental standards, and adopting cutting-edge digital solutions to streamline operations and reduce costs.\"\n",
        "  },\n",
        "  {\n",
        "    \"QuestionID\": \"6\",\n",
        "    \"Question\": \"What are the challenges facing the company's expansion into Asian markets?\",\n",
        "    \"RetrievedPassage\": \"Expanding into Asian markets presents several challenges including navigating diverse regulatory landscapes, understanding cultural nuances in consumer behavior, and competing with established local brands. Additionally, logistical complexities and the need for local partnerships complicate market entry.\",\n",
        "    \"Answer\": \"Our expansion strategy must address the intricate regulatory environments and cultural diversity in Asia. We plan to forge strong local partnerships, adapt our marketing strategies to align with consumer preferences, and build a logistics network that supports efficient distribution.\"\n",
        "  },\n",
        "  {\n",
        "    \"QuestionID\": \"7\",\n",
        "    \"Question\": \"Describe the cybersecurity measures in place to protect client data.\",\n",
        "    \"RetrievedPassage\": \"Our cybersecurity measures include multi-layered security protocols, regular system audits, and compliance with international data protection regulations. We utilize advanced encryption techniques, continuous monitoring systems, and have implemented strict access controls and training programs for all staff.\",\n",
        "    \"Answer\": \"We ensure the highest level of data security through robust encryption standards, ongoing surveillance of our IT infrastructure, and adherence to global best practices in data protection. Our proactive approach involves regular audits and updates to our security protocols to guard against emerging threats.\"\n",
        "  },\n",
        "  {\n",
        "    \"QuestionID\": \"8\",\n",
        "    \"Question\": \"How do current economic conditions affect our business strategy?\",\n",
        "    \"RetrievedPassage\": \"The current economic conditions, characterized by fluctuating market trends and consumer spending patterns, necessitate a flexible approach to our business strategy. This involves adapting our product offerings and pricing models to meet changing demands, optimizing supply chains to reduce costs, and enhancing our online presence.\",\n",
        "    \"Answer\": \"In response to volatile economic conditions, we are adjusting our business model to be more agile. This includes revising our pricing strategies, expanding our digital marketing efforts, and streamlining operations to maintain profitability despite economic pressures.\"\n",
        "  },\n",
        "  {\n",
        "    \"QuestionID\": \"9\",\n",
        "    \"Question\": \"What improvements have been made in customer service this year?\",\n",
        "    \"RetrievedPassage\": \"This year, we've made significant improvements in customer service by integrating AI technology into our support systems, training staff extensively, and expanding our online service platforms to ensure 24/7 availability. These initiatives have been aimed at reducing response times and enhancing user satisfaction.\",\n",
        "    \"Answer\": \"Our customer service has been transformed through the adoption of AI-driven support tools that offer real-time assistance and predictive problem-solving. Enhanced training programs for our team ensure a high standard of service, while expanded online platforms provide constant accessibility and support.\"\n",
        "  },\n",
        "  {\n",
        "    \"QuestionID\": \"10\",\n",
        "    \"Question\": \"Explain the financial implications of the recent merger.\",\n",
        "    \"RetrievedPassage\": \"The recent merger is expected to streamline operations and achieve cost synergies by combining resources, which should result in increased profitability. However, it also involves significant upfront costs related to integration, potential redundancy payouts, and increased debt load.\",\n",
        "    \"Answer\": \"While the merger presents initial financial challenges, including integration costs and the assumption of some debt, it positions us for greater long-term profitability through operational efficiencies and a broader market presence. Cost synergies should start to be realized within the first two years post-merger.\"\n",
        "  }\n",
        "]\n"
      ],
      "metadata": {
        "id": "26U2ofQgoo6w"
      },
      "execution_count": 74,
      "outputs": []
    },
    {
      "cell_type": "code",
      "source": [
        "# Load the selected test samples JSON\n",
        "input_file_path = '/content/GoldenQuestionAnswerforEvaluationMetric.json'\n",
        "with open(input_file_path, 'r') as file:\n",
        "    test_data = json.load(file)\n",
        "\n",
        "# Prepare the data\n",
        "composite_scores = []\n",
        "entailment_scores = []\n",
        "contradiction_scores = []\n",
        "obligation_coverage_scores = []\n",
        "\n",
        "for item in test_data:\n",
        "    question = [item['Question']]\n",
        "    passages = [item['RetrievedPassage']]\n",
        "    answers = [item['Answer']]\n",
        "    print(f\"Question: {question}\")\n",
        "\n",
        "    # Calculate and store scores\n",
        "    passage_sentences = [sent for passage in passages for sent in sent_tokenize(passage)]\n",
        "    answer_sentences = [sent for answer in answers for sent in sent_tokenize(answer)]\n",
        "    entailment_matrix, contradiction_matrix = get_nli_matrix(passage_sentences, answer_sentences)\n",
        "    entailment_score = calculate_scores_from_matrix(entailment_matrix, 'entailment')\n",
        "    contradiction_score = calculate_scores_from_matrix(contradiction_matrix, 'contradiction')\n",
        "    obligation_coverage_score = calculate_obligation_coverage_score(passages, answers)\n",
        "    final_composite_score = (obligation_coverage_score + entailment_score - contradiction_score + 1) / 3\n",
        "\n",
        "    # Append to respective lists\n",
        "    entailment_scores.append(entailment_score)\n",
        "    contradiction_scores.append(contradiction_score)\n",
        "    obligation_coverage_scores.append(obligation_coverage_score)\n",
        "    composite_scores.append(final_composite_score)\n",
        "\n",
        "    print(\"\\n\")\n",
        "\n",
        "# Calculate averages\n",
        "avg_entailment = np.mean(entailment_scores)\n",
        "avg_contradiction = np.mean(contradiction_scores)\n",
        "avg_obligation_coverage = np.mean(obligation_coverage_scores)\n",
        "avg_composite = np.mean(composite_scores)\n",
        "\n",
        "print(\"\\n\")\n",
        "print(\"Average Entailment Score:\", avg_entailment)\n",
        "print(\"Average Contradiction Score:\", avg_contradiction)\n",
        "print(\"Average Obligation Coverage Score:\", avg_obligation_coverage)\n",
        "print(\"Average Final Composite Score:\", avg_composite)\n"
      ],
      "metadata": {
        "colab": {
          "base_uri": "https://localhost:8080/"
        },
        "id": "Mqc308tZA6M9",
        "outputId": "23ff4585-d43c-4eed-ade9-b50d4023587e"
      },
      "execution_count": 76,
      "outputs": [
        {
          "output_type": "stream",
          "name": "stdout",
          "text": [
            "Question: [\"Do we regulate a CFD based upon a spot trade 'rolling a spot forex contract'?\"]\n",
            "3 passages and 4 answers.\n"
          ]
        },
        {
          "output_type": "stream",
          "name": "stderr",
          "text": [
            "100%|██████████| 3/3 [00:00<00:00, 26.77it/s]\n"
          ]
        },
        {
          "output_type": "stream",
          "name": "stdout",
          "text": [
            "\n",
            "\n",
            "Question: ['Does a set of threshold conditions set in a written undertaking be legally binding?']\n",
            "6 passages and 7 answers.\n"
          ]
        },
        {
          "output_type": "stream",
          "name": "stderr",
          "text": [
            "100%|██████████| 6/6 [00:00<00:00, 24.42it/s]\n"
          ]
        },
        {
          "output_type": "stream",
          "name": "stdout",
          "text": [
            "\n",
            "\n",
            "Question: ['Can the FSRA exercise its powers to object to a change in control based on the unsuitability of the Controller?']\n",
            "11 passages and 12 answers.\n"
          ]
        },
        {
          "output_type": "stream",
          "name": "stderr",
          "text": [
            "100%|██████████| 11/11 [00:00<00:00, 24.64it/s]\n"
          ]
        },
        {
          "output_type": "stream",
          "name": "stdout",
          "text": [
            "\n",
            "\n",
            "Question: ['For the calculation of EBCM and AAE must the firm use the multiplier (18/52nds) or the multiplier of (13/52nds)?']\n",
            "3 passages and 4 answers.\n"
          ]
        },
        {
          "output_type": "stream",
          "name": "stderr",
          "text": [
            "100%|██████████| 3/3 [00:00<00:00, 32.46it/s]\n"
          ]
        },
        {
          "output_type": "stream",
          "name": "stdout",
          "text": [
            "\n",
            "\n",
            "Question: ['Would an incorporation of an ADGM holding company that resulted from a subsequent share swap from shareholders of another firm constitute a Public Offer?']\n",
            "4 passages and 5 answers.\n"
          ]
        },
        {
          "output_type": "stream",
          "name": "stderr",
          "text": [
            "100%|██████████| 4/4 [00:00<00:00, 37.62it/s]\n"
          ]
        },
        {
          "output_type": "stream",
          "name": "stdout",
          "text": [
            "\n",
            "\n",
            "Question: ['Are onshore banks (banks licensed by CBUAE) allowed to market their products and services in ADGM without triggering an ADGM licensing requirement?']\n",
            "1 passages and 2 answers.\n"
          ]
        },
        {
          "output_type": "stream",
          "name": "stderr",
          "text": [
            "100%|██████████| 1/1 [00:00<00:00, 38.29it/s]\n"
          ]
        },
        {
          "output_type": "stream",
          "name": "stdout",
          "text": [
            "\n",
            "\n",
            "Question: ['Can a firm with an IPA apply for a CIC?']\n",
            "9 passages and 10 answers.\n"
          ]
        },
        {
          "output_type": "stream",
          "name": "stderr",
          "text": [
            "100%|██████████| 9/9 [00:00<00:00, 11.42it/s]\n"
          ]
        },
        {
          "output_type": "stream",
          "name": "stdout",
          "text": [
            "\n",
            "\n",
            "Question: ['Is offering UAE Dirham escrow account facilities (in this particular case, through a UAE Central Bank licensed Bank for the settlement of Virtual Asset exchange-based transactions in AED) required to be authorised to Provide Money Services?']\n",
            "2 passages and 3 answers.\n"
          ]
        },
        {
          "output_type": "stream",
          "name": "stderr",
          "text": [
            "100%|██████████| 2/2 [00:00<00:00, 42.00it/s]\n"
          ]
        },
        {
          "output_type": "stream",
          "name": "stdout",
          "text": [
            "\n",
            "\n",
            "Question: ['Does a press launch in ADGM (for a specific listing transaction), on the assumption that the prospectus will not be made available, be deemed a financial promotion/offer in the ADGM?']\n",
            "92 passages and 93 answers.\n"
          ]
        },
        {
          "output_type": "stream",
          "name": "stderr",
          "text": [
            "100%|██████████| 92/92 [01:14<00:00,  1.24it/s]\n"
          ]
        },
        {
          "output_type": "stream",
          "name": "stdout",
          "text": [
            "\n",
            "\n",
            "Question: ['Can the FSRA apply discretion on collecting the Fees for late submission of Regulatory Filings?']\n",
            "3 passages and 4 answers.\n"
          ]
        },
        {
          "output_type": "stream",
          "name": "stderr",
          "text": [
            "100%|██████████| 3/3 [00:00<00:00, 40.04it/s]\n"
          ]
        },
        {
          "output_type": "stream",
          "name": "stdout",
          "text": [
            "\n",
            "\n",
            "Question: ['What are the options to remediate non-payment of fees other than late fees?']\n",
            "19 passages and 28 answers.\n"
          ]
        },
        {
          "output_type": "stream",
          "name": "stderr",
          "text": [
            "100%|██████████| 19/19 [00:04<00:00,  4.52it/s]\n"
          ]
        },
        {
          "output_type": "stream",
          "name": "stdout",
          "text": [
            "\n",
            "\n",
            "Question: ['Does the CDD rules in AML 8.3.1 apply to all Relevant Persons including DNFBP firms such as, law firms, notary firms or other independent legal business?']\n",
            "19 passages and 20 answers.\n"
          ]
        },
        {
          "output_type": "stream",
          "name": "stderr",
          "text": [
            "100%|██████████| 19/19 [00:06<00:00,  2.99it/s]\n"
          ]
        },
        {
          "output_type": "stream",
          "name": "stdout",
          "text": [
            "\n",
            "\n",
            "Question: ['Are investments in short-term credit facilities, revolving facilities, and trade finance receivable financing prohibited under the private credit fund regime?']\n",
            "36 passages and 40 answers.\n"
          ]
        },
        {
          "output_type": "stream",
          "name": "stderr",
          "text": [
            "100%|██████████| 36/36 [00:03<00:00, 10.06it/s]\n"
          ]
        },
        {
          "output_type": "stream",
          "name": "stdout",
          "text": [
            "\n",
            "\n",
            "Question: ['Can an Investment Partnership structured as a GP-LP fund be registered in ADGM if the fund manager is a foreign entity?']\n",
            "4 passages and 8 answers.\n"
          ]
        },
        {
          "output_type": "stream",
          "name": "stderr",
          "text": [
            "100%|██████████| 4/4 [00:00<00:00, 24.60it/s]\n"
          ]
        },
        {
          "output_type": "stream",
          "name": "stdout",
          "text": [
            "\n",
            "\n",
            "Question: [\"If a Payment Service Provider 'PSP' holding and controlling client money held in 2 client money accounts (2 different banks). Bank A will be held responsible for funds for the e-Wallet for customers. While the Payment Service Provider will also launch a VISA card (physical and virtual) via Bank B which would act as a BIN Sponsor were it would allow customers to withdraw cash. In that case Bank B would actually enter into a separate bilateral agreement with the customer and not the 'PSP'. This means an agreement between Visa and the PSP User which permits the User to access the national ATM system with their card and withdraw cash. Would the PSP be at risk of breaching COB 19.7 by allowing withdrawal of cash by their users? 19.7\"]\n",
            "6 passages and 7 answers.\n"
          ]
        },
        {
          "output_type": "stream",
          "name": "stderr",
          "text": [
            "100%|██████████| 6/6 [00:00<00:00, 36.93it/s]\n"
          ]
        },
        {
          "output_type": "stream",
          "name": "stdout",
          "text": [
            "\n",
            "\n",
            "Question: ['What are the rules FSRA have in relation to outsourced activities and the avoidance of concentration risk?']\n",
            "15 passages and 19 answers.\n"
          ]
        },
        {
          "output_type": "stream",
          "name": "stderr",
          "text": [
            "100%|██████████| 15/15 [00:01<00:00, 10.65it/s]\n"
          ]
        },
        {
          "output_type": "stream",
          "name": "stdout",
          "text": [
            "\n",
            "\n",
            "Question: ['If an entity would invest in digital assets business, including those within ADGM ecosystem, and also acquire direct interests in Virtual Assets, primarily investing in coins/tokens issued to fund use cases rather than trading. What circumstances an ADGM vehicle of such with direct holdings could be considered to be dealing as principal and thus require an FSRA license?']\n",
            "4 passages and 6 answers.\n"
          ]
        },
        {
          "output_type": "stream",
          "name": "stderr",
          "text": [
            "100%|██████████| 4/4 [00:00<00:00, 15.44it/s]\n"
          ]
        },
        {
          "output_type": "stream",
          "name": "stdout",
          "text": [
            "\n",
            "\n",
            "Question: ['With reference to the definition of Fund Administrator in the GLO module and the requirements of FUNDS 7.1.2(1)(a), if a DIFC-based firm in good standing that is licensed and authorised by the DFSA to carry on the Financial Service of Providing Fund Administration need not make any application or notification to the FSRA in connection with it being appointed by a Foreign Fund Manager to be the Fund Administrator for a Domestic Fund that is not a Public Fund?']\n",
            "4 passages and 10 answers.\n"
          ]
        },
        {
          "output_type": "stream",
          "name": "stderr",
          "text": [
            "100%|██████████| 4/4 [00:00<00:00,  8.97it/s]\n"
          ]
        },
        {
          "output_type": "stream",
          "name": "stdout",
          "text": [
            "\n",
            "\n",
            "Question: ['What are the remedies FSRA have upon non-payment of annual supervision fees?']\n",
            "7 passages and 9 answers.\n"
          ]
        },
        {
          "output_type": "stream",
          "name": "stderr",
          "text": [
            "100%|██████████| 7/7 [00:00<00:00,  8.95it/s]\n"
          ]
        },
        {
          "output_type": "stream",
          "name": "stdout",
          "text": [
            "\n",
            "\n",
            "Question: ['What are the provisions in FSRA in case a request from a company licensed by your authority, to acquire 30% or more of a non-licensed company (does not have a license from your authority) that is located outside your jurisdiction or outside the UAE?']\n",
            "11 passages and 17 answers.\n"
          ]
        },
        {
          "output_type": "stream",
          "name": "stderr",
          "text": [
            "100%|██████████| 11/11 [00:02<00:00,  4.42it/s]\n"
          ]
        },
        {
          "output_type": "stream",
          "name": "stdout",
          "text": [
            "\n",
            "\n",
            "Question: ['Do the Waiver/Modification application Notices have to go through PWMC? Or an approval from the CEO would be considered enough?']\n",
            "3 passages and 4 answers.\n"
          ]
        },
        {
          "output_type": "stream",
          "name": "stderr",
          "text": [
            "100%|██████████| 3/3 [00:00<00:00, 38.70it/s]\n"
          ]
        },
        {
          "output_type": "stream",
          "name": "stdout",
          "text": [
            "\n",
            "\n",
            "\n",
            "\n",
            "Average Entailment Score: 0.8372866666666667\n",
            "Average Contradiction Score: 0.06893619047619048\n",
            "Average Obligation Coverage Score: 1.0\n",
            "Average Final Composite Score: 0.9227834920634921\n"
          ]
        }
      ]
    },
    {
      "cell_type": "code",
      "source": [
        "# Load the selected test samples JSON\n",
        "input_file_path = '/content/selected_test_samples.json'\n",
        "with open(input_file_path, 'r') as file:\n",
        "    test_data = json.load(file)\n",
        "\n",
        "# Prepare the data\n",
        "composite_scores = []\n",
        "entailment_scores = []\n",
        "contradiction_scores = []\n",
        "obligation_coverage_scores = []\n",
        "\n",
        "for item in test_data:\n",
        "    question = [item['Question']]\n",
        "    passages = [item['RetrievedPassage']]\n",
        "    answers = [item['Answer']]\n",
        "    print(f\"Question: {question}\")\n",
        "\n",
        "    # Calculate and store scores\n",
        "    passage_sentences = [sent for passage in passages for sent in sent_tokenize(passage)]\n",
        "    answer_sentences = [sent for answer in answers for sent in sent_tokenize(answer)]\n",
        "    entailment_matrix, contradiction_matrix = get_nli_matrix(passage_sentences, answer_sentences)\n",
        "    entailment_score = calculate_scores_from_matrix(entailment_matrix, 'entailment')\n",
        "    contradiction_score = calculate_scores_from_matrix(contradiction_matrix, 'contradiction')\n",
        "    obligation_coverage_score = calculate_obligation_coverage_score(passages, answers)\n",
        "    final_composite_score = (obligation_coverage_score + entailment_score - contradiction_score + 1) / 3\n",
        "\n",
        "    # Append to respective lists\n",
        "    entailment_scores.append(entailment_score)\n",
        "    contradiction_scores.append(contradiction_score)\n",
        "    obligation_coverage_scores.append(obligation_coverage_score)\n",
        "    composite_scores.append(final_composite_score)\n",
        "\n",
        "    print(\"\\n\")\n",
        "\n",
        "# Calculate averages\n",
        "avg_entailment = np.mean(entailment_scores)\n",
        "avg_contradiction = np.mean(contradiction_scores)\n",
        "avg_obligation_coverage = np.mean(obligation_coverage_scores)\n",
        "avg_composite = np.mean(composite_scores)\n",
        "\n",
        "print(\"\\n\")\n",
        "print(\"Average Entailment Score:\", avg_entailment)\n",
        "print(\"Average Contradiction Score:\", avg_contradiction)\n",
        "print(\"Average Obligation Coverage Score:\", avg_obligation_coverage)\n",
        "print(\"Average Final Composite Score:\", avg_composite)\n"
      ],
      "metadata": {
        "id": "vCBXbx-jNPj3",
        "outputId": "db08c97c-be31-4736-abd2-dc56dab8b6f4",
        "colab": {
          "base_uri": "https://localhost:8080/"
        }
      },
      "execution_count": 77,
      "outputs": [
        {
          "output_type": "stream",
          "name": "stdout",
          "text": [
            "Question: ['Are client classification requirements applicable to an Authorised Person operating a Representative Office when engaging with a Person regarding Regulated Activities or Specified Investments?']\n",
            "2 passages and 3 answers.\n"
          ]
        },
        {
          "output_type": "stream",
          "name": "stderr",
          "text": [
            "100%|██████████| 2/2 [00:00<00:00, 37.72it/s]\n"
          ]
        },
        {
          "output_type": "stream",
          "name": "stdout",
          "text": [
            "\n",
            "\n",
            "Question: ['When categorizing Clients, what are the two Client categories that an Authorised Person must consider?']\n",
            "2 passages and 2 answers.\n"
          ]
        },
        {
          "output_type": "stream",
          "name": "stderr",
          "text": [
            "100%|██████████| 2/2 [00:00<00:00, 40.06it/s]\n"
          ]
        },
        {
          "output_type": "stream",
          "name": "stdout",
          "text": [
            "\n",
            "\n",
            "Question: ['How does an Authorised Person determine the appropriate Client category for each Client?']\n",
            "2 passages and 8 answers.\n"
          ]
        },
        {
          "output_type": "stream",
          "name": "stderr",
          "text": [
            "100%|██████████| 2/2 [00:00<00:00, 34.63it/s]\n"
          ]
        },
        {
          "output_type": "stream",
          "name": "stdout",
          "text": [
            "\n",
            "\n",
            "Question: ['How should an Authorised Person determine when a Person becomes their Client?']\n",
            "1 passages and 3 answers.\n"
          ]
        },
        {
          "output_type": "stream",
          "name": "stderr",
          "text": [
            "100%|██████████| 1/1 [00:00<00:00, 34.71it/s]\n"
          ]
        },
        {
          "output_type": "stream",
          "name": "stdout",
          "text": [
            "\n",
            "\n",
            "Question: ['Why is it important for an Authorised Person to assess when a Person transitions to being their Client based on the nature of the Regulated Activity or Specified Investment involved?']\n",
            "1 passages and 4 answers.\n"
          ]
        },
        {
          "output_type": "stream",
          "name": "stderr",
          "text": [
            "100%|██████████| 1/1 [00:00<00:00, 31.07it/s]\n"
          ]
        },
        {
          "output_type": "stream",
          "name": "stdout",
          "text": [
            "\n",
            "\n",
            "Question: ['In what order must Client classification and marketing activities take place before an Authorised Person engages in a Regulated Activity?']\n",
            "2 passages and 2 answers.\n"
          ]
        },
        {
          "output_type": "stream",
          "name": "stderr",
          "text": [
            "100%|██████████| 2/2 [00:00<00:00, 39.66it/s]\n"
          ]
        },
        {
          "output_type": "stream",
          "name": "stdout",
          "text": [
            "\n",
            "\n",
            "Question: ['Can an Authorised Person conduct marketing activities before formal Client classification has been completed and documented?']\n",
            "1 passages and 4 answers.\n"
          ]
        },
        {
          "output_type": "stream",
          "name": "stderr",
          "text": [
            "100%|██████████| 1/1 [00:00<00:00, 35.47it/s]\n"
          ]
        },
        {
          "output_type": "stream",
          "name": "stdout",
          "text": [
            "\n",
            "\n",
            "Question: ['How does the client classification process help in providing an appropriate level of regulatory protection to Clients based on their resources and expertise?']\n",
            "2 passages and 3 answers.\n"
          ]
        },
        {
          "output_type": "stream",
          "name": "stderr",
          "text": [
            "100%|██████████| 2/2 [00:00<00:00, 37.04it/s]\n"
          ]
        },
        {
          "output_type": "stream",
          "name": "stdout",
          "text": [
            "\n",
            "\n",
            "Question: ['How can a person be classified into different categories of clients depending on the regulated activities, services, products, or transactions being provided?']\n",
            "1 passages and 4 answers.\n"
          ]
        },
        {
          "output_type": "stream",
          "name": "stderr",
          "text": [
            "100%|██████████| 1/1 [00:00<00:00, 35.77it/s]\n"
          ]
        },
        {
          "output_type": "stream",
          "name": "stdout",
          "text": [
            "\n",
            "\n",
            "Question: ['Can a person be classified as one type of client for a particular regulated activity and a different type for another unrelated regulated activity?']\n",
            "1 passages and 3 answers.\n"
          ]
        },
        {
          "output_type": "stream",
          "name": "stderr",
          "text": [
            "100%|██████████| 1/1 [00:00<00:00, 34.71it/s]\n"
          ]
        },
        {
          "output_type": "stream",
          "name": "stdout",
          "text": [
            "\n",
            "\n",
            "Question: ['What is the required action for an Authorised Person when a Client is acting as an agent for another person in a specific transaction, and the Client is not an Authorised Person, Recognised Body, Remote Body, or Regulated Financial Institution?']\n",
            "1 passages and 2 answers.\n"
          ]
        },
        {
          "output_type": "stream",
          "name": "stderr",
          "text": [
            "100%|██████████| 1/1 [00:00<00:00, 32.66it/s]\n"
          ]
        },
        {
          "output_type": "stream",
          "name": "stdout",
          "text": [
            "\n",
            "\n",
            "Question: ['When providing a service or product to a trust, who should an Authorised Person treat as its Client according to the Rules?']\n",
            "1 passages and 1 answers.\n"
          ]
        },
        {
          "output_type": "stream",
          "name": "stderr",
          "text": [
            "100%|██████████| 1/1 [00:00<00:00, 38.16it/s]\n"
          ]
        },
        {
          "output_type": "stream",
          "name": "stdout",
          "text": [
            "\n",
            "\n",
            "Question: ['What additional procedures do Authorised Persons need to follow when providing Regulated Activities to Retail Clients compared to Professional Clients?']\n",
            "2 passages and 2 answers.\n"
          ]
        },
        {
          "output_type": "stream",
          "name": "stderr",
          "text": [
            "100%|██████████| 2/2 [00:00<00:00, 40.42it/s]\n"
          ]
        },
        {
          "output_type": "stream",
          "name": "stdout",
          "text": [
            "\n",
            "\n",
            "Question: ['What are the two routes through which a Person can be classified as a Professional Client?']\n",
            "1 passages and 1 answers.\n"
          ]
        },
        {
          "output_type": "stream",
          "name": "stderr",
          "text": [
            "100%|██████████| 1/1 [00:00<00:00, 35.91it/s]\n"
          ]
        },
        {
          "output_type": "stream",
          "name": "stdout",
          "text": [
            "\n",
            "\n",
            "Question: ['How is a Person classified as a \"deemed\" Professional Client?']\n",
            "1 passages and 3 answers.\n"
          ]
        },
        {
          "output_type": "stream",
          "name": "stderr",
          "text": [
            "100%|██████████| 1/1 [00:00<00:00, 38.03it/s]\n"
          ]
        },
        {
          "output_type": "stream",
          "name": "stdout",
          "text": [
            "\n",
            "\n",
            "Question: ['What is the process for classifying a Person as an \"assessed\" Professional Client?']\n",
            "2 passages and 3 answers.\n"
          ]
        },
        {
          "output_type": "stream",
          "name": "stderr",
          "text": [
            "100%|██████████| 2/2 [00:00<00:00, 37.13it/s]\n"
          ]
        },
        {
          "output_type": "stream",
          "name": "stdout",
          "text": [
            "\n",
            "\n",
            "Question: ['What criteria must a client meet in order to be classified as a Professional Client, whether \"deemed\" or \"assessed\"?']\n",
            "1 passages and 4 answers.\n"
          ]
        },
        {
          "output_type": "stream",
          "name": "stderr",
          "text": [
            "100%|██████████| 1/1 [00:00<00:00, 35.58it/s]\n"
          ]
        },
        {
          "output_type": "stream",
          "name": "stdout",
          "text": [
            "\n",
            "\n",
            "Question: ['What should an Authorised Person do to ensure they have a reasonable basis for classifying a Person as a \"deemed\" Professional Client?']\n",
            "1 passages and 2 answers.\n"
          ]
        },
        {
          "output_type": "stream",
          "name": "stderr",
          "text": [
            "100%|██████████| 1/1 [00:00<00:00, 39.86it/s]\n"
          ]
        },
        {
          "output_type": "stream",
          "name": "stdout",
          "text": [
            "\n",
            "\n",
            "Question: ['How should an Authorised Person keep records related to the classification of a Person as a \"deemed\" Professional Client?']\n",
            "2 passages and 4 answers.\n"
          ]
        },
        {
          "output_type": "stream",
          "name": "stderr",
          "text": [
            "100%|██████████| 2/2 [00:00<00:00, 33.62it/s]\n"
          ]
        },
        {
          "output_type": "stream",
          "name": "stdout",
          "text": [
            "\n",
            "\n",
            "Question: ['How are \"family members\" defined for the purposes of Rule \\u200e2.4.4, in accordance with the Companies Regulations?']\n",
            "1 passages and 1 answers.\n"
          ]
        },
        {
          "output_type": "stream",
          "name": "stderr",
          "text": [
            "100%|██████████| 1/1 [00:00<00:00, 34.60it/s]\n"
          ]
        },
        {
          "output_type": "stream",
          "name": "stdout",
          "text": [
            "\n",
            "\n",
            "Question: [\"How does an individual's classification as a Professional Client differ from that of a Retail Client, according to the outlined regulations?\"]\n",
            "2 passages and 5 answers.\n"
          ]
        },
        {
          "output_type": "stream",
          "name": "stderr",
          "text": [
            "100%|██████████| 2/2 [00:00<00:00, 36.70it/s]\n"
          ]
        },
        {
          "output_type": "stream",
          "name": "stdout",
          "text": [
            "\n",
            "\n",
            "Question: [\"Under what circumstances can a legal structure or vehicle set up exclusively to manage an individual's investment portfolio be classified as a Professional Client by an Authorised Person?\"]\n",
            "1 passages and 2 answers.\n"
          ]
        },
        {
          "output_type": "stream",
          "name": "stderr",
          "text": [
            "100%|██████████| 1/1 [00:00<00:00, 36.17it/s]\n"
          ]
        },
        {
          "output_type": "stream",
          "name": "stdout",
          "text": [
            "\n",
            "\n",
            "Question: ['How can an Undertaking, trust, or foundation be designated as a Professional Client by meeting the criteria outlined in Rule \\u200e\\u200e2.4.4(b)?']\n",
            "1 passages and 3 answers.\n"
          ]
        },
        {
          "output_type": "stream",
          "name": "stderr",
          "text": [
            "100%|██████████| 1/1 [00:00<00:00, 41.18it/s]\n"
          ]
        },
        {
          "output_type": "stream",
          "name": "stdout",
          "text": [
            "\n",
            "\n",
            "Question: ['When can an Authorised Person classify an individual as a Professional Client based on joint account ownership?']\n",
            "2 passages and 3 answers.\n"
          ]
        },
        {
          "output_type": "stream",
          "name": "stderr",
          "text": [
            "100%|██████████| 2/2 [00:00<00:00, 36.67it/s]\n"
          ]
        },
        {
          "output_type": "stream",
          "name": "stdout",
          "text": [
            "\n",
            "\n",
            "Question: ['What are the criteria for an individual to be classified as a Professional Client under joint account holder status?']\n",
            "2 passages and 4 answers.\n"
          ]
        },
        {
          "output_type": "stream",
          "name": "stderr",
          "text": [
            "100%|██████████| 2/2 [00:00<00:00, 37.63it/s]\n"
          ]
        },
        {
          "output_type": "stream",
          "name": "stdout",
          "text": [
            "\n",
            "\n",
            "Question: ['What documentation is required for the joint account holder to be considered a Professional Client based on their relationship with the primary account holder?']\n",
            "1 passages and 7 answers.\n"
          ]
        },
        {
          "output_type": "stream",
          "name": "stderr",
          "text": [
            "100%|██████████| 1/1 [00:00<00:00, 21.09it/s]\n"
          ]
        },
        {
          "output_type": "stream",
          "name": "stdout",
          "text": [
            "\n",
            "\n",
            "Question: ['Can a Professional Client act as a primary account holder on a joint account with multiple family members who also meet the requirements to be classified as Professional Clients?']\n",
            "2 passages and 2 answers.\n"
          ]
        },
        {
          "output_type": "stream",
          "name": "stderr",
          "text": [
            "100%|██████████| 2/2 [00:00<00:00, 39.34it/s]\n"
          ]
        },
        {
          "output_type": "stream",
          "name": "stdout",
          "text": [
            "\n",
            "\n",
            "Question: ['How does Rule \\u200e2.4.4(d) allow for multiple family members on a joint account to be classified as Professional Clients if they meet the specified requirements?']\n",
            "2 passages and 2 answers.\n"
          ]
        },
        {
          "output_type": "stream",
          "name": "stderr",
          "text": [
            "100%|██████████| 2/2 [00:00<00:00, 34.36it/s]\n"
          ]
        },
        {
          "output_type": "stream",
          "name": "stdout",
          "text": [
            "\n",
            "\n",
            "Question: ['If multiple family members meet the criteria outlined in Rule \\u200e2.4.4(d), can they all be classified as Professional Clients when operating a joint account with a primary account holder who is already classified as a Professional Client?']\n",
            "2 passages and 2 answers.\n"
          ]
        },
        {
          "output_type": "stream",
          "name": "stderr",
          "text": [
            "100%|██████████| 2/2 [00:00<00:00, 36.01it/s]\n"
          ]
        },
        {
          "output_type": "stream",
          "name": "stdout",
          "text": [
            "\n",
            "\n",
            "Question: ['In the context of investment purposes, can a legal structure created by a Professional Client choose to be treated as a Retail Client?']\n",
            "1 passages and 2 answers.\n"
          ]
        },
        {
          "output_type": "stream",
          "name": "stderr",
          "text": [
            "100%|██████████| 1/1 [00:00<00:00, 40.90it/s]\n"
          ]
        },
        {
          "output_type": "stream",
          "name": "stdout",
          "text": [
            "\n",
            "\n",
            "Question: ['Can a joint account holder request to be classified as a Retail Client if investment decisions are being made by a Professional Client who is the primary account holder?']\n",
            "2 passages and 3 answers.\n"
          ]
        },
        {
          "output_type": "stream",
          "name": "stderr",
          "text": [
            "100%|██████████| 2/2 [00:00<00:00, 35.77it/s]\n"
          ]
        },
        {
          "output_type": "stream",
          "name": "stdout",
          "text": [
            "\n",
            "\n",
            "Question: ['When can a withdrawing individual be classified as a Professional Client after opting out of having investment decisions made by the primary account holder in a joint account arrangement?']\n",
            "2 passages and 2 answers.\n"
          ]
        },
        {
          "output_type": "stream",
          "name": "stderr",
          "text": [
            "100%|██████████| 2/2 [00:00<00:00, 36.07it/s]\n"
          ]
        },
        {
          "output_type": "stream",
          "name": "stdout",
          "text": [
            "\n",
            "\n",
            "Question: ['When can an Authorised Person classify an Undertaking as an \"assessed\" Professional Client?']\n",
            "1 passages and 6 answers.\n"
          ]
        },
        {
          "output_type": "stream",
          "name": "stderr",
          "text": [
            "100%|██████████| 1/1 [00:00<00:00, 28.23it/s]\n"
          ]
        },
        {
          "output_type": "stream",
          "name": "stdout",
          "text": [
            "\n",
            "\n",
            "Question: ['What criteria must the Controller of an Undertaking meet to be classified as a Professional Client?']\n",
            "1 passages and 7 answers.\n"
          ]
        },
        {
          "output_type": "stream",
          "name": "stderr",
          "text": [
            "100%|██████████| 1/1 [00:00<00:00, 23.66it/s]\n"
          ]
        },
        {
          "output_type": "stream",
          "name": "stdout",
          "text": [
            "\n",
            "\n",
            "Question: ['What minimum own funds or called up capital must an Undertaking have to be classified as an \"assessed\" Professional Client?']\n",
            "1 passages and 1 answers.\n"
          ]
        },
        {
          "output_type": "stream",
          "name": "stderr",
          "text": [
            "100%|██████████| 1/1 [00:00<00:00, 35.14it/s]\n"
          ]
        },
        {
          "output_type": "stream",
          "name": "stdout",
          "text": [
            "\n",
            "\n",
            "Question: ['How can an Undertaking demonstrate sufficient experience and understanding of financial markets to be classified as a Professional Client?']\n",
            "1 passages and 7 answers.\n"
          ]
        },
        {
          "output_type": "stream",
          "name": "stderr",
          "text": [
            "100%|██████████| 1/1 [00:00<00:00, 22.79it/s]\n"
          ]
        },
        {
          "output_type": "stream",
          "name": "stdout",
          "text": [
            "\n",
            "\n",
            "Question: ['In what scenario can an Undertaking set up by joint venture participants be treated as a Professional Client?']\n",
            "3 passages and 3 answers.\n"
          ]
        },
        {
          "output_type": "stream",
          "name": "stderr",
          "text": [
            "100%|██████████| 3/3 [00:00<00:00, 37.57it/s]\n"
          ]
        },
        {
          "output_type": "stream",
          "name": "stdout",
          "text": [
            "\n",
            "\n",
            "Question: ['What distinguishes a key decision maker in a joint venture partnership from a silent partner in terms of Professional Client status?']\n",
            "3 passages and 5 answers.\n"
          ]
        },
        {
          "output_type": "stream",
          "name": "stderr",
          "text": [
            "100%|██████████| 3/3 [00:00<00:00, 38.07it/s]\n"
          ]
        },
        {
          "output_type": "stream",
          "name": "stdout",
          "text": [
            "\n",
            "\n",
            "Question: ['Under Rule 4.3.3, in what specific scenarios can an Undertaking that does not meet the criteria of a Professional Client be considered as a Professional Client for certain Regulated Activities?']\n",
            "3 passages and 2 answers.\n"
          ]
        },
        {
          "output_type": "stream",
          "name": "stderr",
          "text": [
            "100%|██████████| 3/3 [00:00<00:00, 39.89it/s]\n"
          ]
        },
        {
          "output_type": "stream",
          "name": "stdout",
          "text": [
            "\n",
            "\n",
            "Question: ['Under what conditions can an Authorised Person classify a Person as a Market Counterparty?']\n",
            "1 passages and 1 answers.\n"
          ]
        },
        {
          "output_type": "stream",
          "name": "stderr",
          "text": [
            "100%|██████████| 1/1 [00:00<00:00, 37.92it/s]\n"
          ]
        },
        {
          "output_type": "stream",
          "name": "stdout",
          "text": [
            "\n",
            "\n",
            "Question: ['How does a Person qualify as a \"deemed\" Professional Client according to Rule 2.4.2?']\n",
            "1 passages and 3 answers.\n"
          ]
        },
        {
          "output_type": "stream",
          "name": "stderr",
          "text": [
            "100%|██████████| 1/1 [00:00<00:00, 37.41it/s]\n"
          ]
        },
        {
          "output_type": "stream",
          "name": "stdout",
          "text": [
            "\n",
            "\n",
            "Question: ['What steps must an Authorised Person take before classifying a Professional Client as a Market Counterparty?']\n",
            "1 passages and 4 answers.\n"
          ]
        },
        {
          "output_type": "stream",
          "name": "stderr",
          "text": [
            "100%|██████████| 1/1 [00:00<00:00, 33.48it/s]\n"
          ]
        },
        {
          "output_type": "stream",
          "name": "stdout",
          "text": [
            "\n",
            "\n",
            "Question: ['What must be provided to a Professional Client before they are classified as a Market Counterparty?']\n",
            "1 passages and 2 answers.\n"
          ]
        },
        {
          "output_type": "stream",
          "name": "stderr",
          "text": [
            "100%|██████████| 1/1 [00:00<00:00, 35.48it/s]\n"
          ]
        },
        {
          "output_type": "stream",
          "name": "stdout",
          "text": [
            "\n",
            "\n",
            "Question: ['Under what circumstances can a Professional Client be reclassified as a Retail Client?']\n",
            "2 passages and 2 answers.\n"
          ]
        },
        {
          "output_type": "stream",
          "name": "stderr",
          "text": [
            "100%|██████████| 2/2 [00:00<00:00, 34.97it/s]\n"
          ]
        },
        {
          "output_type": "stream",
          "name": "stdout",
          "text": [
            "\n",
            "\n",
            "Question: ['What information must an Authorised Person provide to a Professional Client when first establishing a relationship with them?']\n",
            "2 passages and 8 answers.\n"
          ]
        },
        {
          "output_type": "stream",
          "name": "stderr",
          "text": [
            "100%|██████████| 2/2 [00:00<00:00, 36.00it/s]\n"
          ]
        },
        {
          "output_type": "stream",
          "name": "stdout",
          "text": [
            "\n",
            "\n",
            "Question: ['What must the Authorised Person inform the Professional Client about regarding the higher level of protection available to Retail Clients?']\n",
            "2 passages and 5 answers.\n"
          ]
        },
        {
          "output_type": "stream",
          "name": "stderr",
          "text": [
            "100%|██████████| 2/2 [00:00<00:00, 38.79it/s]\n"
          ]
        },
        {
          "output_type": "stream",
          "name": "stdout",
          "text": [
            "\n",
            "\n",
            "Question: ['What happens if a Person does not make a specific choice to be classified as a Retail Client within the given timeframe by the Authorised Person?']\n",
            "1 passages and 1 answers.\n"
          ]
        },
        {
          "output_type": "stream",
          "name": "stderr",
          "text": [
            "100%|██████████| 1/1 [00:00<00:00, 35.97it/s]\n"
          ]
        },
        {
          "output_type": "stream",
          "name": "stdout",
          "text": [
            "\n",
            "\n",
            "Question: ['What action must an Authorised Person take if a Person classified as a Professional Client requests to be re-classified as a Retail Client?']\n",
            "1 passages and 1 answers.\n"
          ]
        },
        {
          "output_type": "stream",
          "name": "stderr",
          "text": [
            "100%|██████████| 1/1 [00:00<00:00, 34.22it/s]\n"
          ]
        },
        {
          "output_type": "stream",
          "name": "stdout",
          "text": [
            "\n",
            "\n",
            "Question: ['What is the responsibility of an Authorised Person if it does not offer Regulated Activities to Retail Clients?']\n",
            "1 passages and 3 answers.\n"
          ]
        },
        {
          "output_type": "stream",
          "name": "stderr",
          "text": [
            "100%|██████████| 1/1 [00:00<00:00, 36.35it/s]\n"
          ]
        },
        {
          "output_type": "stream",
          "name": "stdout",
          "text": [
            "\n",
            "\n",
            "Question: ['In what situation must an Authorised Person comply with Rule 2.6.1(a)?']\n",
            "1 passages and 1 answers.\n"
          ]
        },
        {
          "output_type": "stream",
          "name": "stderr",
          "text": [
            "100%|██████████| 1/1 [00:00<00:00, 34.06it/s]\n"
          ]
        },
        {
          "output_type": "stream",
          "name": "stdout",
          "text": [
            "\n",
            "\n",
            "Question: ['What right does a Professional Client have in terms of re-classification as a Retail Client after being initially classified by an Authorised Person?']\n",
            "2 passages and 4 answers.\n"
          ]
        },
        {
          "output_type": "stream",
          "name": "stderr",
          "text": [
            "100%|██████████| 2/2 [00:00<00:00, 31.25it/s]\n"
          ]
        },
        {
          "output_type": "stream",
          "name": "stdout",
          "text": [
            "\n",
            "\n",
            "Question: ['What should an Authorised Person do as a matter of good practice regarding the classification of Professional Clients?']\n",
            "2 passages and 3 answers.\n"
          ]
        },
        {
          "output_type": "stream",
          "name": "stderr",
          "text": [
            "100%|██████████| 2/2 [00:00<00:00, 35.39it/s]\n"
          ]
        },
        {
          "output_type": "stream",
          "name": "stdout",
          "text": [
            "\n",
            "\n",
            "Question: ['When should an Authorised Person review the circumstances of a particular Client in relation to their classification status?']\n",
            "2 passages and 2 answers.\n"
          ]
        },
        {
          "output_type": "stream",
          "name": "stderr",
          "text": [
            "100%|██████████| 2/2 [00:00<00:00, 38.03it/s]\n"
          ]
        },
        {
          "output_type": "stream",
          "name": "stdout",
          "text": [
            "\n",
            "\n",
            "Question: ['If an Authorised Person becomes aware of certain circumstances, what action should they take in relation to the reclassification of a Client?']\n",
            "2 passages and 4 answers.\n"
          ]
        },
        {
          "output_type": "stream",
          "name": "stderr",
          "text": [
            "100%|██████████| 2/2 [00:00<00:00, 37.57it/s]\n"
          ]
        },
        {
          "output_type": "stream",
          "name": "stdout",
          "text": [
            "\n",
            "\n",
            "Question: ['Is it permissible for an Authorised Person to refer a Retail Client to another Authorised Person who has the required Financial Services Permission?']\n",
            "2 passages and 2 answers.\n"
          ]
        },
        {
          "output_type": "stream",
          "name": "stderr",
          "text": [
            "100%|██████████| 2/2 [00:00<00:00, 35.19it/s]\n"
          ]
        },
        {
          "output_type": "stream",
          "name": "stdout",
          "text": [
            "\n",
            "\n",
            "Question: ['What factors must an Authorised Person consider when determining if a Person qualifies as an \"assessed\" Professional Client?']\n",
            "3 passages and 4 answers.\n"
          ]
        },
        {
          "output_type": "stream",
          "name": "stderr",
          "text": [
            "100%|██████████| 3/3 [00:00<00:00, 36.17it/s]\n"
          ]
        },
        {
          "output_type": "stream",
          "name": "stdout",
          "text": [
            "\n",
            "\n",
            "Question: ['How does the length of time a Person has participated in financial markets impact their classification as an assessed Professional Client?']\n",
            "1 passages and 4 answers.\n"
          ]
        },
        {
          "output_type": "stream",
          "name": "stderr",
          "text": [
            "100%|██████████| 1/1 [00:00<00:00, 25.54it/s]\n"
          ]
        },
        {
          "output_type": "stream",
          "name": "stdout",
          "text": [
            "\n",
            "\n",
            "Question: ['What factors should an Authorised Person consider to have reasonable grounds to believe that a client classification made by another entity within the same Group is substantially similar to the required client classification under the Rules?']\n",
            "1 passages and 9 answers.\n"
          ]
        },
        {
          "output_type": "stream",
          "name": "stderr",
          "text": [
            "100%|██████████| 1/1 [00:00<00:00, 22.86it/s]\n"
          ]
        },
        {
          "output_type": "stream",
          "name": "stdout",
          "text": [
            "\n",
            "\n",
            "Question: ['What steps must an Authorised Person take if it identifies any discrepancies between its own client classification requirements and those of another entity carrying out client classification?']\n",
            "1 passages and 2 answers.\n"
          ]
        },
        {
          "output_type": "stream",
          "name": "stderr",
          "text": [
            "100%|██████████| 1/1 [00:00<00:00, 39.55it/s]\n"
          ]
        },
        {
          "output_type": "stream",
          "name": "stdout",
          "text": [
            "\n",
            "\n",
            "Question: ['What due diligence process should an Authorised Person be able to demonstrate to the Regulator when relying on a client classification made by its head office or other branch of the same legal entity or a member of its Group?']\n",
            "2 passages and 4 answers.\n"
          ]
        },
        {
          "output_type": "stream",
          "name": "stderr",
          "text": [
            "100%|██████████| 2/2 [00:00<00:00, 29.32it/s]\n"
          ]
        },
        {
          "output_type": "stream",
          "name": "stdout",
          "text": [
            "\n",
            "\n",
            "Question: ['How should an Authorised Person address any identified gaps in the client classification made by its head office or other branch of the same legal entity or a member of its Group when relying on this Rule?']\n",
            "2 passages and 6 answers.\n"
          ]
        },
        {
          "output_type": "stream",
          "name": "stderr",
          "text": [
            "100%|██████████| 2/2 [00:00<00:00, 33.68it/s]\n"
          ]
        },
        {
          "output_type": "stream",
          "name": "stdout",
          "text": [
            "\n",
            "\n",
            "Question: ['What are the requirements relating to outsourcing that an Authorised Person needs to meet if they wish to use client classification done by a third party other than their head office or related entities?']\n",
            "2 passages and 4 answers.\n"
          ]
        },
        {
          "output_type": "stream",
          "name": "stderr",
          "text": [
            "100%|██████████| 2/2 [00:00<00:00, 38.25it/s]\n"
          ]
        },
        {
          "output_type": "stream",
          "name": "stdout",
          "text": [
            "\n",
            "\n",
            "Question: ['What must an Authorised Person that is a member of a Group ensure regarding client classification for Regulated Activities carried out for the benefit of a Client by Group members?']\n",
            "1 passages and 3 answers.\n"
          ]
        },
        {
          "output_type": "stream",
          "name": "stderr",
          "text": [
            "100%|██████████| 1/1 [00:00<00:00, 34.69it/s]\n"
          ]
        },
        {
          "output_type": "stream",
          "name": "stdout",
          "text": [
            "\n",
            "\n",
            "Question: [\"How might a Group structure its operations to enable different members to offer specialized advice for a Client's proposed restructure and financing needs?\"]\n",
            "4 passages and 4 answers.\n"
          ]
        },
        {
          "output_type": "stream",
          "name": "stderr",
          "text": [
            "100%|██████████| 4/4 [00:00<00:00, 37.06it/s]\n"
          ]
        },
        {
          "output_type": "stream",
          "name": "stdout",
          "text": [
            "\n",
            "\n",
            "Question: ['What are some common risks that may arise when Group members located in different jurisdictions carry out Regulated Activities for the benefit of the same Client?']\n",
            "2 passages and 2 answers.\n"
          ]
        },
        {
          "output_type": "stream",
          "name": "stderr",
          "text": [
            "100%|██████████| 2/2 [00:00<00:00, 35.97it/s]"
          ]
        },
        {
          "output_type": "stream",
          "name": "stdout",
          "text": [
            "\n",
            "\n",
            "Question: [\"What specific records must an Authorised Person maintain according to the rules, including evidence of the client's classification and notices sent to the client?\"]\n"
          ]
        },
        {
          "output_type": "stream",
          "name": "stderr",
          "text": [
            "\n"
          ]
        },
        {
          "output_type": "stream",
          "name": "stdout",
          "text": [
            "1 passages and 2 answers.\n"
          ]
        },
        {
          "output_type": "stream",
          "name": "stderr",
          "text": [
            "100%|██████████| 1/1 [00:00<00:00, 34.44it/s]\n"
          ]
        },
        {
          "output_type": "stream",
          "name": "stdout",
          "text": [
            "\n",
            "\n",
            "Question: ['How long is an Authorised Person required to keep records for after ending a business relationship with a Client?']\n",
            "1 passages and 1 answers.\n"
          ]
        },
        {
          "output_type": "stream",
          "name": "stderr",
          "text": [
            "100%|██████████| 1/1 [00:00<00:00, 36.93it/s]\n"
          ]
        },
        {
          "output_type": "stream",
          "name": "stdout",
          "text": [
            "\n",
            "\n",
            "Question: ['How should an Authorised Person determine the end date of a business relationship with a Client if the exact date is uncertain?']\n",
            "1 passages and 1 answers.\n"
          ]
        },
        {
          "output_type": "stream",
          "name": "stderr",
          "text": [
            "100%|██████████| 1/1 [00:00<00:00, 33.23it/s]\n"
          ]
        },
        {
          "output_type": "stream",
          "name": "stdout",
          "text": [
            "\n",
            "\n",
            "Question: ['In what scenario can the completion date of the last transaction with a Client be used as the end date of the business relationship by an Authorised Person?']\n",
            "1 passages and 2 answers.\n"
          ]
        },
        {
          "output_type": "stream",
          "name": "stderr",
          "text": [
            "100%|██████████| 1/1 [00:00<00:00, 35.98it/s]\n"
          ]
        },
        {
          "output_type": "stream",
          "name": "stdout",
          "text": [
            "\n",
            "\n",
            "Question: ['Under what circumstances can an Authorised Person consider the date of the last completed transaction as the official end date of a business relationship with a Client?']\n",
            "5 passages and 3 answers.\n"
          ]
        },
        {
          "output_type": "stream",
          "name": "stderr",
          "text": [
            "100%|██████████| 5/5 [00:00<00:00, 38.88it/s]\n"
          ]
        },
        {
          "output_type": "stream",
          "name": "stdout",
          "text": [
            "\n",
            "\n",
            "Question: ['How can an Authorised Person demonstrate compliance with regulatory requirements to the Regulator regarding reliance on external classifications and Group Clients?']\n",
            "1 passages and 3 answers.\n"
          ]
        },
        {
          "output_type": "stream",
          "name": "stderr",
          "text": [
            "100%|██████████| 1/1 [00:00<00:00, 33.98it/s]\n"
          ]
        },
        {
          "output_type": "stream",
          "name": "stdout",
          "text": [
            "\n",
            "\n",
            "Question: ['What action must an Authorised Person take if they are no longer able to provide unrestricted access to records?']\n",
            "1 passages and 2 answers.\n"
          ]
        },
        {
          "output_type": "stream",
          "name": "stderr",
          "text": [
            "100%|██████████| 1/1 [00:00<00:00, 37.27it/s]\n"
          ]
        },
        {
          "output_type": "stream",
          "name": "stdout",
          "text": [
            "\n",
            "\n",
            "Question: ['How can an Authorised Person determine if their communication about Specified Investments or Regulated Activities is fair and not misleading?']\n",
            "1 passages and 5 answers.\n"
          ]
        },
        {
          "output_type": "stream",
          "name": "stderr",
          "text": [
            "100%|██████████| 1/1 [00:00<00:00, 34.88it/s]\n"
          ]
        },
        {
          "output_type": "stream",
          "name": "stdout",
          "text": [
            "\n",
            "\n",
            "Question: ['How should communications to Professional Clients differ from communications to Retail Clients, in terms of information included and presentation style?']\n",
            "1 passages and 6 answers.\n"
          ]
        },
        {
          "output_type": "stream",
          "name": "stderr",
          "text": [
            "100%|██████████| 1/1 [00:00<00:00, 37.00it/s]\n"
          ]
        },
        {
          "output_type": "stream",
          "name": "stdout",
          "text": [
            "\n",
            "\n",
            "Question: ['What obligation must an Authorised Person abide by in their communications with individuals regarding their duties and liabilities under the ADGM Founding Law or FSMR?']\n",
            "1 passages and 3 answers.\n"
          ]
        },
        {
          "output_type": "stream",
          "name": "stderr",
          "text": [
            "100%|██████████| 1/1 [00:00<00:00, 36.55it/s]\n"
          ]
        },
        {
          "output_type": "stream",
          "name": "stdout",
          "text": [
            "\n",
            "\n",
            "Question: ['How should an Authorised Person handle their duties and liabilities towards individuals in their communications under the ADGM Founding Law or FSMR?']\n",
            "1 passages and 2 answers.\n"
          ]
        },
        {
          "output_type": "stream",
          "name": "stderr",
          "text": [
            "100%|██████████| 1/1 [00:00<00:00, 35.54it/s]\n"
          ]
        },
        {
          "output_type": "stream",
          "name": "stdout",
          "text": [
            "\n",
            "\n",
            "Question: ['In what circumstances can an Authorised Person provide information to a Person other than the Client, as per the Rule regarding information disclosure to clients?']\n",
            "1 passages and 10 answers.\n"
          ]
        },
        {
          "output_type": "stream",
          "name": "stderr",
          "text": [
            "100%|██████████| 1/1 [00:00<00:00, 16.59it/s]\n"
          ]
        },
        {
          "output_type": "stream",
          "name": "stdout",
          "text": [
            "\n",
            "\n",
            "Question: ['When should a clear statement be included in Marketing Material indicating that it is intended only for Professional Clients or Market Counterparties?']\n",
            "1 passages and 2 answers.\n"
          ]
        },
        {
          "output_type": "stream",
          "name": "stderr",
          "text": [
            "100%|██████████| 1/1 [00:00<00:00, 36.34it/s]\n"
          ]
        },
        {
          "output_type": "stream",
          "name": "stdout",
          "text": [
            "\n",
            "\n",
            "Question: ['What actions should an Authorised Person take if they become aware of a breach of regulatory requirements by the entity offering the Specified Investment?']\n",
            "1 passages and 3 answers.\n"
          ]
        },
        {
          "output_type": "stream",
          "name": "stderr",
          "text": [
            "100%|██████████| 1/1 [00:00<00:00, 34.11it/s]\n"
          ]
        },
        {
          "output_type": "stream",
          "name": "stdout",
          "text": [
            "\n",
            "\n",
            "Question: ['How should an Authorised Person ensure that Marketing Material is only accessed by Professional Clients or Market Counterparties?']\n",
            "1 passages and 4 answers.\n"
          ]
        },
        {
          "output_type": "stream",
          "name": "stderr",
          "text": [
            "100%|██████████| 1/1 [00:00<00:00, 33.02it/s]\n"
          ]
        },
        {
          "output_type": "stream",
          "name": "stdout",
          "text": [
            "\n",
            "\n",
            "Question: ['In what manner should an Authorised Person prevent unauthorized individuals from accessing Marketing Material intended for Professional Clients or Market Counterparties?']\n",
            "1 passages and 4 answers.\n"
          ]
        },
        {
          "output_type": "stream",
          "name": "stderr",
          "text": [
            "100%|██████████| 1/1 [00:00<00:00, 35.57it/s]\n"
          ]
        },
        {
          "output_type": "stream",
          "name": "stdout",
          "text": [
            "\n",
            "\n",
            "Question: ['What are the requirements that an Authorised Person must adhere to when providing information or representation related to past performance to Retail Clients?']\n",
            "1 passages and 6 answers.\n"
          ]
        },
        {
          "output_type": "stream",
          "name": "stderr",
          "text": [
            "100%|██████████| 1/1 [00:00<00:00, 30.07it/s]\n"
          ]
        },
        {
          "output_type": "stream",
          "name": "stdout",
          "text": [
            "\n",
            "\n",
            "Question: ['How should an Authorised Person present information related to past performance to Retail Clients in order to ensure fairness and balance?']\n",
            "1 passages and 2 answers.\n"
          ]
        },
        {
          "output_type": "stream",
          "name": "stderr",
          "text": [
            "100%|██████████| 1/1 [00:00<00:00, 36.04it/s]\n"
          ]
        },
        {
          "output_type": "stream",
          "name": "stdout",
          "text": [
            "\n",
            "\n",
            "Question: ['In what manner should the source of information for past performance data be identified to Retail Clients?']\n",
            "1 passages and 3 answers.\n"
          ]
        },
        {
          "output_type": "stream",
          "name": "stderr",
          "text": [
            "100%|██████████| 1/1 [00:00<00:00, 35.60it/s]\n"
          ]
        },
        {
          "output_type": "stream",
          "name": "stdout",
          "text": [
            "\n",
            "\n",
            "Question: ['According to Rule \\u200e3.3.2(b), what must an Authorised Person have in place before providing a service to a Client involving a Regulated Activity?']\n",
            "1 passages and 3 answers.\n"
          ]
        },
        {
          "output_type": "stream",
          "name": "stderr",
          "text": [
            "100%|██████████| 1/1 [00:00<00:00, 34.48it/s]\n"
          ]
        },
        {
          "output_type": "stream",
          "name": "stdout",
          "text": [
            "\n",
            "\n",
            "Question: ['How can an Authorised Person ensure that a Client has the necessary information to make an informed decision regarding a Regulated Activity before signing a Client Agreement?']\n",
            "1 passages and 8 answers.\n"
          ]
        },
        {
          "output_type": "stream",
          "name": "stderr",
          "text": [
            "100%|██████████| 1/1 [00:00<00:00, 20.81it/s]\n"
          ]
        },
        {
          "output_type": "stream",
          "name": "stdout",
          "text": [
            "\n",
            "\n",
            "Question: ['In what instances can an Authorised Person carry on a Regulated Activity without a Client Agreement according to Rule \\u200e3.3.2(b) of the regulations?']\n",
            "2 passages and 4 answers.\n"
          ]
        },
        {
          "output_type": "stream",
          "name": "stderr",
          "text": [
            "100%|██████████| 2/2 [00:00<00:00, 38.69it/s]\n"
          ]
        },
        {
          "output_type": "stream",
          "name": "stdout",
          "text": [
            "\n",
            "\n",
            "Question: ['Under what circumstances is an Authorised Person allowed to carry on a Regulated Activity without complying with the requirement in Rule 3.3.2(a)?']\n",
            "2 passages and 5 answers.\n"
          ]
        },
        {
          "output_type": "stream",
          "name": "stderr",
          "text": [
            "100%|██████████| 2/2 [00:00<00:00, 35.31it/s]\n"
          ]
        },
        {
          "output_type": "stream",
          "name": "stdout",
          "text": [
            "\n",
            "\n",
            "Question: ['What steps must an Authorised Person take if it is deemed impracticable to comply with a requirement in carrying on a Regulated Activity for a Client?']\n",
            "2 passages and 5 answers.\n"
          ]
        },
        {
          "output_type": "stream",
          "name": "stderr",
          "text": [
            "100%|██████████| 2/2 [00:00<00:00, 37.78it/s]\n"
          ]
        },
        {
          "output_type": "stream",
          "name": "stdout",
          "text": [
            "\n",
            "\n",
            "Question: ['Under what circumstances can an Authorised Person that is a Branch rely on a Client Agreement executed by its head office or another branch of the same legal entity?']\n",
            "2 passages and 4 answers.\n"
          ]
        },
        {
          "output_type": "stream",
          "name": "stderr",
          "text": [
            "100%|██████████| 2/2 [00:00<00:00, 37.01it/s]\n"
          ]
        },
        {
          "output_type": "stream",
          "name": "stdout",
          "text": [
            "\n",
            "\n",
            "Question: ['In what situations can an Authorised Person rely on a Client Agreement executed by a member of its Group?']\n",
            "2 passages and 2 answers.\n"
          ]
        },
        {
          "output_type": "stream",
          "name": "stderr",
          "text": [
            "100%|██████████| 2/2 [00:00<00:00, 36.92it/s]\n"
          ]
        },
        {
          "output_type": "stream",
          "name": "stdout",
          "text": [
            "\n",
            "\n",
            "Question: ['What type of information must be included in every Client Agreement according to Chapter 12?']\n",
            "1 passages and 2 answers.\n"
          ]
        },
        {
          "output_type": "stream",
          "name": "stderr",
          "text": [
            "100%|██████████| 1/1 [00:00<00:00, 33.31it/s]\n"
          ]
        },
        {
          "output_type": "stream",
          "name": "stdout",
          "text": [
            "\n",
            "\n",
            "Question: ['In what circumstances must additional disclosure be provided in addition to the standard Client Agreement, as outlined in Chapter 12?']\n",
            "4 passages and 3 answers.\n"
          ]
        },
        {
          "output_type": "stream",
          "name": "stderr",
          "text": [
            "100%|██████████| 4/4 [00:00<00:00, 36.70it/s]\n"
          ]
        },
        {
          "output_type": "stream",
          "name": "stdout",
          "text": [
            "\n",
            "\n",
            "Question: ['What options do Authorised Persons have when providing a Person with the proposed Client Agreement?']\n",
            "1 passages and 9 answers.\n"
          ]
        },
        {
          "output_type": "stream",
          "name": "stderr",
          "text": [
            "100%|██████████| 1/1 [00:00<00:00, 23.41it/s]\n"
          ]
        },
        {
          "output_type": "stream",
          "name": "stdout",
          "text": [
            "\n",
            "\n",
            "Question: ['In what way must an Authorised Person ensure that any changes to the Client Agreement are accurately reflected in the final signed document with the Person?']\n",
            "2 passages and 3 answers.\n"
          ]
        },
        {
          "output_type": "stream",
          "name": "stderr",
          "text": [
            "100%|██████████| 2/2 [00:00<00:00, 36.82it/s]\n"
          ]
        },
        {
          "output_type": "stream",
          "name": "stdout",
          "text": [
            "\n",
            "\n",
            "Question: ['In what situation can an Authorised Person find it reasonably impracticable to provide key information to a Person who requests the execution of a Transaction on a time critical basis?']\n",
            "2 passages and 3 answers.\n"
          ]
        },
        {
          "output_type": "stream",
          "name": "stderr",
          "text": [
            "100%|██████████| 2/2 [00:00<00:00, 35.57it/s]\n"
          ]
        },
        {
          "output_type": "stream",
          "name": "stdout",
          "text": [
            "\n",
            "\n",
            "Question: ['If an Authorised Person has verbally explained why they cannot enter into a Client Agreement, what records must they maintain to demonstrate this to the Regulator?']\n",
            "2 passages and 2 answers.\n"
          ]
        },
        {
          "output_type": "stream",
          "name": "stderr",
          "text": [
            "100%|██████████| 2/2 [00:00<00:00, 38.51it/s]\n"
          ]
        },
        {
          "output_type": "stream",
          "name": "stdout",
          "text": [
            "\n",
            "\n",
            "Question: ['What is the minimum notice period that must be given to a Retail Client before an Authorised Person can carry on a Regulated Activity with the Client on amended terms as per the Client Agreement?']\n",
            "1 passages and 2 answers.\n"
          ]
        },
        {
          "output_type": "stream",
          "name": "stderr",
          "text": [
            "100%|██████████| 1/1 [00:00<00:00, 34.84it/s]\n"
          ]
        },
        {
          "output_type": "stream",
          "name": "stdout",
          "text": [
            "\n",
            "\n",
            "Question: [\"Under what conditions is it permissible for an Authorised Person to conduct a Regulated Activity with a Client on amended terms without giving the fourteen days' notice as stated in the Client Agreement?\"]\n",
            "1 passages and 2 answers.\n"
          ]
        },
        {
          "output_type": "stream",
          "name": "stderr",
          "text": [
            "100%|██████████| 1/1 [00:00<00:00, 34.26it/s]\n"
          ]
        },
        {
          "output_type": "stream",
          "name": "stdout",
          "text": [
            "\n",
            "\n",
            "Question: ['What are the obligations of an Authorised Person under Rule 3.4.2(b) regarding recommending Specified Investments or carrying out Regulated Activities for a Client?']\n",
            "2 passages and 5 answers.\n"
          ]
        },
        {
          "output_type": "stream",
          "name": "stderr",
          "text": [
            "100%|██████████| 2/2 [00:00<00:00, 35.29it/s]\n"
          ]
        },
        {
          "output_type": "stream",
          "name": "stdout",
          "text": [
            "\n",
            "\n",
            "\n",
            "\n",
            "Average Entailment Score: 0.7024035\n",
            "Average Contradiction Score: 0.1372604\n",
            "Average Obligation Coverage Score: 0.34450000000000003\n",
            "Average Final Composite Score: 0.6365476999999999\n"
          ]
        }
      ]
    }
  ]
}