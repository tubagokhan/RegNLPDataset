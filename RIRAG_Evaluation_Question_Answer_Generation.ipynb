{
  "nbformat": 4,
  "nbformat_minor": 0,
  "metadata": {
    "colab": {
      "provenance": [],
      "mount_file_id": "1IJ9ekGlVFVh-BsDxtdORMw1zY-RRFFJQ",
      "authorship_tag": "ABX9TyOsU/V+J3h3mQory/dy13iJ",
      "include_colab_link": true
    },
    "kernelspec": {
      "name": "python3",
      "display_name": "Python 3"
    },
    "language_info": {
      "name": "python"
    }
  },
  "cells": [
    {
      "cell_type": "markdown",
      "metadata": {
        "id": "view-in-github",
        "colab_type": "text"
      },
      "source": [
        "<a href=\"https://colab.research.google.com/github/tubagokhan/RegNLPDataset/blob/main/RIRAG_Evaluation_Question_Answer_Generation.ipynb\" target=\"_parent\"><img src=\"https://colab.research.google.com/assets/colab-badge.svg\" alt=\"Open In Colab\"/></a>"
      ]
    },
    {
      "cell_type": "code",
      "source": [
        "import os\n",
        "import json\n",
        "import random\n",
        "\n",
        "def merge_filter_and_shuffle_json_files(directory, output_file):\n",
        "    # Initialize an empty list to store the merged and filtered data\n",
        "    merged_data = []\n",
        "\n",
        "    # Loop through all files in the directory\n",
        "    for filename in os.listdir(directory):\n",
        "        # Check if the file ends with \"_Annotated_Samples.json\"\n",
        "        if filename.endswith(\"_Annotated_Samples.json\"):\n",
        "            file_path = os.path.join(directory, filename)\n",
        "            # Read and load the JSON data from the file\n",
        "            with open(file_path, 'r') as f:\n",
        "                data = json.load(f)\n",
        "                for item in data:\n",
        "                    # Check if \"Expected\" is True\n",
        "                    if item.get(\"Expected\") is True:\n",
        "                        # Remove the \"Expected\" key\n",
        "                        item.pop(\"Expected\", None)\n",
        "\n",
        "                        # Filter passages where \"Relation\" is equal to 1\n",
        "                        filtered_passages = [\n",
        "                            {key: value for key, value in passage.items() if key != \"Relation\"}\n",
        "                            for passage in item.get(\"Passages\", [])\n",
        "                            if passage.get(\"Relation\") == 1\n",
        "                        ]\n",
        "\n",
        "                        # Replace the original \"Passages\" with the filtered ones\n",
        "                        item[\"Passages\"] = filtered_passages\n",
        "\n",
        "                        # Only keep the item if there are passages left after filtering\n",
        "                        if len(item[\"Passages\"]) > 0:\n",
        "                            merged_data.append(item)\n",
        "\n",
        "    # Shuffle the merged data\n",
        "    random.shuffle(merged_data)\n",
        "\n",
        "    # Write the merged, filtered, and shuffled data to the output file\n",
        "    with open(output_file, 'w') as output_f:\n",
        "        json.dump(merged_data, output_f, indent=4)\n",
        "\n",
        "    print(f\"Merged, filtered, and shuffled {len(merged_data)} records into {output_file}\")\n",
        "\n",
        "# Example usage\n",
        "directory_path = '/content/drive/Othercomputers/MBZUAI/MBZUAI/ADGM-Project/Sources/AnnotatedSilverQA'  # Replace with your directory path\n",
        "output_file_path = 'Shared_Task_Evaluaton_Golden_Question_Answer_Dataset_HIDDEN.json'  # Replace with your output file path\n",
        "\n",
        "merge_filter_and_shuffle_json_files(directory_path, output_file_path)\n"
      ],
      "metadata": {
        "colab": {
          "base_uri": "https://localhost:8080/"
        },
        "id": "RO-Z9YyT7S3J",
        "outputId": "c4c69ddb-9a16-4763-f15a-2e98dcab445a"
      },
      "execution_count": 23,
      "outputs": [
        {
          "output_type": "stream",
          "name": "stdout",
          "text": [
            "Merged, filtered, and shuffled 860 records into Shared_Task_Evaluaton_Golden_Question_Answer_Dataset_HIDDEN.json\n"
          ]
        }
      ]
    },
    {
      "cell_type": "code",
      "source": [
        "import json\n",
        "from collections import defaultdict\n",
        "import matplotlib.pyplot as plt\n",
        "\n",
        "def analyze_json(file_path):\n",
        "    with open(file_path, 'r') as file:\n",
        "        data = json.load(file)\n",
        "\n",
        "    total_items = len(data)\n",
        "    passages_count = defaultdict(int)\n",
        "\n",
        "    for item in data:\n",
        "        if \"Passages\" in item:\n",
        "            passage_length = len(item[\"Passages\"])\n",
        "            passages_count[passage_length] += 1\n",
        "\n",
        "    print(f'Total number of items in the JSON file: {total_items}')\n",
        "    for passage_length, count in passages_count.items():\n",
        "        print(f'{count} Passages items include {passage_length} items')\n",
        "\n",
        "    # Sort the data by passage length for better visualization\n",
        "    sorted_passages = dict(sorted(passages_count.items()))\n",
        "\n",
        "    # Plotting the data\n",
        "    plt.figure(figsize=(10, 6))\n",
        "    bars = plt.bar(sorted_passages.keys(), sorted_passages.values(), color='skyblue')\n",
        "\n",
        "    # Adding titles and labels\n",
        "    plt.title('Distribution of Obligations')\n",
        "    plt.xlabel('Number of Passages/Obligations')\n",
        "    plt.ylabel('Number of Questions')\n",
        "    plt.xticks(list(sorted_passages.keys()))\n",
        "\n",
        "    # Add value labels on top of each bar\n",
        "    for bar in bars:\n",
        "        yval = bar.get_height()\n",
        "        plt.text(bar.get_x() + bar.get_width()/2, yval + 5, int(yval), ha='center', va='bottom')\n",
        "\n",
        "    # Show the plot\n",
        "    plt.show()\n",
        "\n",
        "\n"
      ],
      "metadata": {
        "id": "YEbPKJbN7yN9"
      },
      "execution_count": 24,
      "outputs": []
    },
    {
      "cell_type": "code",
      "source": [
        "# Example usage\n",
        "file_path = output_file_path  # Replace with your file path\n",
        "analyze_json(file_path)\n"
      ],
      "metadata": {
        "colab": {
          "base_uri": "https://localhost:8080/",
          "height": 546
        },
        "id": "bzutpbw-AnZg",
        "outputId": "f13e35f6-aaa1-43a6-f046-821a3f37adf2"
      },
      "execution_count": 25,
      "outputs": [
        {
          "output_type": "stream",
          "name": "stdout",
          "text": [
            "Total number of items in the JSON file: 860\n",
            "347 Passages items include 1 items\n",
            "134 Passages items include 3 items\n",
            "339 Passages items include 2 items\n",
            "9 Passages items include 5 items\n",
            "26 Passages items include 4 items\n",
            "5 Passages items include 6 items\n"
          ]
        },
        {
          "output_type": "display_data",
          "data": {
            "text/plain": [
              "<Figure size 1000x600 with 1 Axes>"
            ],
            "image/png": "[encoded data removed]"
          },
          "metadata": {}
        }
      ]
    },
    {
      "cell_type": "code",
      "source": [
        "import json\n",
        "\n",
        "def extract_questions(file_path, output_file_path):\n",
        "    with open(file_path, 'r') as file:\n",
        "        data = json.load(file)\n",
        "\n",
        "    # Extract only \"QuestionID\" and \"Question\"\n",
        "    extracted_data = [{\"QuestionID\": item[\"QuestionID\"], \"Question\": item[\"Question\"]} for item in data if \"QuestionID\" in item and \"Question\" in item]\n",
        "\n",
        "    # Write the extracted data to a new JSON file\n",
        "    with open(output_file_path, 'w') as output_file:\n",
        "        json.dump(extracted_data, output_file, indent=4)\n",
        "\n",
        "    print(f'Extracted {len(extracted_data)} questions into {output_file_path}')\n",
        "\n",
        "# Example usage\n",
        "input_file_path = output_file_path  # Replace with your input file path\n",
        "output_file_path = 'Shared_Task_Evaluaton_Golden_Question_Dataset.json'  # Replace with your output file path\n",
        "\n",
        "extract_questions(input_file_path, output_file_path)\n"
      ],
      "metadata": {
        "colab": {
          "base_uri": "https://localhost:8080/"
        },
        "id": "wJ7zVdcUBR6h",
        "outputId": "ced9c7d4-fa67-4685-9699-d69dc619da86"
      },
      "execution_count": 26,
      "outputs": [
        {
          "output_type": "stream",
          "name": "stdout",
          "text": [
            "Extracted 860 questions into Shared_Task_Evaluaton_Golden_Question_Dataset.json\n"
          ]
        }
      ]
    }
  ]
}