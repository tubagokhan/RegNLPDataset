{
  "nbformat": 4,
  "nbformat_minor": 0,
  "metadata": {
    "colab": {
      "provenance": [],
      "gpuType": "T4"
    },
    "kernelspec": {
      "name": "python3",
      "display_name": "Python 3"
    },
    "language_info": {
      "name": "python"
    },
    "accelerator": "GPU"
  },
  "cells": [
    {
      "cell_type": "code",
      "source": [
        "!gdown 1-WADDfzu6uDNHYzQeuRZevKySLH_wGtC\n",
        "!gdown 1-3myjc5BBcxHyGKW96keW764bDtey_X-"
      ],
      "metadata": {
        "colab": {
          "base_uri": "https://localhost:8080/"
        },
        "id": "opd8e5cb4-2V",
        "outputId": "7148ae2e-4979-4d9c-c799-d289e14901bb"
      },
      "execution_count": null,
      "outputs": [
        {
          "output_type": "stream",
          "name": "stdout",
          "text": [
            "Downloading...\n",
            "From: https://drive.google.com/uc?id=1-WADDfzu6uDNHYzQeuRZevKySLH_wGtC\n",
            "To: /content/Processed_Obligations.json\n",
            "100% 469k/469k [00:00<00:00, 152MB/s]\n",
            "Downloading...\n",
            "From: https://drive.google.com/uc?id=1-3myjc5BBcxHyGKW96keW764bDtey_X-\n",
            "To: /content/retrieval_results.hierarchical_bm25_updated_subtask2.json\n",
            "100% 6.07M/6.07M [00:00<00:00, 45.6MB/s]\n"
          ]
        }
      ]
    },
    {
      "cell_type": "code",
      "execution_count": null,
      "metadata": {
        "colab": {
          "base_uri": "https://localhost:8080/"
        },
        "id": "hAqyNggs6kbt",
        "outputId": "20a041ba-1fbb-40ec-e0dc-6171edf9d076"
      },
      "outputs": [
        {
          "output_type": "stream",
          "name": "stderr",
          "text": [
            "[nltk_data] Downloading package punkt to /root/nltk_data...\n",
            "[nltk_data]   Package punkt is already up-to-date!\n"
          ]
        },
        {
          "output_type": "stream",
          "name": "stdout",
          "text": [
            "Dependencies imported and NLTK punkt downloaded.\n"
          ]
        },
        {
          "output_type": "stream",
          "name": "stderr",
          "text": [
            "/usr/local/lib/python3.10/dist-packages/transformers/convert_slow_tokenizer.py:560: UserWarning: The sentencepiece tokenizer that you are converting to a fast tokenizer uses the byte fallback option which is not implemented in the fast tokenizers. In practice this means that the fast version of the tokenizer can produce unknown tokens whereas the sentencepiece version would have converted these unknown tokens into a sequence of byte tokens matching the original piece of text.\n",
            "  warnings.warn(\n"
          ]
        },
        {
          "output_type": "stream",
          "name": "stdout",
          "text": [
            "NLI model and tokenizer loaded.\n",
            "Obligation classifier fitted\n",
            "8 passages and 3 answers.\n"
          ]
        },
        {
          "output_type": "stream",
          "name": "stderr",
          "text": [
            "100%|██████████| 8/8 [00:00<00:00, 13.57it/s]\n"
          ]
        },
        {
          "output_type": "stream",
          "name": "stdout",
          "text": [
            "calculate_scores_from_matrix finished after 0.00 seconds\n",
            "calculate_scores_from_matrix finished after 0.01 seconds\n",
            "Obligation Coverage score : 0.125\n",
            "calculate_coverage_score finished after 0.02 seconds\n",
            "Final composite score: 0.00438\n",
            "Item 1 processed in 0.63 seconds.\n",
            "---------------------------------------------------------------\n",
            "2 passages and 3 answers.\n"
          ]
        },
        {
          "output_type": "stream",
          "name": "stderr",
          "text": [
            "100%|██████████| 2/2 [00:00<00:00, 11.69it/s]\n"
          ]
        },
        {
          "output_type": "stream",
          "name": "stdout",
          "text": [
            "calculate_scores_from_matrix finished after 0.00 seconds\n",
            "calculate_scores_from_matrix finished after 0.00 seconds\n",
            "Obligation Coverage score : 0.5\n",
            "calculate_coverage_score finished after 0.01 seconds\n",
            "Final composite score: 0.2809\n",
            "Item 2 processed in 0.20 seconds.\n",
            "---------------------------------------------------------------\n",
            "2 passages and 2 answers.\n"
          ]
        },
        {
          "output_type": "stream",
          "name": "stderr",
          "text": [
            "100%|██████████| 2/2 [00:00<00:00, 14.97it/s]\n"
          ]
        },
        {
          "output_type": "stream",
          "name": "stdout",
          "text": [
            "calculate_scores_from_matrix finished after 0.00 seconds\n",
            "calculate_scores_from_matrix finished after 0.00 seconds\n",
            "Obligation Coverage score : 0.5\n",
            "calculate_coverage_score finished after 0.01 seconds\n",
            "Final composite score: 0.16198\n",
            "Item 3 processed in 0.16 seconds.\n",
            "---------------------------------------------------------------\n",
            "2 passages and 8 answers.\n"
          ]
        },
        {
          "output_type": "stream",
          "name": "stderr",
          "text": [
            "100%|██████████| 2/2 [00:00<00:00, 25.15it/s]\n"
          ]
        },
        {
          "output_type": "stream",
          "name": "stdout",
          "text": [
            "calculate_scores_from_matrix finished after 0.00 seconds\n",
            "calculate_scores_from_matrix finished after 0.00 seconds\n",
            "Obligation Coverage score : 0.5\n",
            "calculate_coverage_score finished after 0.01 seconds\n",
            "Final composite score: 0.20764\n",
            "Item 4 processed in 0.10 seconds.\n",
            "---------------------------------------------------------------\n",
            "1 passages and 3 answers.\n"
          ]
        },
        {
          "output_type": "stream",
          "name": "stderr",
          "text": [
            "100%|██████████| 1/1 [00:00<00:00, 24.35it/s]\n"
          ]
        },
        {
          "output_type": "stream",
          "name": "stdout",
          "text": [
            "calculate_scores_from_matrix finished after 0.00 seconds\n",
            "calculate_scores_from_matrix finished after 0.00 seconds\n",
            "Obligation Coverage score : 1.0\n",
            "calculate_coverage_score finished after 0.01 seconds\n",
            "Final composite score: 0.57095\n",
            "Item 5 processed in 0.06 seconds.\n",
            "---------------------------------------------------------------\n",
            "1637 passages and 4 answers.\n"
          ]
        },
        {
          "output_type": "stream",
          "name": "stderr",
          "text": [
            "100%|██████████| 1637/1637 [00:43<00:00, 37.47it/s]\n"
          ]
        },
        {
          "output_type": "stream",
          "name": "stdout",
          "text": [
            "calculate_scores_from_matrix finished after 0.00 seconds\n",
            "calculate_scores_from_matrix finished after 0.00 seconds\n",
            "Obligation Coverage score : 0.00061\n",
            "calculate_coverage_score finished after 1.14 seconds\n",
            "Final composite score: 0.12851\n",
            "Item 6 processed in 44.92 seconds.\n",
            "---------------------------------------------------------------\n",
            "1 passages and 4 answers.\n"
          ]
        },
        {
          "output_type": "stream",
          "name": "stderr",
          "text": [
            "100%|██████████| 1/1 [00:00<00:00, 36.58it/s]\n"
          ]
        },
        {
          "output_type": "stream",
          "name": "stdout",
          "text": [
            "calculate_scores_from_matrix finished after 0.00 seconds\n",
            "calculate_scores_from_matrix finished after 0.00 seconds\n",
            "Obligation Coverage score : 1.0\n",
            "calculate_coverage_score finished after 0.00 seconds\n",
            "Final composite score: 0.31587\n",
            "Item 7 processed in 0.04 seconds.\n",
            "---------------------------------------------------------------\n",
            "90 passages and 11 answers.\n"
          ]
        },
        {
          "output_type": "stream",
          "name": "stderr",
          "text": [
            "100%|██████████| 90/90 [00:02<00:00, 30.96it/s]\n"
          ]
        },
        {
          "output_type": "stream",
          "name": "stdout",
          "text": [
            "calculate_scores_from_matrix finished after 0.00 seconds\n",
            "calculate_scores_from_matrix finished after 0.00 seconds\n",
            "Obligation Coverage score : 0.01111\n",
            "calculate_coverage_score finished after 0.07 seconds\n",
            "Final composite score: 0.08061\n",
            "Item 8 processed in 2.99 seconds.\n",
            "---------------------------------------------------------------\n",
            "2 passages and 2 answers.\n"
          ]
        },
        {
          "output_type": "stream",
          "name": "stderr",
          "text": [
            "100%|██████████| 2/2 [00:00<00:00, 40.63it/s]\n"
          ]
        },
        {
          "output_type": "stream",
          "name": "stdout",
          "text": [
            "calculate_scores_from_matrix finished after 0.00 seconds\n",
            "calculate_scores_from_matrix finished after 0.00 seconds\n",
            "Obligation Coverage score : 0.5\n",
            "calculate_coverage_score finished after 0.01 seconds\n",
            "Final composite score: 0.54524\n",
            "Item 9 processed in 0.06 seconds.\n",
            "---------------------------------------------------------------\n",
            "1 passages and 4 answers.\n"
          ]
        },
        {
          "output_type": "stream",
          "name": "stderr",
          "text": [
            "100%|██████████| 1/1 [00:00<00:00, 34.26it/s]\n"
          ]
        },
        {
          "output_type": "stream",
          "name": "stdout",
          "text": [
            "calculate_scores_from_matrix finished after 0.00 seconds\n",
            "calculate_scores_from_matrix finished after 0.00 seconds\n",
            "Obligation Coverage score : 1.0\n",
            "calculate_coverage_score finished after 0.00 seconds\n",
            "Final composite score: 0.4163\n",
            "Item 10 processed in 0.04 seconds.\n",
            "---------------------------------------------------------------\n",
            "2 passages and 3 answers.\n"
          ]
        },
        {
          "output_type": "stream",
          "name": "stderr",
          "text": [
            "100%|██████████| 2/2 [00:00<00:00, 40.00it/s]\n"
          ]
        },
        {
          "output_type": "stream",
          "name": "stdout",
          "text": [
            "calculate_scores_from_matrix finished after 0.00 seconds\n",
            "calculate_scores_from_matrix finished after 0.00 seconds\n",
            "Obligation Coverage score : 0.5\n",
            "calculate_coverage_score finished after 0.01 seconds\n",
            "Final composite score: 0.15206\n",
            "Item 11 processed in 0.06 seconds.\n",
            "---------------------------------------------------------------\n",
            "1 passages and 4 answers.\n"
          ]
        },
        {
          "output_type": "stream",
          "name": "stderr",
          "text": [
            "100%|██████████| 1/1 [00:00<00:00, 32.54it/s]\n"
          ]
        },
        {
          "output_type": "stream",
          "name": "stdout",
          "text": [
            "calculate_scores_from_matrix finished after 0.00 seconds\n",
            "calculate_scores_from_matrix finished after 0.00 seconds\n",
            "Obligation Coverage score : 1.0\n",
            "calculate_coverage_score finished after 0.00 seconds\n",
            "Final composite score: 0.49835\n",
            "Item 12 processed in 0.04 seconds.\n",
            "---------------------------------------------------------------\n",
            "1 passages and 3 answers.\n"
          ]
        },
        {
          "output_type": "stream",
          "name": "stderr",
          "text": [
            "100%|██████████| 1/1 [00:00<00:00, 37.46it/s]\n"
          ]
        },
        {
          "output_type": "stream",
          "name": "stdout",
          "text": [
            "calculate_scores_from_matrix finished after 0.00 seconds\n",
            "calculate_scores_from_matrix finished after 0.00 seconds\n",
            "Obligation Coverage score : 1.0\n",
            "calculate_coverage_score finished after 0.01 seconds\n",
            "Final composite score: 0.55771\n",
            "Item 13 processed in 0.04 seconds.\n",
            "---------------------------------------------------------------\n",
            "1 passages and 2 answers.\n"
          ]
        },
        {
          "output_type": "stream",
          "name": "stderr",
          "text": [
            "100%|██████████| 1/1 [00:00<00:00, 37.66it/s]\n"
          ]
        },
        {
          "output_type": "stream",
          "name": "stdout",
          "text": [
            "calculate_scores_from_matrix finished after 0.00 seconds\n",
            "calculate_scores_from_matrix finished after 0.00 seconds\n",
            "Obligation Coverage score : 1.0\n",
            "calculate_coverage_score finished after 0.00 seconds\n",
            "Final composite score: 0.5049\n",
            "Item 14 processed in 0.04 seconds.\n",
            "---------------------------------------------------------------\n",
            "1 passages and 1 answers.\n"
          ]
        },
        {
          "output_type": "stream",
          "name": "stderr",
          "text": [
            "100%|██████████| 1/1 [00:00<00:00, 39.04it/s]\n"
          ]
        },
        {
          "output_type": "stream",
          "name": "stdout",
          "text": [
            "calculate_scores_from_matrix finished after 0.00 seconds\n",
            "calculate_scores_from_matrix finished after 0.00 seconds\n",
            "Obligation Coverage score : 1.0\n",
            "calculate_coverage_score finished after 0.01 seconds\n",
            "Final composite score: 0.69702\n",
            "Item 15 processed in 0.04 seconds.\n",
            "---------------------------------------------------------------\n",
            "2 passages and 3 answers.\n"
          ]
        },
        {
          "output_type": "stream",
          "name": "stderr",
          "text": [
            "100%|██████████| 2/2 [00:00<00:00, 26.34it/s]\n"
          ]
        },
        {
          "output_type": "stream",
          "name": "stdout",
          "text": [
            "calculate_scores_from_matrix finished after 0.00 seconds\n",
            "calculate_scores_from_matrix finished after 0.00 seconds\n",
            "Obligation Coverage score : 0.5\n",
            "calculate_coverage_score finished after 0.01 seconds\n",
            "Final composite score: 0.1741\n",
            "Item 16 processed in 0.09 seconds.\n",
            "---------------------------------------------------------------\n",
            "2 passages and 2 answers.\n"
          ]
        },
        {
          "output_type": "stream",
          "name": "stderr",
          "text": [
            "100%|██████████| 2/2 [00:00<00:00, 39.21it/s]\n"
          ]
        },
        {
          "output_type": "stream",
          "name": "stdout",
          "text": [
            "calculate_scores_from_matrix finished after 0.00 seconds\n",
            "calculate_scores_from_matrix finished after 0.00 seconds\n",
            "Obligation Coverage score : 0.5\n",
            "calculate_coverage_score finished after 0.01 seconds\n",
            "Final composite score: 0.54652\n",
            "Item 17 processed in 0.08 seconds.\n",
            "---------------------------------------------------------------\n",
            "1 passages and 1 answers.\n"
          ]
        },
        {
          "output_type": "stream",
          "name": "stderr",
          "text": [
            "100%|██████████| 1/1 [00:00<00:00, 34.41it/s]\n"
          ]
        },
        {
          "output_type": "stream",
          "name": "stdout",
          "text": [
            "calculate_scores_from_matrix finished after 0.00 seconds\n",
            "calculate_scores_from_matrix finished after 0.00 seconds\n",
            "Obligation Coverage score : 1.0\n",
            "calculate_coverage_score finished after 0.01 seconds\n",
            "Final composite score: 0.69763\n",
            "Item 18 processed in 0.04 seconds.\n",
            "---------------------------------------------------------------\n",
            "1 passages and 3 answers.\n"
          ]
        },
        {
          "output_type": "stream",
          "name": "stderr",
          "text": [
            "100%|██████████| 1/1 [00:00<00:00, 33.50it/s]\n"
          ]
        },
        {
          "output_type": "stream",
          "name": "stdout",
          "text": [
            "calculate_scores_from_matrix finished after 0.00 seconds\n",
            "calculate_scores_from_matrix finished after 0.00 seconds\n",
            "Obligation Coverage score : 1.0\n",
            "calculate_coverage_score finished after 0.00 seconds\n",
            "Final composite score: 0.22212\n",
            "Item 19 processed in 0.04 seconds.\n",
            "---------------------------------------------------------------\n",
            "2 passages and 3 answers.\n"
          ]
        },
        {
          "output_type": "stream",
          "name": "stderr",
          "text": [
            "100%|██████████| 2/2 [00:00<00:00, 30.44it/s]\n"
          ]
        },
        {
          "output_type": "stream",
          "name": "stdout",
          "text": [
            "calculate_scores_from_matrix finished after 0.00 seconds\n",
            "calculate_scores_from_matrix finished after 0.00 seconds\n",
            "Obligation Coverage score : 0.5\n",
            "calculate_coverage_score finished after 0.01 seconds\n",
            "Final composite score: 0.54577\n",
            "Item 20 processed in 0.08 seconds.\n",
            "---------------------------------------------------------------\n",
            "1 passages and 4 answers.\n"
          ]
        },
        {
          "output_type": "stream",
          "name": "stderr",
          "text": [
            "100%|██████████| 1/1 [00:00<00:00, 37.95it/s]\n"
          ]
        },
        {
          "output_type": "stream",
          "name": "stdout",
          "text": [
            "calculate_scores_from_matrix finished after 0.00 seconds\n",
            "calculate_scores_from_matrix finished after 0.00 seconds\n",
            "Obligation Coverage score : 1.0\n",
            "calculate_coverage_score finished after 0.00 seconds\n",
            "Final composite score: 0.51023\n",
            "Item 21 processed in 0.04 seconds.\n",
            "---------------------------------------------------------------\n",
            "2 passages and 3 answers.\n"
          ]
        },
        {
          "output_type": "stream",
          "name": "stderr",
          "text": [
            "100%|██████████| 2/2 [00:00<00:00, 32.04it/s]\n"
          ]
        },
        {
          "output_type": "stream",
          "name": "stdout",
          "text": [
            "calculate_scores_from_matrix finished after 0.00 seconds\n",
            "calculate_scores_from_matrix finished after 0.00 seconds\n",
            "Obligation Coverage score : 0.5\n",
            "calculate_coverage_score finished after 0.01 seconds\n",
            "Final composite score: 0.18038\n",
            "Item 22 processed in 0.08 seconds.\n",
            "---------------------------------------------------------------\n",
            "1 passages and 2 answers.\n"
          ]
        },
        {
          "output_type": "stream",
          "name": "stderr",
          "text": [
            "100%|██████████| 1/1 [00:00<00:00, 38.73it/s]\n"
          ]
        },
        {
          "output_type": "stream",
          "name": "stdout",
          "text": [
            "calculate_scores_from_matrix finished after 0.00 seconds\n",
            "calculate_scores_from_matrix finished after 0.00 seconds\n",
            "Obligation Coverage score : 1.0\n",
            "calculate_coverage_score finished after 0.00 seconds\n",
            "Final composite score: 0.50098\n",
            "Item 23 processed in 0.04 seconds.\n",
            "---------------------------------------------------------------\n",
            "2 passages and 4 answers.\n"
          ]
        },
        {
          "output_type": "stream",
          "name": "stderr",
          "text": [
            "100%|██████████| 2/2 [00:00<00:00, 34.81it/s]\n"
          ]
        },
        {
          "output_type": "stream",
          "name": "stdout",
          "text": [
            "calculate_scores_from_matrix finished after 0.00 seconds\n",
            "calculate_scores_from_matrix finished after 0.00 seconds\n",
            "Obligation Coverage score : 0.5\n",
            "calculate_coverage_score finished after 0.01 seconds\n",
            "Final composite score: 0.15098\n",
            "Item 24 processed in 0.07 seconds.\n",
            "---------------------------------------------------------------\n",
            "1 passages and 1 answers.\n"
          ]
        },
        {
          "output_type": "stream",
          "name": "stderr",
          "text": [
            "100%|██████████| 1/1 [00:00<00:00, 25.67it/s]\n"
          ]
        },
        {
          "output_type": "stream",
          "name": "stdout",
          "text": [
            "calculate_scores_from_matrix finished after 0.00 seconds\n",
            "calculate_scores_from_matrix finished after 0.00 seconds\n",
            "Obligation Coverage score : 1.0\n",
            "calculate_coverage_score finished after 0.01 seconds\n",
            "Final composite score: 0.69664\n",
            "Item 25 processed in 0.06 seconds.\n",
            "---------------------------------------------------------------\n",
            "1 passages and 4 answers.\n"
          ]
        },
        {
          "output_type": "stream",
          "name": "stderr",
          "text": [
            "100%|██████████| 1/1 [00:00<00:00, 20.29it/s]\n"
          ]
        },
        {
          "output_type": "stream",
          "name": "stdout",
          "text": [
            "calculate_scores_from_matrix finished after 0.00 seconds\n",
            "calculate_scores_from_matrix finished after 0.00 seconds\n",
            "Obligation Coverage score : 1.0\n",
            "calculate_coverage_score finished after 0.01 seconds\n",
            "Final composite score: 0.63716\n",
            "Item 26 processed in 0.07 seconds.\n",
            "---------------------------------------------------------------\n",
            "5 passages and 5 answers.\n"
          ]
        },
        {
          "output_type": "stream",
          "name": "stderr",
          "text": [
            "100%|██████████| 5/5 [00:00<00:00, 26.65it/s]\n"
          ]
        },
        {
          "output_type": "stream",
          "name": "stdout",
          "text": [
            "calculate_scores_from_matrix finished after 0.00 seconds\n",
            "calculate_scores_from_matrix finished after 0.00 seconds\n",
            "Obligation Coverage score : 0.2\n",
            "calculate_coverage_score finished after 0.01 seconds\n",
            "Final composite score: 0.08841\n",
            "Item 27 processed in 0.21 seconds.\n",
            "---------------------------------------------------------------\n",
            "1 passages and 2 answers.\n"
          ]
        },
        {
          "output_type": "stream",
          "name": "stderr",
          "text": [
            "100%|██████████| 1/1 [00:00<00:00, 23.79it/s]\n"
          ]
        },
        {
          "output_type": "stream",
          "name": "stdout",
          "text": [
            "calculate_scores_from_matrix finished after 0.00 seconds\n",
            "calculate_scores_from_matrix finished after 0.00 seconds\n",
            "Obligation Coverage score : 1.0\n",
            "calculate_coverage_score finished after 0.01 seconds\n",
            "Final composite score: 0.69278\n",
            "Item 28 processed in 0.06 seconds.\n",
            "---------------------------------------------------------------\n",
            "1 passages and 4 answers.\n"
          ]
        },
        {
          "output_type": "stream",
          "name": "stderr",
          "text": [
            "100%|██████████| 1/1 [00:00<00:00, 19.82it/s]\n"
          ]
        },
        {
          "output_type": "stream",
          "name": "stdout",
          "text": [
            "calculate_scores_from_matrix finished after 0.00 seconds\n",
            "calculate_scores_from_matrix finished after 0.00 seconds\n",
            "Obligation Coverage score : 1.0\n",
            "calculate_coverage_score finished after 0.00 seconds\n",
            "Final composite score: 0.53042\n",
            "Item 29 processed in 0.06 seconds.\n",
            "---------------------------------------------------------------\n",
            "2 passages and 5 answers.\n"
          ]
        },
        {
          "output_type": "stream",
          "name": "stderr",
          "text": [
            "100%|██████████| 2/2 [00:00<00:00, 25.44it/s]\n"
          ]
        },
        {
          "output_type": "stream",
          "name": "stdout",
          "text": [
            "calculate_scores_from_matrix finished after 0.00 seconds\n",
            "calculate_scores_from_matrix finished after 0.00 seconds\n",
            "Obligation Coverage score : 0.5\n",
            "calculate_coverage_score finished after 0.01 seconds\n",
            "Final composite score: 0.15061\n",
            "Item 30 processed in 0.10 seconds.\n",
            "---------------------------------------------------------------\n",
            "1 passages and 2 answers.\n"
          ]
        },
        {
          "output_type": "stream",
          "name": "stderr",
          "text": [
            "100%|██████████| 1/1 [00:00<00:00, 28.98it/s]\n"
          ]
        },
        {
          "output_type": "stream",
          "name": "stdout",
          "text": [
            "calculate_scores_from_matrix finished after 0.00 seconds\n",
            "calculate_scores_from_matrix finished after 0.00 seconds\n",
            "Obligation Coverage score : 1.0\n",
            "calculate_coverage_score finished after 0.01 seconds\n",
            "Final composite score: 0.68902\n",
            "Item 31 processed in 0.05 seconds.\n",
            "---------------------------------------------------------------\n",
            "1 passages and 3 answers.\n"
          ]
        },
        {
          "output_type": "stream",
          "name": "stderr",
          "text": [
            "100%|██████████| 1/1 [00:00<00:00, 30.10it/s]\n"
          ]
        },
        {
          "output_type": "stream",
          "name": "stdout",
          "text": [
            "calculate_scores_from_matrix finished after 0.00 seconds\n",
            "calculate_scores_from_matrix finished after 0.00 seconds\n",
            "Obligation Coverage score : 1.0\n",
            "calculate_coverage_score finished after 0.01 seconds\n",
            "Final composite score: 0.56904\n",
            "Item 32 processed in 0.05 seconds.\n",
            "---------------------------------------------------------------\n",
            "2 passages and 3 answers.\n"
          ]
        },
        {
          "output_type": "stream",
          "name": "stderr",
          "text": [
            "100%|██████████| 2/2 [00:00<00:00, 30.84it/s]\n"
          ]
        },
        {
          "output_type": "stream",
          "name": "stdout",
          "text": [
            "calculate_scores_from_matrix finished after 0.00 seconds\n",
            "calculate_scores_from_matrix finished after 0.00 seconds\n",
            "Obligation Coverage score : 0.5\n",
            "calculate_coverage_score finished after 0.01 seconds\n",
            "Final composite score: 0.54119\n",
            "Item 33 processed in 0.08 seconds.\n",
            "---------------------------------------------------------------\n",
            "2 passages and 4 answers.\n"
          ]
        },
        {
          "output_type": "stream",
          "name": "stderr",
          "text": [
            "100%|██████████| 2/2 [00:00<00:00, 28.33it/s]\n"
          ]
        },
        {
          "output_type": "stream",
          "name": "stdout",
          "text": [
            "calculate_scores_from_matrix finished after 0.00 seconds\n",
            "calculate_scores_from_matrix finished after 0.00 seconds\n",
            "Obligation Coverage score : 0.5\n",
            "calculate_coverage_score finished after 0.01 seconds\n",
            "Final composite score: 0.34754\n",
            "Item 34 processed in 0.08 seconds.\n",
            "---------------------------------------------------------------\n",
            "1 passages and 7 answers.\n"
          ]
        },
        {
          "output_type": "stream",
          "name": "stderr",
          "text": [
            "100%|██████████| 1/1 [00:00<00:00, 18.87it/s]\n"
          ]
        },
        {
          "output_type": "stream",
          "name": "stdout",
          "text": [
            "calculate_scores_from_matrix finished after 0.00 seconds\n",
            "calculate_scores_from_matrix finished after 0.00 seconds\n",
            "Obligation Coverage score : 1.0\n",
            "calculate_coverage_score finished after 0.01 seconds\n",
            "Final composite score: 0.44788\n",
            "Item 35 processed in 0.07 seconds.\n",
            "---------------------------------------------------------------\n",
            "2 passages and 2 answers.\n"
          ]
        },
        {
          "output_type": "stream",
          "name": "stderr",
          "text": [
            "100%|██████████| 2/2 [00:00<00:00, 28.99it/s]\n"
          ]
        },
        {
          "output_type": "stream",
          "name": "stdout",
          "text": [
            "calculate_scores_from_matrix finished after 0.00 seconds\n",
            "calculate_scores_from_matrix finished after 0.00 seconds\n",
            "Obligation Coverage score : 0.5\n",
            "calculate_coverage_score finished after 0.01 seconds\n",
            "Final composite score: 0.326\n",
            "Item 36 processed in 0.08 seconds.\n",
            "---------------------------------------------------------------\n",
            "2 passages and 2 answers.\n"
          ]
        },
        {
          "output_type": "stream",
          "name": "stderr",
          "text": [
            "100%|██████████| 2/2 [00:00<00:00, 31.72it/s]\n"
          ]
        },
        {
          "output_type": "stream",
          "name": "stdout",
          "text": [
            "calculate_scores_from_matrix finished after 0.00 seconds\n",
            "calculate_scores_from_matrix finished after 0.00 seconds\n",
            "Obligation Coverage score : 0.5\n",
            "calculate_coverage_score finished after 0.01 seconds\n",
            "Final composite score: 0.1602\n",
            "Item 37 processed in 0.08 seconds.\n",
            "---------------------------------------------------------------\n",
            "2 passages and 2 answers.\n"
          ]
        },
        {
          "output_type": "stream",
          "name": "stderr",
          "text": [
            "100%|██████████| 2/2 [00:00<00:00, 28.31it/s]\n"
          ]
        },
        {
          "output_type": "stream",
          "name": "stdout",
          "text": [
            "calculate_scores_from_matrix finished after 0.00 seconds\n",
            "calculate_scores_from_matrix finished after 0.00 seconds\n",
            "Obligation Coverage score : 0.5\n",
            "calculate_coverage_score finished after 0.01 seconds\n",
            "Final composite score: 0.16089\n",
            "Item 38 processed in 0.08 seconds.\n",
            "---------------------------------------------------------------\n",
            "1 passages and 2 answers.\n"
          ]
        },
        {
          "output_type": "stream",
          "name": "stderr",
          "text": [
            "100%|██████████| 1/1 [00:00<00:00, 25.89it/s]\n"
          ]
        },
        {
          "output_type": "stream",
          "name": "stdout",
          "text": [
            "calculate_scores_from_matrix finished after 0.00 seconds\n",
            "calculate_scores_from_matrix finished after 0.00 seconds\n",
            "Obligation Coverage score : 1.0\n",
            "calculate_coverage_score finished after 0.00 seconds\n",
            "Final composite score: 0.69054\n",
            "Item 39 processed in 0.05 seconds.\n",
            "---------------------------------------------------------------\n",
            "2 passages and 3 answers.\n"
          ]
        },
        {
          "output_type": "stream",
          "name": "stderr",
          "text": [
            "100%|██████████| 2/2 [00:00<00:00, 31.08it/s]\n"
          ]
        },
        {
          "output_type": "stream",
          "name": "stdout",
          "text": [
            "calculate_scores_from_matrix finished after 0.00 seconds\n",
            "calculate_scores_from_matrix finished after 0.00 seconds\n",
            "Obligation Coverage score : 0.5\n",
            "calculate_coverage_score finished after 0.01 seconds\n",
            "Final composite score: 0.54661\n",
            "Item 40 processed in 0.08 seconds.\n",
            "---------------------------------------------------------------\n",
            "2 passages and 2 answers.\n"
          ]
        },
        {
          "output_type": "stream",
          "name": "stderr",
          "text": [
            "100%|██████████| 2/2 [00:00<00:00, 32.95it/s]\n"
          ]
        },
        {
          "output_type": "stream",
          "name": "stdout",
          "text": [
            "calculate_scores_from_matrix finished after 0.00 seconds\n",
            "calculate_scores_from_matrix finished after 0.00 seconds\n",
            "Obligation Coverage score : 0.5\n",
            "calculate_coverage_score finished after 0.01 seconds\n",
            "Final composite score: 0.35291\n",
            "Item 41 processed in 0.07 seconds.\n",
            "---------------------------------------------------------------\n",
            "1 passages and 6 answers.\n"
          ]
        },
        {
          "output_type": "stream",
          "name": "stderr",
          "text": [
            "100%|██████████| 1/1 [00:00<00:00, 26.07it/s]\n"
          ]
        },
        {
          "output_type": "stream",
          "name": "stdout",
          "text": [
            "calculate_scores_from_matrix finished after 0.00 seconds\n",
            "calculate_scores_from_matrix finished after 0.00 seconds\n",
            "Obligation Coverage score : 1.0\n",
            "calculate_coverage_score finished after 0.00 seconds\n",
            "Final composite score: 0.55344\n",
            "Item 42 processed in 0.05 seconds.\n",
            "---------------------------------------------------------------\n",
            "1 passages and 7 answers.\n"
          ]
        },
        {
          "output_type": "stream",
          "name": "stderr",
          "text": [
            "100%|██████████| 1/1 [00:00<00:00, 23.78it/s]\n"
          ]
        },
        {
          "output_type": "stream",
          "name": "stdout",
          "text": [
            "calculate_scores_from_matrix finished after 0.00 seconds\n",
            "calculate_scores_from_matrix finished after 0.00 seconds\n",
            "Obligation Coverage score : 1.0\n",
            "calculate_coverage_score finished after 0.01 seconds\n",
            "Final composite score: 0.48219\n",
            "Item 43 processed in 0.06 seconds.\n",
            "---------------------------------------------------------------\n",
            "1 passages and 1 answers.\n"
          ]
        },
        {
          "output_type": "stream",
          "name": "stderr",
          "text": [
            "100%|██████████| 1/1 [00:00<00:00, 25.69it/s]\n"
          ]
        },
        {
          "output_type": "stream",
          "name": "stdout",
          "text": [
            "calculate_scores_from_matrix finished after 0.00 seconds\n",
            "calculate_scores_from_matrix finished after 0.00 seconds\n",
            "Obligation Coverage score : 1.0\n",
            "calculate_coverage_score finished after 0.00 seconds\n",
            "Final composite score: 0.65115\n",
            "Item 44 processed in 0.06 seconds.\n",
            "---------------------------------------------------------------\n",
            "1 passages and 7 answers.\n"
          ]
        },
        {
          "output_type": "stream",
          "name": "stderr",
          "text": [
            "100%|██████████| 1/1 [00:00<00:00, 20.47it/s]\n"
          ]
        },
        {
          "output_type": "stream",
          "name": "stdout",
          "text": [
            "calculate_scores_from_matrix finished after 0.00 seconds\n",
            "calculate_scores_from_matrix finished after 0.00 seconds\n",
            "Obligation Coverage score : 1.0\n",
            "calculate_coverage_score finished after 0.01 seconds\n",
            "Final composite score: 0.56806\n",
            "Item 45 processed in 0.06 seconds.\n",
            "---------------------------------------------------------------\n",
            "8 passages and 3 answers.\n"
          ]
        },
        {
          "output_type": "stream",
          "name": "stderr",
          "text": [
            "100%|██████████| 8/8 [00:00<00:00, 26.82it/s]\n"
          ]
        },
        {
          "output_type": "stream",
          "name": "stdout",
          "text": [
            "calculate_scores_from_matrix finished after 0.00 seconds\n",
            "calculate_scores_from_matrix finished after 0.00 seconds\n",
            "Obligation Coverage score : 0.125\n",
            "calculate_coverage_score finished after 0.01 seconds\n",
            "Final composite score: 0.19071\n",
            "Item 46 processed in 0.32 seconds.\n",
            "---------------------------------------------------------------\n",
            "3 passages and 3 answers.\n"
          ]
        },
        {
          "output_type": "stream",
          "name": "stderr",
          "text": [
            "100%|██████████| 3/3 [00:00<00:00, 27.37it/s]\n"
          ]
        },
        {
          "output_type": "stream",
          "name": "stdout",
          "text": [
            "calculate_scores_from_matrix finished after 0.00 seconds\n",
            "calculate_scores_from_matrix finished after 0.00 seconds\n",
            "Obligation Coverage score : 0.33333\n",
            "calculate_coverage_score finished after 0.01 seconds\n",
            "Final composite score: 0.43808\n",
            "Item 47 processed in 0.13 seconds.\n",
            "---------------------------------------------------------------\n",
            "3 passages and 5 answers.\n"
          ]
        },
        {
          "output_type": "stream",
          "name": "stderr",
          "text": [
            "100%|██████████| 3/3 [00:00<00:00, 23.60it/s]\n"
          ]
        },
        {
          "output_type": "stream",
          "name": "stdout",
          "text": [
            "calculate_scores_from_matrix finished after 0.00 seconds\n",
            "calculate_scores_from_matrix finished after 0.00 seconds\n",
            "Obligation Coverage score : 0.33333\n",
            "calculate_coverage_score finished after 0.01 seconds\n",
            "Final composite score: 0.31255\n",
            "Item 48 processed in 0.14 seconds.\n",
            "---------------------------------------------------------------\n",
            "3 passages and 2 answers.\n"
          ]
        },
        {
          "output_type": "stream",
          "name": "stderr",
          "text": [
            "100%|██████████| 3/3 [00:00<00:00, 27.21it/s]\n"
          ]
        },
        {
          "output_type": "stream",
          "name": "stdout",
          "text": [
            "calculate_scores_from_matrix finished after 0.00 seconds\n",
            "calculate_scores_from_matrix finished after 0.00 seconds\n",
            "Obligation Coverage score : 0.33333\n",
            "calculate_coverage_score finished after 0.01 seconds\n",
            "Final composite score: 0.26178\n",
            "Item 49 processed in 0.12 seconds.\n",
            "---------------------------------------------------------------\n",
            "1 passages and 1 answers.\n"
          ]
        },
        {
          "output_type": "stream",
          "name": "stderr",
          "text": [
            "100%|██████████| 1/1 [00:00<00:00, 27.25it/s]\n"
          ]
        },
        {
          "output_type": "stream",
          "name": "stdout",
          "text": [
            "calculate_scores_from_matrix finished after 0.00 seconds\n",
            "calculate_scores_from_matrix finished after 0.00 seconds\n",
            "Obligation Coverage score : 1.0\n",
            "calculate_coverage_score finished after 0.01 seconds\n",
            "Final composite score: 0.69115\n",
            "Item 50 processed in 0.05 seconds.\n",
            "---------------------------------------------------------------\n",
            "1 passages and 3 answers.\n"
          ]
        },
        {
          "output_type": "stream",
          "name": "stderr",
          "text": [
            "100%|██████████| 1/1 [00:00<00:00, 27.55it/s]\n"
          ]
        },
        {
          "output_type": "stream",
          "name": "stdout",
          "text": [
            "calculate_scores_from_matrix finished after 0.00 seconds\n",
            "calculate_scores_from_matrix finished after 0.00 seconds\n",
            "Obligation Coverage score : 1.0\n",
            "calculate_coverage_score finished after 0.01 seconds\n",
            "Final composite score: 0.24622\n",
            "Item 51 processed in 0.05 seconds.\n",
            "---------------------------------------------------------------\n",
            "1 passages and 4 answers.\n"
          ]
        },
        {
          "output_type": "stream",
          "name": "stderr",
          "text": [
            "100%|██████████| 1/1 [00:00<00:00, 23.05it/s]\n"
          ]
        },
        {
          "output_type": "stream",
          "name": "stdout",
          "text": [
            "calculate_scores_from_matrix finished after 0.00 seconds\n",
            "calculate_scores_from_matrix finished after 0.00 seconds\n",
            "Obligation Coverage score : 1.0\n",
            "calculate_coverage_score finished after 0.00 seconds\n",
            "Final composite score: 0.59729\n",
            "Item 52 processed in 0.06 seconds.\n",
            "---------------------------------------------------------------\n",
            "1 passages and 2 answers.\n"
          ]
        },
        {
          "output_type": "stream",
          "name": "stderr",
          "text": [
            "100%|██████████| 1/1 [00:00<00:00, 23.48it/s]\n"
          ]
        },
        {
          "output_type": "stream",
          "name": "stdout",
          "text": [
            "calculate_scores_from_matrix finished after 0.00 seconds\n",
            "calculate_scores_from_matrix finished after 0.00 seconds\n",
            "Obligation Coverage score : 1.0\n",
            "calculate_coverage_score finished after 0.01 seconds\n",
            "Final composite score: 0.6686\n",
            "Item 53 processed in 0.06 seconds.\n",
            "---------------------------------------------------------------\n",
            "2 passages and 2 answers.\n"
          ]
        },
        {
          "output_type": "stream",
          "name": "stderr",
          "text": [
            "100%|██████████| 2/2 [00:00<00:00, 25.18it/s]\n"
          ]
        },
        {
          "output_type": "stream",
          "name": "stdout",
          "text": [
            "calculate_scores_from_matrix finished after 0.00 seconds\n",
            "calculate_scores_from_matrix finished after 0.00 seconds\n",
            "Obligation Coverage score : 0.5\n",
            "calculate_coverage_score finished after 0.01 seconds\n",
            "Final composite score: 0.54679\n",
            "Item 54 processed in 0.10 seconds.\n",
            "---------------------------------------------------------------\n",
            "2 passages and 8 answers.\n"
          ]
        },
        {
          "output_type": "stream",
          "name": "stderr",
          "text": [
            "100%|██████████| 2/2 [00:00<00:00, 26.46it/s]\n"
          ]
        },
        {
          "output_type": "stream",
          "name": "stdout",
          "text": [
            "calculate_scores_from_matrix finished after 0.00 seconds\n",
            "calculate_scores_from_matrix finished after 0.00 seconds\n",
            "Obligation Coverage score : 0.5\n",
            "calculate_coverage_score finished after 0.01 seconds\n",
            "Final composite score: 0.40664\n",
            "Item 55 processed in 0.09 seconds.\n",
            "---------------------------------------------------------------\n",
            "2 passages and 5 answers.\n"
          ]
        },
        {
          "output_type": "stream",
          "name": "stderr",
          "text": [
            "100%|██████████| 2/2 [00:00<00:00, 24.53it/s]\n"
          ]
        },
        {
          "output_type": "stream",
          "name": "stdout",
          "text": [
            "calculate_scores_from_matrix finished after 0.00 seconds\n",
            "calculate_scores_from_matrix finished after 0.00 seconds\n",
            "Obligation Coverage score : 0.5\n",
            "calculate_coverage_score finished after 0.01 seconds\n",
            "Final composite score: 0.5296\n",
            "Item 56 processed in 0.10 seconds.\n",
            "---------------------------------------------------------------\n",
            "1 passages and 1 answers.\n"
          ]
        },
        {
          "output_type": "stream",
          "name": "stderr",
          "text": [
            "100%|██████████| 1/1 [00:00<00:00, 23.30it/s]\n"
          ]
        },
        {
          "output_type": "stream",
          "name": "stdout",
          "text": [
            "calculate_scores_from_matrix finished after 0.00 seconds\n",
            "calculate_scores_from_matrix finished after 0.00 seconds\n",
            "Obligation Coverage score : 1.0\n",
            "calculate_coverage_score finished after 0.01 seconds\n",
            "Final composite score: 0.69781\n",
            "Item 57 processed in 0.06 seconds.\n",
            "---------------------------------------------------------------\n",
            "1 passages and 1 answers.\n"
          ]
        },
        {
          "output_type": "stream",
          "name": "stderr",
          "text": [
            "100%|██████████| 1/1 [00:00<00:00, 21.81it/s]\n"
          ]
        },
        {
          "output_type": "stream",
          "name": "stdout",
          "text": [
            "calculate_scores_from_matrix finished after 0.00 seconds\n",
            "calculate_scores_from_matrix finished after 0.00 seconds\n",
            "Obligation Coverage score : 1.0\n",
            "calculate_coverage_score finished after 0.00 seconds\n",
            "Final composite score: 0.61225\n",
            "Item 58 processed in 0.06 seconds.\n",
            "---------------------------------------------------------------\n",
            "1 passages and 3 answers.\n"
          ]
        },
        {
          "output_type": "stream",
          "name": "stderr",
          "text": [
            "100%|██████████| 1/1 [00:00<00:00, 22.12it/s]\n"
          ]
        },
        {
          "output_type": "stream",
          "name": "stdout",
          "text": [
            "calculate_scores_from_matrix finished after 0.00 seconds\n",
            "calculate_scores_from_matrix finished after 0.00 seconds\n",
            "Obligation Coverage score : 1.0\n",
            "calculate_coverage_score finished after 0.00 seconds\n",
            "Final composite score: 0.43382\n",
            "Item 59 processed in 0.06 seconds.\n",
            "---------------------------------------------------------------\n",
            "1 passages and 1 answers.\n"
          ]
        },
        {
          "output_type": "stream",
          "name": "stderr",
          "text": [
            "100%|██████████| 1/1 [00:00<00:00, 27.83it/s]\n"
          ]
        },
        {
          "output_type": "stream",
          "name": "stdout",
          "text": [
            "calculate_scores_from_matrix finished after 0.00 seconds\n",
            "calculate_scores_from_matrix finished after 0.00 seconds\n",
            "Obligation Coverage score : 1.0\n",
            "calculate_coverage_score finished after 0.01 seconds\n",
            "Final composite score: 0.69669\n",
            "Item 60 processed in 0.05 seconds.\n",
            "---------------------------------------------------------------\n",
            "2 passages and 4 answers.\n"
          ]
        },
        {
          "output_type": "stream",
          "name": "stderr",
          "text": [
            "100%|██████████| 2/2 [00:00<00:00, 39.57it/s]\n"
          ]
        },
        {
          "output_type": "stream",
          "name": "stdout",
          "text": [
            "calculate_scores_from_matrix finished after 0.00 seconds\n",
            "calculate_scores_from_matrix finished after 0.00 seconds\n",
            "Obligation Coverage score : 0.5\n",
            "calculate_coverage_score finished after 0.01 seconds\n",
            "Final composite score: 0.545\n",
            "Item 61 processed in 0.07 seconds.\n",
            "---------------------------------------------------------------\n",
            "2 passages and 3 answers.\n"
          ]
        },
        {
          "output_type": "stream",
          "name": "stderr",
          "text": [
            "100%|██████████| 2/2 [00:00<00:00, 35.35it/s]\n"
          ]
        },
        {
          "output_type": "stream",
          "name": "stdout",
          "text": [
            "calculate_scores_from_matrix finished after 0.00 seconds\n",
            "calculate_scores_from_matrix finished after 0.00 seconds\n",
            "Obligation Coverage score : 0.5\n",
            "calculate_coverage_score finished after 0.01 seconds\n",
            "Final composite score: 0.42012\n",
            "Item 62 processed in 0.07 seconds.\n",
            "---------------------------------------------------------------\n",
            "2 passages and 2 answers.\n"
          ]
        },
        {
          "output_type": "stream",
          "name": "stderr",
          "text": [
            "100%|██████████| 2/2 [00:00<00:00, 38.58it/s]\n"
          ]
        },
        {
          "output_type": "stream",
          "name": "stdout",
          "text": [
            "calculate_scores_from_matrix finished after 0.00 seconds\n",
            "calculate_scores_from_matrix finished after 0.00 seconds\n",
            "Obligation Coverage score : 0.5\n",
            "calculate_coverage_score finished after 0.01 seconds\n",
            "Final composite score: 0.54282\n",
            "Item 63 processed in 0.07 seconds.\n",
            "---------------------------------------------------------------\n",
            "2 passages and 4 answers.\n"
          ]
        },
        {
          "output_type": "stream",
          "name": "stderr",
          "text": [
            "100%|██████████| 2/2 [00:00<00:00, 41.89it/s]\n"
          ]
        },
        {
          "output_type": "stream",
          "name": "stdout",
          "text": [
            "calculate_scores_from_matrix finished after 0.00 seconds\n",
            "calculate_scores_from_matrix finished after 0.00 seconds\n",
            "Obligation Coverage score : 0.5\n",
            "calculate_coverage_score finished after 0.00 seconds\n",
            "Final composite score: 0.51773\n",
            "Item 64 processed in 0.06 seconds.\n",
            "---------------------------------------------------------------\n",
            "2 passages and 2 answers.\n"
          ]
        },
        {
          "output_type": "stream",
          "name": "stderr",
          "text": [
            "100%|██████████| 2/2 [00:00<00:00, 41.85it/s]\n"
          ]
        },
        {
          "output_type": "stream",
          "name": "stdout",
          "text": [
            "calculate_scores_from_matrix finished after 0.00 seconds\n",
            "calculate_scores_from_matrix finished after 0.00 seconds\n",
            "Obligation Coverage score : 0.5\n",
            "calculate_coverage_score finished after 0.01 seconds\n",
            "Final composite score: 0.35634\n",
            "Item 65 processed in 0.06 seconds.\n",
            "---------------------------------------------------------------\n",
            "3 passages and 4 answers.\n"
          ]
        },
        {
          "output_type": "stream",
          "name": "stderr",
          "text": [
            "100%|██████████| 3/3 [00:00<00:00, 41.41it/s]\n"
          ]
        },
        {
          "output_type": "stream",
          "name": "stdout",
          "text": [
            "calculate_scores_from_matrix finished after 0.00 seconds\n",
            "calculate_scores_from_matrix finished after 0.00 seconds\n",
            "Obligation Coverage score : 0.33333\n",
            "calculate_coverage_score finished after 0.01 seconds\n",
            "Final composite score: 0.22612\n",
            "Item 66 processed in 0.09 seconds.\n",
            "---------------------------------------------------------------\n",
            "1 passages and 4 answers.\n"
          ]
        },
        {
          "output_type": "stream",
          "name": "stderr",
          "text": [
            "100%|██████████| 1/1 [00:00<00:00, 23.74it/s]\n"
          ]
        },
        {
          "output_type": "stream",
          "name": "stdout",
          "text": [
            "calculate_scores_from_matrix finished after 0.00 seconds\n",
            "calculate_scores_from_matrix finished after 0.00 seconds\n",
            "Obligation Coverage score : 1.0\n",
            "calculate_coverage_score finished after 0.00 seconds\n",
            "Final composite score: 0.40207\n",
            "Item 67 processed in 0.05 seconds.\n",
            "---------------------------------------------------------------\n",
            "1 passages and 11 answers.\n"
          ]
        },
        {
          "output_type": "stream",
          "name": "stderr",
          "text": [
            "100%|██████████| 1/1 [00:00<00:00, 10.51it/s]\n"
          ]
        },
        {
          "output_type": "stream",
          "name": "stdout",
          "text": [
            "calculate_scores_from_matrix finished after 0.00 seconds\n",
            "calculate_scores_from_matrix finished after 0.00 seconds\n",
            "Obligation Coverage score : 1.0\n",
            "calculate_coverage_score finished after 0.01 seconds\n",
            "Final composite score: 0.48671\n",
            "Item 68 processed in 0.11 seconds.\n",
            "---------------------------------------------------------------\n",
            "1 passages and 9 answers.\n"
          ]
        },
        {
          "output_type": "stream",
          "name": "stderr",
          "text": [
            "100%|██████████| 1/1 [00:00<00:00, 25.53it/s]\n"
          ]
        },
        {
          "output_type": "stream",
          "name": "stdout",
          "text": [
            "calculate_scores_from_matrix finished after 0.00 seconds\n",
            "calculate_scores_from_matrix finished after 0.00 seconds\n",
            "Obligation Coverage score : 1.0\n",
            "calculate_coverage_score finished after 0.01 seconds\n",
            "Final composite score: 0.46896\n",
            "Item 69 processed in 0.05 seconds.\n",
            "---------------------------------------------------------------\n",
            "1 passages and 2 answers.\n"
          ]
        },
        {
          "output_type": "stream",
          "name": "stderr",
          "text": [
            "100%|██████████| 1/1 [00:00<00:00, 42.23it/s]\n"
          ]
        },
        {
          "output_type": "stream",
          "name": "stdout",
          "text": [
            "calculate_scores_from_matrix finished after 0.00 seconds\n",
            "calculate_scores_from_matrix finished after 0.00 seconds\n",
            "Obligation Coverage score : 1.0\n",
            "calculate_coverage_score finished after 0.00 seconds\n",
            "Final composite score: 0.49947\n",
            "Item 70 processed in 0.04 seconds.\n",
            "---------------------------------------------------------------\n",
            "2 passages and 4 answers.\n"
          ]
        },
        {
          "output_type": "stream",
          "name": "stderr",
          "text": [
            "100%|██████████| 2/2 [00:00<00:00, 40.11it/s]\n"
          ]
        },
        {
          "output_type": "stream",
          "name": "stdout",
          "text": [
            "calculate_scores_from_matrix finished after 0.00 seconds\n",
            "calculate_scores_from_matrix finished after 0.00 seconds\n",
            "Obligation Coverage score : 0.5\n",
            "calculate_coverage_score finished after 0.01 seconds\n",
            "Final composite score: 0.35107\n",
            "Item 71 processed in 0.07 seconds.\n",
            "---------------------------------------------------------------\n",
            "2 passages and 6 answers.\n"
          ]
        },
        {
          "output_type": "stream",
          "name": "stderr",
          "text": [
            "100%|██████████| 2/2 [00:00<00:00, 38.49it/s]\n"
          ]
        },
        {
          "output_type": "stream",
          "name": "stdout",
          "text": [
            "calculate_scores_from_matrix finished after 0.00 seconds\n",
            "calculate_scores_from_matrix finished after 0.00 seconds\n",
            "Obligation Coverage score : 0.5\n",
            "calculate_coverage_score finished after 0.00 seconds\n",
            "Final composite score: 0.27793\n",
            "Item 72 processed in 0.06 seconds.\n",
            "---------------------------------------------------------------\n",
            "2 passages and 4 answers.\n"
          ]
        },
        {
          "output_type": "stream",
          "name": "stderr",
          "text": [
            "100%|██████████| 2/2 [00:00<00:00, 28.37it/s]\n"
          ]
        },
        {
          "output_type": "stream",
          "name": "stdout",
          "text": [
            "calculate_scores_from_matrix finished after 0.00 seconds\n",
            "calculate_scores_from_matrix finished after 0.00 seconds\n",
            "Obligation Coverage score : 0.5\n",
            "calculate_coverage_score finished after 0.00 seconds\n",
            "Final composite score: 0.34794\n",
            "Item 73 processed in 0.08 seconds.\n",
            "---------------------------------------------------------------\n",
            "1 passages and 3 answers.\n"
          ]
        },
        {
          "output_type": "stream",
          "name": "stderr",
          "text": [
            "100%|██████████| 1/1 [00:00<00:00, 35.15it/s]\n"
          ]
        },
        {
          "output_type": "stream",
          "name": "stdout",
          "text": [
            "calculate_scores_from_matrix finished after 0.00 seconds\n",
            "calculate_scores_from_matrix finished after 0.00 seconds\n",
            "Obligation Coverage score : 1.0\n",
            "calculate_coverage_score finished after 0.01 seconds\n",
            "Final composite score: 0.69658\n",
            "Item 74 processed in 0.04 seconds.\n",
            "---------------------------------------------------------------\n",
            "1 passages and 10 answers.\n"
          ]
        },
        {
          "output_type": "stream",
          "name": "stderr",
          "text": [
            "100%|██████████| 1/1 [00:00<00:00, 17.11it/s]\n"
          ]
        },
        {
          "output_type": "stream",
          "name": "stdout",
          "text": [
            "calculate_scores_from_matrix finished after 0.00 seconds\n",
            "calculate_scores_from_matrix finished after 0.00 seconds\n",
            "Obligation Coverage score : 1.0\n",
            "calculate_coverage_score finished after 0.01 seconds\n",
            "Final composite score: 0.46859\n",
            "Item 75 processed in 0.07 seconds.\n",
            "---------------------------------------------------------------\n",
            "4 passages and 4 answers.\n"
          ]
        },
        {
          "output_type": "stream",
          "name": "stderr",
          "text": [
            "100%|██████████| 4/4 [00:00<00:00, 43.35it/s]\n"
          ]
        },
        {
          "output_type": "stream",
          "name": "stdout",
          "text": [
            "calculate_scores_from_matrix finished after 0.00 seconds\n",
            "calculate_scores_from_matrix finished after 0.00 seconds\n",
            "Obligation Coverage score : 0.25\n",
            "calculate_coverage_score finished after 0.01 seconds\n",
            "Final composite score: 0.34128\n",
            "Item 76 processed in 0.11 seconds.\n",
            "---------------------------------------------------------------\n",
            "2 passages and 2 answers.\n"
          ]
        },
        {
          "output_type": "stream",
          "name": "stderr",
          "text": [
            "100%|██████████| 2/2 [00:00<00:00, 42.85it/s]\n"
          ]
        },
        {
          "output_type": "stream",
          "name": "stdout",
          "text": [
            "calculate_scores_from_matrix finished after 0.00 seconds\n",
            "calculate_scores_from_matrix finished after 0.00 seconds\n",
            "Obligation Coverage score : 0.5\n",
            "calculate_coverage_score finished after 0.01 seconds\n",
            "Final composite score: 0.34499\n",
            "Item 77 processed in 0.06 seconds.\n",
            "---------------------------------------------------------------\n",
            "21 passages and 8 answers.\n"
          ]
        },
        {
          "output_type": "stream",
          "name": "stderr",
          "text": [
            "100%|██████████| 21/21 [00:00<00:00, 41.73it/s]\n"
          ]
        },
        {
          "output_type": "stream",
          "name": "stdout",
          "text": [
            "calculate_scores_from_matrix finished after 0.00 seconds\n",
            "calculate_scores_from_matrix finished after 0.00 seconds\n",
            "Obligation Coverage score : 0.04762\n",
            "calculate_coverage_score finished after 0.02 seconds\n",
            "Final composite score: 0.14549\n",
            "Item 78 processed in 0.53 seconds.\n",
            "---------------------------------------------------------------\n",
            "1 passages and 2 answers.\n"
          ]
        },
        {
          "output_type": "stream",
          "name": "stderr",
          "text": [
            "100%|██████████| 1/1 [00:00<00:00, 32.21it/s]\n"
          ]
        },
        {
          "output_type": "stream",
          "name": "stdout",
          "text": [
            "calculate_scores_from_matrix finished after 0.00 seconds\n",
            "calculate_scores_from_matrix finished after 0.00 seconds\n",
            "Obligation Coverage score : 1.0\n",
            "calculate_coverage_score finished after 0.01 seconds\n",
            "Final composite score: 0.69747\n",
            "Item 79 processed in 0.04 seconds.\n",
            "---------------------------------------------------------------\n",
            "1 passages and 1 answers.\n"
          ]
        },
        {
          "output_type": "stream",
          "name": "stderr",
          "text": [
            "100%|██████████| 1/1 [00:00<00:00, 38.42it/s]\n"
          ]
        },
        {
          "output_type": "stream",
          "name": "stdout",
          "text": [
            "calculate_scores_from_matrix finished after 0.00 seconds\n",
            "calculate_scores_from_matrix finished after 0.00 seconds\n",
            "Obligation Coverage score : 1.0\n",
            "calculate_coverage_score finished after 0.00 seconds\n",
            "Final composite score: 0.69838\n",
            "Item 80 processed in 0.04 seconds.\n",
            "---------------------------------------------------------------\n",
            "1 passages and 2 answers.\n"
          ]
        },
        {
          "output_type": "stream",
          "name": "stderr",
          "text": [
            "100%|██████████| 1/1 [00:00<00:00, 32.15it/s]\n"
          ]
        },
        {
          "output_type": "stream",
          "name": "stdout",
          "text": [
            "calculate_scores_from_matrix finished after 0.00 seconds\n",
            "calculate_scores_from_matrix finished after 0.00 seconds\n",
            "Obligation Coverage score : 1.0\n",
            "calculate_coverage_score finished after 0.00 seconds\n",
            "Final composite score: 0.6924\n",
            "Item 81 processed in 0.04 seconds.\n",
            "---------------------------------------------------------------\n",
            "1 passages and 1 answers.\n"
          ]
        },
        {
          "output_type": "stream",
          "name": "stderr",
          "text": [
            "100%|██████████| 1/1 [00:00<00:00, 40.93it/s]\n"
          ]
        },
        {
          "output_type": "stream",
          "name": "stdout",
          "text": [
            "calculate_scores_from_matrix finished after 0.00 seconds\n",
            "calculate_scores_from_matrix finished after 0.00 seconds\n",
            "Obligation Coverage score : 1.0\n",
            "calculate_coverage_score finished after 0.00 seconds\n",
            "Final composite score: 0.68196\n",
            "Item 82 processed in 0.04 seconds.\n",
            "---------------------------------------------------------------\n",
            "1 passages and 2 answers.\n"
          ]
        },
        {
          "output_type": "stream",
          "name": "stderr",
          "text": [
            "100%|██████████| 1/1 [00:00<00:00, 28.63it/s]\n"
          ]
        },
        {
          "output_type": "stream",
          "name": "stdout",
          "text": [
            "calculate_scores_from_matrix finished after 0.00 seconds\n",
            "calculate_scores_from_matrix finished after 0.00 seconds\n",
            "Obligation Coverage score : 1.0\n",
            "calculate_coverage_score finished after 0.00 seconds\n",
            "Final composite score: 0.69647\n",
            "Item 83 processed in 0.05 seconds.\n",
            "---------------------------------------------------------------\n",
            "5 passages and 3 answers.\n"
          ]
        },
        {
          "output_type": "stream",
          "name": "stderr",
          "text": [
            "100%|██████████| 5/5 [00:00<00:00, 41.67it/s]\n"
          ]
        },
        {
          "output_type": "stream",
          "name": "stdout",
          "text": [
            "calculate_scores_from_matrix finished after 0.00 seconds\n",
            "calculate_scores_from_matrix finished after 0.00 seconds\n",
            "Obligation Coverage score : 0.2\n",
            "calculate_coverage_score finished after 0.01 seconds\n",
            "Final composite score: 0.2522\n",
            "Item 84 processed in 0.14 seconds.\n",
            "---------------------------------------------------------------\n",
            "1 passages and 3 answers.\n"
          ]
        },
        {
          "output_type": "stream",
          "name": "stderr",
          "text": [
            "100%|██████████| 1/1 [00:00<00:00, 36.74it/s]\n"
          ]
        },
        {
          "output_type": "stream",
          "name": "stdout",
          "text": [
            "calculate_scores_from_matrix finished after 0.00 seconds\n",
            "calculate_scores_from_matrix finished after 0.00 seconds\n",
            "Obligation Coverage score : 1.0\n",
            "calculate_coverage_score finished after 0.00 seconds\n",
            "Final composite score: 0.69495\n",
            "Item 85 processed in 0.04 seconds.\n",
            "---------------------------------------------------------------\n",
            "1 passages and 2 answers.\n"
          ]
        },
        {
          "output_type": "stream",
          "name": "stderr",
          "text": [
            "100%|██████████| 1/1 [00:00<00:00, 33.88it/s]\n"
          ]
        },
        {
          "output_type": "stream",
          "name": "stdout",
          "text": [
            "calculate_scores_from_matrix finished after 0.00 seconds\n",
            "calculate_scores_from_matrix finished after 0.00 seconds\n",
            "Obligation Coverage score : 1.0\n",
            "calculate_coverage_score finished after 0.00 seconds\n",
            "Final composite score: 0.50588\n",
            "Item 86 processed in 0.04 seconds.\n",
            "---------------------------------------------------------------\n",
            "1 passages and 16 answers.\n"
          ]
        },
        {
          "output_type": "stream",
          "name": "stderr",
          "text": [
            "100%|██████████| 1/1 [00:00<00:00, 32.10it/s]\n"
          ]
        },
        {
          "output_type": "stream",
          "name": "stdout",
          "text": [
            "calculate_scores_from_matrix finished after 0.00 seconds\n",
            "calculate_scores_from_matrix finished after 0.00 seconds\n",
            "Obligation Coverage score : 1.0\n",
            "calculate_coverage_score finished after 0.00 seconds\n",
            "Final composite score: 0.3983\n",
            "Item 87 processed in 0.04 seconds.\n",
            "---------------------------------------------------------------\n",
            "1 passages and 5 answers.\n"
          ]
        },
        {
          "output_type": "stream",
          "name": "stderr",
          "text": [
            "100%|██████████| 1/1 [00:00<00:00, 37.10it/s]\n"
          ]
        },
        {
          "output_type": "stream",
          "name": "stdout",
          "text": [
            "calculate_scores_from_matrix finished after 0.00 seconds\n",
            "calculate_scores_from_matrix finished after 0.00 seconds\n",
            "Obligation Coverage score : 1.0\n",
            "calculate_coverage_score finished after 0.01 seconds\n",
            "Final composite score: 0.56682\n",
            "Item 88 processed in 0.04 seconds.\n",
            "---------------------------------------------------------------\n",
            "1 passages and 6 answers.\n"
          ]
        },
        {
          "output_type": "stream",
          "name": "stderr",
          "text": [
            "100%|██████████| 1/1 [00:00<00:00, 27.02it/s]\n"
          ]
        },
        {
          "output_type": "stream",
          "name": "stdout",
          "text": [
            "calculate_scores_from_matrix finished after 0.00 seconds\n",
            "calculate_scores_from_matrix finished after 0.00 seconds\n",
            "Obligation Coverage score : 1.0\n",
            "calculate_coverage_score finished after 0.00 seconds\n",
            "Final composite score: 0.30432\n",
            "Item 89 processed in 0.05 seconds.\n",
            "---------------------------------------------------------------\n",
            "1 passages and 12 answers.\n"
          ]
        },
        {
          "output_type": "stream",
          "name": "stderr",
          "text": [
            "100%|██████████| 1/1 [00:00<00:00, 31.96it/s]\n"
          ]
        },
        {
          "output_type": "stream",
          "name": "stdout",
          "text": [
            "calculate_scores_from_matrix finished after 0.00 seconds\n",
            "calculate_scores_from_matrix finished after 0.00 seconds\n",
            "Obligation Coverage score : 1.0\n",
            "calculate_coverage_score finished after 0.01 seconds\n",
            "Final composite score: 0.34182\n",
            "Item 90 processed in 0.04 seconds.\n",
            "---------------------------------------------------------------\n",
            "1 passages and 3 answers.\n"
          ]
        },
        {
          "output_type": "stream",
          "name": "stderr",
          "text": [
            "100%|██████████| 1/1 [00:00<00:00, 35.72it/s]\n"
          ]
        },
        {
          "output_type": "stream",
          "name": "stdout",
          "text": [
            "calculate_scores_from_matrix finished after 0.00 seconds\n",
            "calculate_scores_from_matrix finished after 0.00 seconds\n",
            "Obligation Coverage score : 1.0\n",
            "calculate_coverage_score finished after 0.01 seconds\n",
            "Final composite score: 0.56622\n",
            "Item 91 processed in 0.04 seconds.\n",
            "---------------------------------------------------------------\n",
            "1 passages and 2 answers.\n"
          ]
        },
        {
          "output_type": "stream",
          "name": "stderr",
          "text": [
            "100%|██████████| 1/1 [00:00<00:00, 38.46it/s]\n"
          ]
        },
        {
          "output_type": "stream",
          "name": "stdout",
          "text": [
            "calculate_scores_from_matrix finished after 0.00 seconds\n",
            "calculate_scores_from_matrix finished after 0.00 seconds\n",
            "Obligation Coverage score : 1.0\n",
            "calculate_coverage_score finished after 0.00 seconds\n",
            "Final composite score: 0.30809\n",
            "Item 92 processed in 0.04 seconds.\n",
            "---------------------------------------------------------------\n",
            "699 passages and 3 answers.\n"
          ]
        },
        {
          "output_type": "stream",
          "name": "stderr",
          "text": [
            "100%|██████████| 699/699 [00:20<00:00, 33.87it/s]\n"
          ]
        },
        {
          "output_type": "stream",
          "name": "stdout",
          "text": [
            "calculate_scores_from_matrix finished after 0.00 seconds\n",
            "calculate_scores_from_matrix finished after 0.00 seconds\n",
            "Obligation Coverage score : 0.00145\n",
            "calculate_coverage_score finished after 0.69 seconds\n",
            "Final composite score: 0.34003\n",
            "Item 93 processed in 21.36 seconds.\n",
            "---------------------------------------------------------------\n",
            "1 passages and 10 answers.\n"
          ]
        },
        {
          "output_type": "stream",
          "name": "stderr",
          "text": [
            "100%|██████████| 1/1 [00:00<00:00, 13.95it/s]\n"
          ]
        },
        {
          "output_type": "stream",
          "name": "stdout",
          "text": [
            "calculate_scores_from_matrix finished after 0.00 seconds\n",
            "calculate_scores_from_matrix finished after 0.00 seconds\n",
            "Obligation Coverage score : 1.0\n",
            "calculate_coverage_score finished after 0.00 seconds\n",
            "Final composite score: 0.34671\n",
            "Item 94 processed in 0.08 seconds.\n",
            "---------------------------------------------------------------\n",
            "25 passages and 2 answers.\n"
          ]
        },
        {
          "output_type": "stream",
          "name": "stderr",
          "text": [
            "100%|██████████| 25/25 [00:00<00:00, 31.20it/s]\n"
          ]
        },
        {
          "output_type": "stream",
          "name": "stdout",
          "text": [
            "calculate_scores_from_matrix finished after 0.00 seconds\n",
            "calculate_scores_from_matrix finished after 0.00 seconds\n",
            "Obligation Coverage score : 0.04167\n",
            "calculate_coverage_score finished after 0.03 seconds\n",
            "Final composite score: 0.0164\n",
            "Item 95 processed in 0.85 seconds.\n",
            "---------------------------------------------------------------\n",
            "699 passages and 8 answers.\n"
          ]
        },
        {
          "output_type": "stream",
          "name": "stderr",
          "text": [
            "100%|██████████| 699/699 [00:20<00:00, 34.04it/s]\n"
          ]
        },
        {
          "output_type": "stream",
          "name": "stdout",
          "text": [
            "calculate_scores_from_matrix finished after 0.00 seconds\n",
            "calculate_scores_from_matrix finished after 0.00 seconds\n",
            "Obligation Coverage score : 0.00145\n",
            "calculate_coverage_score finished after 0.49 seconds\n",
            "Final composite score: 0.15726\n",
            "Item 96 processed in 21.03 seconds.\n",
            "---------------------------------------------------------------\n",
            "1 passages and 2 answers.\n"
          ]
        },
        {
          "output_type": "stream",
          "name": "stderr",
          "text": [
            "100%|██████████| 1/1 [00:00<00:00, 37.77it/s]\n"
          ]
        },
        {
          "output_type": "stream",
          "name": "stdout",
          "text": [
            "calculate_scores_from_matrix finished after 0.00 seconds\n",
            "calculate_scores_from_matrix finished after 0.00 seconds\n",
            "Obligation Coverage score : 1.0\n",
            "calculate_coverage_score finished after 0.01 seconds\n",
            "Final composite score: 0.47484\n",
            "Item 97 processed in 0.04 seconds.\n",
            "---------------------------------------------------------------\n",
            "8 passages and 4 answers.\n"
          ]
        },
        {
          "output_type": "stream",
          "name": "stderr",
          "text": [
            "100%|██████████| 8/8 [00:00<00:00, 39.25it/s]\n"
          ]
        },
        {
          "output_type": "stream",
          "name": "stdout",
          "text": [
            "calculate_scores_from_matrix finished after 0.00 seconds\n",
            "calculate_scores_from_matrix finished after 0.00 seconds\n",
            "Obligation Coverage score : 0.125\n",
            "calculate_coverage_score finished after 0.01 seconds\n",
            "Final composite score: 0.34855\n",
            "Item 98 processed in 0.23 seconds.\n",
            "---------------------------------------------------------------\n",
            "1 passages and 3 answers.\n"
          ]
        },
        {
          "output_type": "stream",
          "name": "stderr",
          "text": [
            "100%|██████████| 1/1 [00:00<00:00, 33.76it/s]\n"
          ]
        },
        {
          "output_type": "stream",
          "name": "stdout",
          "text": [
            "calculate_scores_from_matrix finished after 0.00 seconds\n",
            "calculate_scores_from_matrix finished after 0.00 seconds\n",
            "Obligation Coverage score : 1.0\n",
            "calculate_coverage_score finished after 0.01 seconds\n",
            "Final composite score: 0.69376\n",
            "Item 99 processed in 0.04 seconds.\n",
            "---------------------------------------------------------------\n",
            "1 passages and 3 answers.\n"
          ]
        },
        {
          "output_type": "stream",
          "name": "stderr",
          "text": [
            "100%|██████████| 1/1 [00:00<00:00, 20.09it/s]\n"
          ]
        },
        {
          "output_type": "stream",
          "name": "stdout",
          "text": [
            "calculate_scores_from_matrix finished after 0.00 seconds\n",
            "calculate_scores_from_matrix finished after 0.00 seconds\n",
            "Obligation Coverage score : 1.0\n",
            "calculate_coverage_score finished after 0.00 seconds\n",
            "Final composite score: 0.56371\n",
            "Item 100 processed in 0.06 seconds.\n",
            "---------------------------------------------------------------\n",
            "1 passages and 4 answers.\n"
          ]
        },
        {
          "output_type": "stream",
          "name": "stderr",
          "text": [
            "100%|██████████| 1/1 [00:00<00:00, 34.76it/s]\n"
          ]
        },
        {
          "output_type": "stream",
          "name": "stdout",
          "text": [
            "calculate_scores_from_matrix finished after 0.00 seconds\n",
            "calculate_scores_from_matrix finished after 0.00 seconds\n",
            "Obligation Coverage score : 1.0\n",
            "calculate_coverage_score finished after 0.01 seconds\n",
            "Final composite score: 0.53827\n",
            "Item 101 processed in 0.05 seconds.\n",
            "---------------------------------------------------------------\n",
            "1 passages and 4 answers.\n"
          ]
        },
        {
          "output_type": "stream",
          "name": "stderr",
          "text": [
            "100%|██████████| 1/1 [00:00<00:00, 32.42it/s]\n"
          ]
        },
        {
          "output_type": "stream",
          "name": "stdout",
          "text": [
            "calculate_scores_from_matrix finished after 0.00 seconds\n",
            "calculate_scores_from_matrix finished after 0.00 seconds\n",
            "Obligation Coverage score : 1.0\n",
            "calculate_coverage_score finished after 0.01 seconds\n",
            "Final composite score: 0.60132\n",
            "Item 102 processed in 0.05 seconds.\n",
            "---------------------------------------------------------------\n",
            "42 passages and 16 answers.\n"
          ]
        },
        {
          "output_type": "stream",
          "name": "stderr",
          "text": [
            "100%|██████████| 42/42 [00:01<00:00, 26.35it/s]\n"
          ]
        },
        {
          "output_type": "stream",
          "name": "stdout",
          "text": [
            "calculate_scores_from_matrix finished after 0.00 seconds\n",
            "calculate_scores_from_matrix finished after 0.00 seconds\n",
            "Obligation Coverage score : 0.02381\n",
            "calculate_coverage_score finished after 0.04 seconds\n",
            "Final composite score: 0.08616\n",
            "Item 103 processed in 1.65 seconds.\n",
            "---------------------------------------------------------------\n",
            "1 passages and 6 answers.\n"
          ]
        },
        {
          "output_type": "stream",
          "name": "stderr",
          "text": [
            "100%|██████████| 1/1 [00:00<00:00, 34.55it/s]\n"
          ]
        },
        {
          "output_type": "stream",
          "name": "stdout",
          "text": [
            "calculate_scores_from_matrix finished after 0.00 seconds\n",
            "calculate_scores_from_matrix finished after 0.00 seconds\n",
            "Obligation Coverage score : 1.0\n",
            "calculate_coverage_score finished after 0.00 seconds\n",
            "Final composite score: 0.64256\n",
            "Item 104 processed in 0.04 seconds.\n",
            "---------------------------------------------------------------\n",
            "1 passages and 2 answers.\n"
          ]
        },
        {
          "output_type": "stream",
          "name": "stderr",
          "text": [
            "100%|██████████| 1/1 [00:00<00:00, 30.53it/s]\n"
          ]
        },
        {
          "output_type": "stream",
          "name": "stdout",
          "text": [
            "calculate_scores_from_matrix finished after 0.00 seconds\n",
            "calculate_scores_from_matrix finished after 0.00 seconds\n",
            "Obligation Coverage score : 1.0\n",
            "calculate_coverage_score finished after 0.01 seconds\n",
            "Final composite score: 0.69615\n",
            "Item 105 processed in 0.05 seconds.\n",
            "---------------------------------------------------------------\n",
            "1 passages and 3 answers.\n"
          ]
        },
        {
          "output_type": "stream",
          "name": "stderr",
          "text": [
            "100%|██████████| 1/1 [00:00<00:00, 33.78it/s]\n"
          ]
        },
        {
          "output_type": "stream",
          "name": "stdout",
          "text": [
            "calculate_scores_from_matrix finished after 0.00 seconds\n",
            "calculate_scores_from_matrix finished after 0.00 seconds\n",
            "Obligation Coverage score : 1.0\n",
            "calculate_coverage_score finished after 0.00 seconds\n",
            "Final composite score: 0.62907\n",
            "Item 106 processed in 0.04 seconds.\n",
            "---------------------------------------------------------------\n",
            "699 passages and 4 answers.\n"
          ]
        },
        {
          "output_type": "stream",
          "name": "stderr",
          "text": [
            "100%|██████████| 699/699 [00:22<00:00, 30.82it/s]\n"
          ]
        },
        {
          "output_type": "stream",
          "name": "stdout",
          "text": [
            "calculate_scores_from_matrix finished after 0.00 seconds\n",
            "calculate_scores_from_matrix finished after 0.00 seconds\n",
            "Obligation Coverage score : 0.00145\n",
            "calculate_coverage_score finished after 0.49 seconds\n",
            "Final composite score: 0.27456\n",
            "Item 107 processed in 23.18 seconds.\n",
            "---------------------------------------------------------------\n",
            "1 passages and 3 answers.\n"
          ]
        },
        {
          "output_type": "stream",
          "name": "stderr",
          "text": [
            "100%|██████████| 1/1 [00:00<00:00, 35.95it/s]\n"
          ]
        },
        {
          "output_type": "stream",
          "name": "stdout",
          "text": [
            "calculate_scores_from_matrix finished after 0.00 seconds\n",
            "calculate_scores_from_matrix finished after 0.00 seconds\n",
            "Obligation Coverage score : 1.0\n",
            "calculate_coverage_score finished after 0.00 seconds\n",
            "Final composite score: 0.65294\n",
            "Item 108 processed in 0.04 seconds.\n",
            "---------------------------------------------------------------\n",
            "1 passages and 8 answers.\n"
          ]
        },
        {
          "output_type": "stream",
          "name": "stderr",
          "text": [
            "100%|██████████| 1/1 [00:00<00:00, 22.95it/s]\n"
          ]
        },
        {
          "output_type": "stream",
          "name": "stdout",
          "text": [
            "calculate_scores_from_matrix finished after 0.00 seconds\n",
            "calculate_scores_from_matrix finished after 0.00 seconds\n",
            "Obligation Coverage score : 1.0\n",
            "calculate_coverage_score finished after 0.00 seconds\n",
            "Final composite score: 0.54084\n",
            "Item 109 processed in 0.06 seconds.\n",
            "---------------------------------------------------------------\n",
            "2 passages and 4 answers.\n"
          ]
        },
        {
          "output_type": "stream",
          "name": "stderr",
          "text": [
            "100%|██████████| 2/2 [00:00<00:00, 37.91it/s]\n"
          ]
        },
        {
          "output_type": "stream",
          "name": "stdout",
          "text": [
            "calculate_scores_from_matrix finished after 0.00 seconds\n",
            "calculate_scores_from_matrix finished after 0.00 seconds\n",
            "Obligation Coverage score : 0.5\n",
            "calculate_coverage_score finished after 0.00 seconds\n",
            "Final composite score: 0.38949\n",
            "Item 110 processed in 0.07 seconds.\n",
            "---------------------------------------------------------------\n",
            "2 passages and 5 answers.\n"
          ]
        },
        {
          "output_type": "stream",
          "name": "stderr",
          "text": [
            "100%|██████████| 2/2 [00:00<00:00, 40.06it/s]\n"
          ]
        },
        {
          "output_type": "stream",
          "name": "stdout",
          "text": [
            "calculate_scores_from_matrix finished after 0.00 seconds\n",
            "calculate_scores_from_matrix finished after 0.00 seconds\n",
            "Obligation Coverage score : 0.5\n",
            "calculate_coverage_score finished after 0.01 seconds\n",
            "Final composite score: 0.41273\n",
            "Item 111 processed in 0.07 seconds.\n",
            "---------------------------------------------------------------\n",
            "2 passages and 5 answers.\n"
          ]
        },
        {
          "output_type": "stream",
          "name": "stderr",
          "text": [
            "100%|██████████| 2/2 [00:00<00:00, 37.80it/s]\n"
          ]
        },
        {
          "output_type": "stream",
          "name": "stdout",
          "text": [
            "calculate_scores_from_matrix finished after 0.00 seconds\n",
            "calculate_scores_from_matrix finished after 0.00 seconds\n",
            "Obligation Coverage score : 0.5\n",
            "calculate_coverage_score finished after 0.01 seconds\n",
            "Final composite score: 0.31015\n",
            "Item 112 processed in 0.07 seconds.\n",
            "---------------------------------------------------------------\n",
            "2 passages and 4 answers.\n"
          ]
        },
        {
          "output_type": "stream",
          "name": "stderr",
          "text": [
            "100%|██████████| 2/2 [00:00<00:00, 39.39it/s]\n"
          ]
        },
        {
          "output_type": "stream",
          "name": "stdout",
          "text": [
            "calculate_scores_from_matrix finished after 0.00 seconds\n",
            "calculate_scores_from_matrix finished after 0.00 seconds\n",
            "Obligation Coverage score : 0.5\n",
            "calculate_coverage_score finished after 0.01 seconds\n",
            "Final composite score: 0.41401\n",
            "Item 113 processed in 0.06 seconds.\n",
            "---------------------------------------------------------------\n",
            "2 passages and 2 answers.\n"
          ]
        },
        {
          "output_type": "stream",
          "name": "stderr",
          "text": [
            "100%|██████████| 2/2 [00:00<00:00, 37.34it/s]\n"
          ]
        },
        {
          "output_type": "stream",
          "name": "stdout",
          "text": [
            "calculate_scores_from_matrix finished after 0.00 seconds\n",
            "calculate_scores_from_matrix finished after 0.00 seconds\n",
            "Obligation Coverage score : 0.5\n",
            "calculate_coverage_score finished after 0.01 seconds\n",
            "Final composite score: 0.54628\n",
            "Item 114 processed in 0.07 seconds.\n",
            "---------------------------------------------------------------\n",
            "1 passages and 2 answers.\n"
          ]
        },
        {
          "output_type": "stream",
          "name": "stderr",
          "text": [
            "100%|██████████| 1/1 [00:00<00:00, 31.51it/s]\n"
          ]
        },
        {
          "output_type": "stream",
          "name": "stdout",
          "text": [
            "calculate_scores_from_matrix finished after 0.00 seconds\n",
            "calculate_scores_from_matrix finished after 0.00 seconds\n",
            "Obligation Coverage score : 1.0\n",
            "calculate_coverage_score finished after 0.00 seconds\n",
            "Final composite score: 0.30857\n",
            "Item 115 processed in 0.04 seconds.\n",
            "---------------------------------------------------------------\n",
            "4 passages and 3 answers.\n"
          ]
        },
        {
          "output_type": "stream",
          "name": "stderr",
          "text": [
            "100%|██████████| 4/4 [00:00<00:00, 42.33it/s]\n"
          ]
        },
        {
          "output_type": "stream",
          "name": "stdout",
          "text": [
            "calculate_scores_from_matrix finished after 0.00 seconds\n",
            "calculate_scores_from_matrix finished after 0.00 seconds\n",
            "Obligation Coverage score : 0.25\n",
            "calculate_coverage_score finished after 0.01 seconds\n",
            "Final composite score: 0.36555\n",
            "Item 116 processed in 0.11 seconds.\n",
            "---------------------------------------------------------------\n",
            "1 passages and 9 answers.\n"
          ]
        },
        {
          "output_type": "stream",
          "name": "stderr",
          "text": [
            "100%|██████████| 1/1 [00:00<00:00, 22.86it/s]\n"
          ]
        },
        {
          "output_type": "stream",
          "name": "stdout",
          "text": [
            "calculate_scores_from_matrix finished after 0.00 seconds\n",
            "calculate_scores_from_matrix finished after 0.00 seconds\n",
            "Obligation Coverage score : 1.0\n",
            "calculate_coverage_score finished after 0.00 seconds\n",
            "Final composite score: 0.51416\n",
            "Item 117 processed in 0.06 seconds.\n",
            "---------------------------------------------------------------\n",
            "2 passages and 3 answers.\n"
          ]
        },
        {
          "output_type": "stream",
          "name": "stderr",
          "text": [
            "100%|██████████| 2/2 [00:00<00:00, 33.29it/s]\n"
          ]
        },
        {
          "output_type": "stream",
          "name": "stdout",
          "text": [
            "calculate_scores_from_matrix finished after 0.00 seconds\n",
            "calculate_scores_from_matrix finished after 0.00 seconds\n",
            "Obligation Coverage score : 0.5\n",
            "calculate_coverage_score finished after 0.00 seconds\n",
            "Final composite score: 0.41678\n",
            "Item 118 processed in 0.07 seconds.\n",
            "---------------------------------------------------------------\n",
            "2 passages and 3 answers.\n"
          ]
        },
        {
          "output_type": "stream",
          "name": "stderr",
          "text": [
            "100%|██████████| 2/2 [00:00<00:00, 35.72it/s]\n"
          ]
        },
        {
          "output_type": "stream",
          "name": "stdout",
          "text": [
            "calculate_scores_from_matrix finished after 0.00 seconds\n",
            "calculate_scores_from_matrix finished after 0.00 seconds\n",
            "Obligation Coverage score : 0.5\n",
            "calculate_coverage_score finished after 0.01 seconds\n",
            "Final composite score: 0.288\n",
            "Item 119 processed in 0.07 seconds.\n",
            "---------------------------------------------------------------\n",
            "2 passages and 2 answers.\n"
          ]
        },
        {
          "output_type": "stream",
          "name": "stderr",
          "text": [
            "100%|██████████| 2/2 [00:00<00:00, 33.90it/s]\n"
          ]
        },
        {
          "output_type": "stream",
          "name": "stdout",
          "text": [
            "calculate_scores_from_matrix finished after 0.00 seconds\n",
            "calculate_scores_from_matrix finished after 0.00 seconds\n",
            "Obligation Coverage score : 0.5\n",
            "calculate_coverage_score finished after 0.01 seconds\n",
            "Final composite score: 0.3478\n",
            "Item 120 processed in 0.07 seconds.\n",
            "---------------------------------------------------------------\n",
            "1 passages and 2 answers.\n"
          ]
        },
        {
          "output_type": "stream",
          "name": "stderr",
          "text": [
            "100%|██████████| 1/1 [00:00<00:00, 31.68it/s]\n"
          ]
        },
        {
          "output_type": "stream",
          "name": "stdout",
          "text": [
            "calculate_scores_from_matrix finished after 0.00 seconds\n",
            "calculate_scores_from_matrix finished after 0.00 seconds\n",
            "Obligation Coverage score : 1.0\n",
            "calculate_coverage_score finished after 0.01 seconds\n",
            "Final composite score: 0.69011\n",
            "Item 121 processed in 0.06 seconds.\n",
            "---------------------------------------------------------------\n",
            "1 passages and 2 answers.\n"
          ]
        },
        {
          "output_type": "stream",
          "name": "stderr",
          "text": [
            "100%|██████████| 1/1 [00:00<00:00, 22.58it/s]\n"
          ]
        },
        {
          "output_type": "stream",
          "name": "stdout",
          "text": [
            "calculate_scores_from_matrix finished after 0.00 seconds\n",
            "calculate_scores_from_matrix finished after 0.00 seconds\n",
            "Obligation Coverage score : 1.0\n",
            "calculate_coverage_score finished after 0.00 seconds\n",
            "Final composite score: 0.5995\n",
            "Item 122 processed in 0.06 seconds.\n",
            "---------------------------------------------------------------\n",
            "44 passages and 3 answers.\n"
          ]
        },
        {
          "output_type": "stream",
          "name": "stderr",
          "text": [
            "100%|██████████| 44/44 [00:01<00:00, 39.62it/s]\n"
          ]
        },
        {
          "output_type": "stream",
          "name": "stdout",
          "text": [
            "calculate_scores_from_matrix finished after 0.00 seconds\n",
            "calculate_scores_from_matrix finished after 0.00 seconds\n",
            "Obligation Coverage score : 0.02273\n",
            "calculate_coverage_score finished after 0.04 seconds\n",
            "Final composite score: 0.01034\n",
            "Item 123 processed in 1.16 seconds.\n",
            "---------------------------------------------------------------\n",
            "2 passages and 5 answers.\n"
          ]
        },
        {
          "output_type": "stream",
          "name": "stderr",
          "text": [
            "100%|██████████| 2/2 [00:00<00:00, 36.10it/s]\n"
          ]
        },
        {
          "output_type": "stream",
          "name": "stdout",
          "text": [
            "calculate_scores_from_matrix finished after 0.00 seconds\n",
            "calculate_scores_from_matrix finished after 0.00 seconds\n",
            "Obligation Coverage score : 0.5\n",
            "calculate_coverage_score finished after 0.01 seconds\n",
            "Final composite score: 0.44726\n",
            "Item 124 processed in 0.07 seconds.\n",
            "---------------------------------------------------------------\n",
            "2 passages and 6 answers.\n"
          ]
        },
        {
          "output_type": "stream",
          "name": "stderr",
          "text": [
            "100%|██████████| 2/2 [00:00<00:00, 36.39it/s]\n"
          ]
        },
        {
          "output_type": "stream",
          "name": "stdout",
          "text": [
            "calculate_scores_from_matrix finished after 0.00 seconds\n",
            "calculate_scores_from_matrix finished after 0.00 seconds\n",
            "Obligation Coverage score : 0.5\n",
            "calculate_coverage_score finished after 0.01 seconds\n",
            "Final composite score: 0.37948\n",
            "Item 125 processed in 0.07 seconds.\n",
            "---------------------------------------------------------------\n",
            "2 passages and 14 answers.\n"
          ]
        },
        {
          "output_type": "stream",
          "name": "stderr",
          "text": [
            "100%|██████████| 2/2 [00:00<00:00, 17.95it/s]\n"
          ]
        },
        {
          "output_type": "stream",
          "name": "stdout",
          "text": [
            "calculate_scores_from_matrix finished after 0.00 seconds\n",
            "calculate_scores_from_matrix finished after 0.00 seconds\n",
            "Obligation Coverage score : 0.5\n",
            "calculate_coverage_score finished after 0.01 seconds\n",
            "Final composite score: 0.20306\n",
            "Item 126 processed in 0.13 seconds.\n",
            "---------------------------------------------------------------\n",
            "1 passages and 4 answers.\n"
          ]
        },
        {
          "output_type": "stream",
          "name": "stderr",
          "text": [
            "100%|██████████| 1/1 [00:00<00:00, 36.08it/s]\n"
          ]
        },
        {
          "output_type": "stream",
          "name": "stdout",
          "text": [
            "calculate_scores_from_matrix finished after 0.00 seconds\n",
            "calculate_scores_from_matrix finished after 0.00 seconds\n",
            "Obligation Coverage score : 1.0\n",
            "calculate_coverage_score finished after 0.00 seconds\n",
            "Final composite score: 0.50466\n",
            "Item 127 processed in 0.04 seconds.\n",
            "---------------------------------------------------------------\n",
            "1 passages and 1 answers.\n"
          ]
        },
        {
          "output_type": "stream",
          "name": "stderr",
          "text": [
            "100%|██████████| 1/1 [00:00<00:00, 29.45it/s]\n"
          ]
        },
        {
          "output_type": "stream",
          "name": "stdout",
          "text": [
            "calculate_scores_from_matrix finished after 0.00 seconds\n",
            "calculate_scores_from_matrix finished after 0.00 seconds\n",
            "Obligation Coverage score : 1.0\n",
            "calculate_coverage_score finished after 0.00 seconds\n",
            "Final composite score: 0.69779\n",
            "Item 128 processed in 0.05 seconds.\n",
            "---------------------------------------------------------------\n",
            "4 passages and 4 answers.\n"
          ]
        },
        {
          "output_type": "stream",
          "name": "stderr",
          "text": [
            "100%|██████████| 4/4 [00:00<00:00, 42.16it/s]\n"
          ]
        },
        {
          "output_type": "stream",
          "name": "stdout",
          "text": [
            "calculate_scores_from_matrix finished after 0.00 seconds\n",
            "calculate_scores_from_matrix finished after 0.00 seconds\n",
            "Obligation Coverage score : 0.25\n",
            "calculate_coverage_score finished after 0.01 seconds\n",
            "Final composite score: 0.46651\n",
            "Item 129 processed in 0.11 seconds.\n",
            "---------------------------------------------------------------\n",
            "4 passages and 11 answers.\n"
          ]
        },
        {
          "output_type": "stream",
          "name": "stderr",
          "text": [
            "100%|██████████| 4/4 [00:00<00:00, 35.62it/s]\n"
          ]
        },
        {
          "output_type": "stream",
          "name": "stdout",
          "text": [
            "calculate_scores_from_matrix finished after 0.00 seconds\n",
            "calculate_scores_from_matrix finished after 0.00 seconds\n",
            "Obligation Coverage score : 0.25\n",
            "calculate_coverage_score finished after 0.01 seconds\n",
            "Final composite score: 0.10272\n",
            "Item 130 processed in 0.13 seconds.\n",
            "---------------------------------------------------------------\n",
            "1 passages and 6 answers.\n"
          ]
        },
        {
          "output_type": "stream",
          "name": "stderr",
          "text": [
            "100%|██████████| 1/1 [00:00<00:00, 11.10it/s]\n"
          ]
        },
        {
          "output_type": "stream",
          "name": "stdout",
          "text": [
            "calculate_scores_from_matrix finished after 0.00 seconds\n",
            "calculate_scores_from_matrix finished after 0.00 seconds\n",
            "Obligation Coverage score : 1.0\n",
            "calculate_coverage_score finished after 0.01 seconds\n",
            "Final composite score: 0.62184\n",
            "Item 131 processed in 0.10 seconds.\n",
            "---------------------------------------------------------------\n",
            "1 passages and 12 answers.\n"
          ]
        },
        {
          "output_type": "stream",
          "name": "stderr",
          "text": [
            "100%|██████████| 1/1 [00:00<00:00, 35.65it/s]\n"
          ]
        },
        {
          "output_type": "stream",
          "name": "stdout",
          "text": [
            "calculate_scores_from_matrix finished after 0.00 seconds\n",
            "calculate_scores_from_matrix finished after 0.00 seconds\n",
            "Obligation Coverage score : 1.0\n",
            "calculate_coverage_score finished after 0.00 seconds\n",
            "Final composite score: 0.39713\n",
            "Item 132 processed in 0.04 seconds.\n",
            "---------------------------------------------------------------\n",
            "1 passages and 4 answers.\n"
          ]
        },
        {
          "output_type": "stream",
          "name": "stderr",
          "text": [
            "100%|██████████| 1/1 [00:00<00:00, 35.73it/s]\n"
          ]
        },
        {
          "output_type": "stream",
          "name": "stdout",
          "text": [
            "calculate_scores_from_matrix finished after 0.00 seconds\n",
            "calculate_scores_from_matrix finished after 0.00 seconds\n",
            "Obligation Coverage score : 1.0\n",
            "calculate_coverage_score finished after 0.01 seconds\n",
            "Final composite score: 0.52357\n",
            "Item 133 processed in 0.05 seconds.\n",
            "---------------------------------------------------------------\n",
            "1 passages and 4 answers.\n"
          ]
        },
        {
          "output_type": "stream",
          "name": "stderr",
          "text": [
            "100%|██████████| 1/1 [00:00<00:00, 30.13it/s]\n"
          ]
        },
        {
          "output_type": "stream",
          "name": "stdout",
          "text": [
            "calculate_scores_from_matrix finished after 0.00 seconds\n",
            "calculate_scores_from_matrix finished after 0.00 seconds\n",
            "Obligation Coverage score : 1.0\n",
            "calculate_coverage_score finished after 0.01 seconds\n",
            "Final composite score: 0.44101\n",
            "Item 134 processed in 0.05 seconds.\n",
            "---------------------------------------------------------------\n",
            "7 passages and 12 answers.\n"
          ]
        },
        {
          "output_type": "stream",
          "name": "stderr",
          "text": [
            "100%|██████████| 7/7 [00:00<00:00, 30.32it/s]\n"
          ]
        },
        {
          "output_type": "stream",
          "name": "stdout",
          "text": [
            "calculate_scores_from_matrix finished after 0.00 seconds\n",
            "calculate_scores_from_matrix finished after 0.00 seconds\n",
            "Obligation Coverage score : 0.14286\n",
            "calculate_coverage_score finished after 0.01 seconds\n",
            "Final composite score: 0.08524\n",
            "Item 135 processed in 0.25 seconds.\n",
            "---------------------------------------------------------------\n",
            "1 passages and 14 answers.\n"
          ]
        },
        {
          "output_type": "stream",
          "name": "stderr",
          "text": [
            "100%|██████████| 1/1 [00:00<00:00, 28.00it/s]\n"
          ]
        },
        {
          "output_type": "stream",
          "name": "stdout",
          "text": [
            "calculate_scores_from_matrix finished after 0.00 seconds\n",
            "calculate_scores_from_matrix finished after 0.00 seconds\n",
            "Obligation Coverage score : 1.0\n",
            "calculate_coverage_score finished after 0.01 seconds\n",
            "Final composite score: 0.37763\n",
            "Item 136 processed in 0.05 seconds.\n",
            "---------------------------------------------------------------\n",
            "1 passages and 2 answers.\n"
          ]
        },
        {
          "output_type": "stream",
          "name": "stderr",
          "text": [
            "100%|██████████| 1/1 [00:00<00:00, 39.25it/s]\n"
          ]
        },
        {
          "output_type": "stream",
          "name": "stdout",
          "text": [
            "calculate_scores_from_matrix finished after 0.00 seconds\n",
            "calculate_scores_from_matrix finished after 0.00 seconds\n",
            "Obligation Coverage score : 1.0\n",
            "calculate_coverage_score finished after 0.00 seconds\n",
            "Final composite score: 0.52423\n",
            "Item 137 processed in 0.04 seconds.\n",
            "---------------------------------------------------------------\n",
            "1 passages and 1 answers.\n"
          ]
        },
        {
          "output_type": "stream",
          "name": "stderr",
          "text": [
            "100%|██████████| 1/1 [00:00<00:00, 38.72it/s]\n"
          ]
        },
        {
          "output_type": "stream",
          "name": "stdout",
          "text": [
            "calculate_scores_from_matrix finished after 0.00 seconds\n",
            "calculate_scores_from_matrix finished after 0.00 seconds\n",
            "Obligation Coverage score : 1.0\n",
            "calculate_coverage_score finished after 0.01 seconds\n",
            "Final composite score: 0.69736\n",
            "Item 138 processed in 0.04 seconds.\n",
            "---------------------------------------------------------------\n",
            "14 passages and 19 answers.\n"
          ]
        },
        {
          "output_type": "stream",
          "name": "stderr",
          "text": [
            "100%|██████████| 14/14 [00:00<00:00, 15.85it/s]\n"
          ]
        },
        {
          "output_type": "stream",
          "name": "stdout",
          "text": [
            "calculate_scores_from_matrix finished after 0.00 seconds\n",
            "calculate_scores_from_matrix finished after 0.00 seconds\n",
            "Obligation Coverage score : 0.07143\n",
            "calculate_coverage_score finished after 0.02 seconds\n",
            "Final composite score: 0.22316\n",
            "Item 139 processed in 0.91 seconds.\n",
            "---------------------------------------------------------------\n",
            "27 passages and 15 answers.\n"
          ]
        },
        {
          "output_type": "stream",
          "name": "stderr",
          "text": [
            "100%|██████████| 27/27 [00:01<00:00, 14.66it/s]\n"
          ]
        },
        {
          "output_type": "stream",
          "name": "stdout",
          "text": [
            "calculate_scores_from_matrix finished after 0.00 seconds\n",
            "calculate_scores_from_matrix finished after 0.00 seconds\n",
            "Obligation Coverage score : 0.03704\n",
            "calculate_coverage_score finished after 0.04 seconds\n",
            "Final composite score: 0.14105\n",
            "Item 140 processed in 1.89 seconds.\n",
            "---------------------------------------------------------------\n",
            "37 passages and 8 answers.\n"
          ]
        },
        {
          "output_type": "stream",
          "name": "stderr",
          "text": [
            "100%|██████████| 37/37 [00:01<00:00, 30.06it/s]\n"
          ]
        },
        {
          "output_type": "stream",
          "name": "stdout",
          "text": [
            "calculate_scores_from_matrix finished after 0.00 seconds\n",
            "calculate_scores_from_matrix finished after 0.00 seconds\n",
            "Obligation Coverage score : 0.02778\n",
            "calculate_coverage_score finished after 0.03 seconds\n",
            "Final composite score: 0.0098\n",
            "Item 141 processed in 1.28 seconds.\n",
            "---------------------------------------------------------------\n",
            "1 passages and 3 answers.\n"
          ]
        },
        {
          "output_type": "stream",
          "name": "stderr",
          "text": [
            "100%|██████████| 1/1 [00:00<00:00, 34.73it/s]\n"
          ]
        },
        {
          "output_type": "stream",
          "name": "stdout",
          "text": [
            "calculate_scores_from_matrix finished after 0.00 seconds\n",
            "calculate_scores_from_matrix finished after 0.00 seconds\n",
            "Obligation Coverage score : 1.0\n",
            "calculate_coverage_score finished after 0.00 seconds\n",
            "Final composite score: 0.43237\n",
            "Item 142 processed in 0.04 seconds.\n",
            "---------------------------------------------------------------\n",
            "24 passages and 4 answers.\n"
          ]
        },
        {
          "output_type": "stream",
          "name": "stderr",
          "text": [
            "100%|██████████| 24/24 [00:00<00:00, 36.80it/s]\n"
          ]
        },
        {
          "output_type": "stream",
          "name": "stdout",
          "text": [
            "calculate_scores_from_matrix finished after 0.00 seconds\n",
            "calculate_scores_from_matrix finished after 0.00 seconds\n",
            "Obligation Coverage score : 0.04167\n",
            "calculate_coverage_score finished after 0.03 seconds\n",
            "Final composite score: 0.26232\n",
            "Item 143 processed in 0.69 seconds.\n",
            "---------------------------------------------------------------\n",
            "1 passages and 3 answers.\n"
          ]
        },
        {
          "output_type": "stream",
          "name": "stderr",
          "text": [
            "100%|██████████| 1/1 [00:00<00:00, 35.04it/s]\n"
          ]
        },
        {
          "output_type": "stream",
          "name": "stdout",
          "text": [
            "calculate_scores_from_matrix finished after 0.00 seconds\n",
            "calculate_scores_from_matrix finished after 0.00 seconds\n",
            "Obligation Coverage score : 1.0\n",
            "calculate_coverage_score finished after 0.00 seconds\n",
            "Final composite score: 0.67984\n",
            "Item 144 processed in 0.04 seconds.\n",
            "---------------------------------------------------------------\n",
            "1 passages and 1 answers.\n"
          ]
        },
        {
          "output_type": "stream",
          "name": "stderr",
          "text": [
            "100%|██████████| 1/1 [00:00<00:00, 23.16it/s]\n"
          ]
        },
        {
          "output_type": "stream",
          "name": "stdout",
          "text": [
            "calculate_scores_from_matrix finished after 0.00 seconds\n",
            "calculate_scores_from_matrix finished after 0.00 seconds\n",
            "Obligation Coverage score : 1.0\n",
            "calculate_coverage_score finished after 0.00 seconds\n",
            "Final composite score: 0.69772\n",
            "Item 145 processed in 0.06 seconds.\n",
            "---------------------------------------------------------------\n",
            "1 passages and 2 answers.\n"
          ]
        },
        {
          "output_type": "stream",
          "name": "stderr",
          "text": [
            "100%|██████████| 1/1 [00:00<00:00, 32.85it/s]\n"
          ]
        },
        {
          "output_type": "stream",
          "name": "stdout",
          "text": [
            "calculate_scores_from_matrix finished after 0.00 seconds\n",
            "calculate_scores_from_matrix finished after 0.00 seconds\n",
            "Obligation Coverage score : 1.0\n",
            "calculate_coverage_score finished after 0.00 seconds\n",
            "Final composite score: 0.6954\n",
            "Item 146 processed in 0.04 seconds.\n",
            "---------------------------------------------------------------\n",
            "1 passages and 2 answers.\n"
          ]
        },
        {
          "output_type": "stream",
          "name": "stderr",
          "text": [
            "100%|██████████| 1/1 [00:00<00:00, 35.21it/s]\n"
          ]
        },
        {
          "output_type": "stream",
          "name": "stdout",
          "text": [
            "calculate_scores_from_matrix finished after 0.00 seconds\n",
            "calculate_scores_from_matrix finished after 0.00 seconds\n",
            "Obligation Coverage score : 1.0\n",
            "calculate_coverage_score finished after 0.00 seconds\n",
            "Final composite score: 0.62537\n",
            "Item 147 processed in 0.04 seconds.\n",
            "---------------------------------------------------------------\n",
            "1 passages and 2 answers.\n"
          ]
        },
        {
          "output_type": "stream",
          "name": "stderr",
          "text": [
            "100%|██████████| 1/1 [00:00<00:00, 35.48it/s]\n"
          ]
        },
        {
          "output_type": "stream",
          "name": "stdout",
          "text": [
            "calculate_scores_from_matrix finished after 0.00 seconds\n",
            "calculate_scores_from_matrix finished after 0.00 seconds\n",
            "Obligation Coverage score : 1.0\n",
            "calculate_coverage_score finished after 0.00 seconds\n",
            "Final composite score: 0.65524\n",
            "Item 148 processed in 0.04 seconds.\n",
            "---------------------------------------------------------------\n",
            "1 passages and 3 answers.\n"
          ]
        },
        {
          "output_type": "stream",
          "name": "stderr",
          "text": [
            "100%|██████████| 1/1 [00:00<00:00, 32.16it/s]\n"
          ]
        },
        {
          "output_type": "stream",
          "name": "stdout",
          "text": [
            "calculate_scores_from_matrix finished after 0.00 seconds\n",
            "calculate_scores_from_matrix finished after 0.00 seconds\n",
            "Obligation Coverage score : 1.0\n",
            "calculate_coverage_score finished after 0.00 seconds\n",
            "Final composite score: 0.57079\n",
            "Item 149 processed in 0.04 seconds.\n",
            "---------------------------------------------------------------\n",
            "1 passages and 2 answers.\n"
          ]
        },
        {
          "output_type": "stream",
          "name": "stderr",
          "text": [
            "100%|██████████| 1/1 [00:00<00:00, 33.43it/s]\n"
          ]
        },
        {
          "output_type": "stream",
          "name": "stdout",
          "text": [
            "calculate_scores_from_matrix finished after 0.00 seconds\n",
            "calculate_scores_from_matrix finished after 0.00 seconds\n",
            "Obligation Coverage score : 1.0\n",
            "calculate_coverage_score finished after 0.01 seconds\n",
            "Final composite score: 0.67736\n",
            "Item 150 processed in 0.05 seconds.\n",
            "---------------------------------------------------------------\n",
            "1 passages and 2 answers.\n"
          ]
        },
        {
          "output_type": "stream",
          "name": "stderr",
          "text": [
            "100%|██████████| 1/1 [00:00<00:00, 31.13it/s]\n"
          ]
        },
        {
          "output_type": "stream",
          "name": "stdout",
          "text": [
            "calculate_scores_from_matrix finished after 0.00 seconds\n",
            "calculate_scores_from_matrix finished after 0.00 seconds\n",
            "Obligation Coverage score : 1.0\n",
            "calculate_coverage_score finished after 0.00 seconds\n",
            "Final composite score: 0.69465\n",
            "Item 151 processed in 0.04 seconds.\n",
            "---------------------------------------------------------------\n",
            "2 passages and 3 answers.\n"
          ]
        },
        {
          "output_type": "stream",
          "name": "stderr",
          "text": [
            "100%|██████████| 2/2 [00:00<00:00, 37.09it/s]\n"
          ]
        },
        {
          "output_type": "stream",
          "name": "stdout",
          "text": [
            "calculate_scores_from_matrix finished after 0.00 seconds\n",
            "calculate_scores_from_matrix finished after 0.00 seconds\n",
            "Obligation Coverage score : 0.5\n",
            "calculate_coverage_score finished after 0.00 seconds\n",
            "Final composite score: 0.24886\n",
            "Item 152 processed in 0.07 seconds.\n",
            "---------------------------------------------------------------\n",
            "1 passages and 11 answers.\n"
          ]
        },
        {
          "output_type": "stream",
          "name": "stderr",
          "text": [
            "100%|██████████| 1/1 [00:00<00:00, 12.29it/s]\n"
          ]
        },
        {
          "output_type": "stream",
          "name": "stdout",
          "text": [
            "calculate_scores_from_matrix finished after 0.00 seconds\n",
            "calculate_scores_from_matrix finished after 0.00 seconds\n",
            "Obligation Coverage score : 1.0\n",
            "calculate_coverage_score finished after 0.00 seconds\n",
            "Final composite score: 0.4991\n",
            "Item 153 processed in 0.09 seconds.\n",
            "---------------------------------------------------------------\n",
            "1 passages and 11 answers.\n"
          ]
        },
        {
          "output_type": "stream",
          "name": "stderr",
          "text": [
            "100%|██████████| 1/1 [00:00<00:00, 11.51it/s]\n"
          ]
        },
        {
          "output_type": "stream",
          "name": "stdout",
          "text": [
            "calculate_scores_from_matrix finished after 0.00 seconds\n",
            "calculate_scores_from_matrix finished after 0.00 seconds\n",
            "Obligation Coverage score : 1.0\n",
            "calculate_coverage_score finished after 0.00 seconds\n",
            "Final composite score: 0.49394\n",
            "Item 154 processed in 0.10 seconds.\n",
            "---------------------------------------------------------------\n",
            "1 passages and 10 answers.\n"
          ]
        },
        {
          "output_type": "stream",
          "name": "stderr",
          "text": [
            "100%|██████████| 1/1 [00:00<00:00, 13.01it/s]\n"
          ]
        },
        {
          "output_type": "stream",
          "name": "stdout",
          "text": [
            "calculate_scores_from_matrix finished after 0.00 seconds\n",
            "calculate_scores_from_matrix finished after 0.00 seconds\n",
            "Obligation Coverage score : 1.0\n",
            "calculate_coverage_score finished after 0.00 seconds\n",
            "Final composite score: 0.52789\n",
            "Item 155 processed in 0.09 seconds.\n",
            "---------------------------------------------------------------\n",
            "1 passages and 3 answers.\n"
          ]
        },
        {
          "output_type": "stream",
          "name": "stderr",
          "text": [
            "100%|██████████| 1/1 [00:00<00:00, 30.25it/s]\n"
          ]
        },
        {
          "output_type": "stream",
          "name": "stdout",
          "text": [
            "calculate_scores_from_matrix finished after 0.00 seconds\n",
            "calculate_scores_from_matrix finished after 0.00 seconds\n",
            "Obligation Coverage score : 1.0\n",
            "calculate_coverage_score finished after 0.00 seconds\n",
            "Final composite score: 0.43792\n",
            "Item 156 processed in 0.05 seconds.\n",
            "---------------------------------------------------------------\n",
            "1 passages and 10 answers.\n"
          ]
        },
        {
          "output_type": "stream",
          "name": "stderr",
          "text": [
            "100%|██████████| 1/1 [00:00<00:00, 11.94it/s]\n"
          ]
        },
        {
          "output_type": "stream",
          "name": "stdout",
          "text": [
            "calculate_scores_from_matrix finished after 0.00 seconds\n",
            "calculate_scores_from_matrix finished after 0.00 seconds\n",
            "Obligation Coverage score : 1.0\n",
            "calculate_coverage_score finished after 0.00 seconds\n",
            "Final composite score: 0.39922\n",
            "Item 157 processed in 0.10 seconds.\n",
            "---------------------------------------------------------------\n",
            "1 passages and 5 answers.\n"
          ]
        },
        {
          "output_type": "stream",
          "name": "stderr",
          "text": [
            "100%|██████████| 1/1 [00:00<00:00, 33.67it/s]\n"
          ]
        },
        {
          "output_type": "stream",
          "name": "stdout",
          "text": [
            "calculate_scores_from_matrix finished after 0.00 seconds\n",
            "calculate_scores_from_matrix finished after 0.00 seconds\n",
            "Obligation Coverage score : 1.0\n",
            "calculate_coverage_score finished after 0.00 seconds\n",
            "Final composite score: 0.5992\n",
            "Item 158 processed in 0.04 seconds.\n",
            "---------------------------------------------------------------\n",
            "1 passages and 8 answers.\n"
          ]
        },
        {
          "output_type": "stream",
          "name": "stderr",
          "text": [
            "100%|██████████| 1/1 [00:00<00:00, 16.97it/s]\n"
          ]
        },
        {
          "output_type": "stream",
          "name": "stdout",
          "text": [
            "calculate_scores_from_matrix finished after 0.00 seconds\n",
            "calculate_scores_from_matrix finished after 0.00 seconds\n",
            "Obligation Coverage score : 1.0\n",
            "calculate_coverage_score finished after 0.01 seconds\n",
            "Final composite score: 0.55459\n",
            "Item 159 processed in 0.08 seconds.\n",
            "---------------------------------------------------------------\n",
            "1 passages and 1 answers.\n"
          ]
        },
        {
          "output_type": "stream",
          "name": "stderr",
          "text": [
            "100%|██████████| 1/1 [00:00<00:00, 40.58it/s]\n"
          ]
        },
        {
          "output_type": "stream",
          "name": "stdout",
          "text": [
            "calculate_scores_from_matrix finished after 0.00 seconds\n",
            "calculate_scores_from_matrix finished after 0.00 seconds\n",
            "Obligation Coverage score : 1.0\n",
            "calculate_coverage_score finished after 0.00 seconds\n",
            "Final composite score: 0.69174\n",
            "Item 160 processed in 0.04 seconds.\n",
            "---------------------------------------------------------------\n",
            "1 passages and 1 answers.\n"
          ]
        },
        {
          "output_type": "stream",
          "name": "stderr",
          "text": [
            "100%|██████████| 1/1 [00:00<00:00, 30.56it/s]\n"
          ]
        },
        {
          "output_type": "stream",
          "name": "stdout",
          "text": [
            "calculate_scores_from_matrix finished after 0.00 seconds\n",
            "calculate_scores_from_matrix finished after 0.00 seconds\n",
            "Obligation Coverage score : 1.0\n",
            "calculate_coverage_score finished after 0.00 seconds\n",
            "Final composite score: 0.69504\n",
            "Item 161 processed in 0.05 seconds.\n",
            "---------------------------------------------------------------\n",
            "1 passages and 1 answers.\n"
          ]
        },
        {
          "output_type": "stream",
          "name": "stderr",
          "text": [
            "100%|██████████| 1/1 [00:00<00:00, 25.69it/s]\n"
          ]
        },
        {
          "output_type": "stream",
          "name": "stdout",
          "text": [
            "calculate_scores_from_matrix finished after 0.00 seconds\n",
            "calculate_scores_from_matrix finished after 0.00 seconds\n",
            "Obligation Coverage score : 1.0\n",
            "calculate_coverage_score finished after 0.00 seconds\n",
            "Final composite score: 0.69147\n",
            "Item 162 processed in 0.05 seconds.\n",
            "---------------------------------------------------------------\n",
            "1 passages and 1 answers.\n"
          ]
        },
        {
          "output_type": "stream",
          "name": "stderr",
          "text": [
            "100%|██████████| 1/1 [00:00<00:00, 35.74it/s]\n"
          ]
        },
        {
          "output_type": "stream",
          "name": "stdout",
          "text": [
            "calculate_scores_from_matrix finished after 0.00 seconds\n",
            "calculate_scores_from_matrix finished after 0.00 seconds\n",
            "Obligation Coverage score : 1.0\n",
            "calculate_coverage_score finished after 0.01 seconds\n",
            "Final composite score: 0.69151\n",
            "Item 163 processed in 0.04 seconds.\n",
            "---------------------------------------------------------------\n",
            "1 passages and 3 answers.\n"
          ]
        },
        {
          "output_type": "stream",
          "name": "stderr",
          "text": [
            "100%|██████████| 1/1 [00:00<00:00, 32.88it/s]\n"
          ]
        },
        {
          "output_type": "stream",
          "name": "stdout",
          "text": [
            "calculate_scores_from_matrix finished after 0.00 seconds\n",
            "calculate_scores_from_matrix finished after 0.00 seconds\n",
            "Obligation Coverage score : 1.0\n",
            "calculate_coverage_score finished after 0.01 seconds\n",
            "Final composite score: 0.56326\n",
            "Item 164 processed in 0.04 seconds.\n",
            "---------------------------------------------------------------\n",
            "2 passages and 2 answers.\n"
          ]
        },
        {
          "output_type": "stream",
          "name": "stderr",
          "text": [
            "100%|██████████| 2/2 [00:00<00:00, 37.95it/s]\n"
          ]
        },
        {
          "output_type": "stream",
          "name": "stdout",
          "text": [
            "calculate_scores_from_matrix finished after 0.00 seconds\n",
            "calculate_scores_from_matrix finished after 0.00 seconds\n",
            "Obligation Coverage score : 0.5\n",
            "calculate_coverage_score finished after 0.01 seconds\n",
            "Final composite score: 0.54735\n",
            "Item 165 processed in 0.07 seconds.\n",
            "---------------------------------------------------------------\n",
            "13 passages and 4 answers.\n"
          ]
        },
        {
          "output_type": "stream",
          "name": "stderr",
          "text": [
            "100%|██████████| 13/13 [00:00<00:00, 40.83it/s]\n"
          ]
        },
        {
          "output_type": "stream",
          "name": "stdout",
          "text": [
            "calculate_scores_from_matrix finished after 0.00 seconds\n",
            "calculate_scores_from_matrix finished after 0.00 seconds\n",
            "Obligation Coverage score : 0.07692\n",
            "calculate_coverage_score finished after 0.01 seconds\n",
            "Final composite score: 0.17358\n",
            "Item 166 processed in 0.34 seconds.\n",
            "---------------------------------------------------------------\n",
            "2 passages and 8 answers.\n"
          ]
        },
        {
          "output_type": "stream",
          "name": "stderr",
          "text": [
            "100%|██████████| 2/2 [00:00<00:00, 26.07it/s]\n"
          ]
        },
        {
          "output_type": "stream",
          "name": "stdout",
          "text": [
            "calculate_scores_from_matrix finished after 0.00 seconds\n",
            "calculate_scores_from_matrix finished after 0.00 seconds\n",
            "Obligation Coverage score : 0.5\n",
            "calculate_coverage_score finished after 0.01 seconds\n",
            "Final composite score: 0.26625\n",
            "Item 167 processed in 0.10 seconds.\n",
            "---------------------------------------------------------------\n",
            "2 passages and 5 answers.\n"
          ]
        },
        {
          "output_type": "stream",
          "name": "stderr",
          "text": [
            "100%|██████████| 2/2 [00:00<00:00, 33.71it/s]\n"
          ]
        },
        {
          "output_type": "stream",
          "name": "stdout",
          "text": [
            "calculate_scores_from_matrix finished after 0.00 seconds\n",
            "calculate_scores_from_matrix finished after 0.00 seconds\n",
            "Obligation Coverage score : 0.5\n",
            "calculate_coverage_score finished after 0.00 seconds\n",
            "Final composite score: 0.46466\n",
            "Item 168 processed in 0.07 seconds.\n",
            "---------------------------------------------------------------\n",
            "2 passages and 2 answers.\n"
          ]
        },
        {
          "output_type": "stream",
          "name": "stderr",
          "text": [
            "100%|██████████| 2/2 [00:00<00:00, 37.96it/s]\n"
          ]
        },
        {
          "output_type": "stream",
          "name": "stdout",
          "text": [
            "calculate_scores_from_matrix finished after 0.00 seconds\n",
            "calculate_scores_from_matrix finished after 0.00 seconds\n",
            "Obligation Coverage score : 0.5\n",
            "calculate_coverage_score finished after 0.01 seconds\n",
            "Final composite score: 0.36111\n",
            "Item 169 processed in 0.06 seconds.\n",
            "---------------------------------------------------------------\n",
            "2 passages and 14 answers.\n"
          ]
        },
        {
          "output_type": "stream",
          "name": "stderr",
          "text": [
            "100%|██████████| 2/2 [00:00<00:00, 17.56it/s]\n"
          ]
        },
        {
          "output_type": "stream",
          "name": "stdout",
          "text": [
            "calculate_scores_from_matrix finished after 0.00 seconds\n",
            "calculate_scores_from_matrix finished after 0.00 seconds\n",
            "Obligation Coverage score : 0.5\n",
            "calculate_coverage_score finished after 0.01 seconds\n",
            "Final composite score: 0.40456\n",
            "Item 170 processed in 0.14 seconds.\n",
            "---------------------------------------------------------------\n",
            "1 passages and 1 answers.\n"
          ]
        },
        {
          "output_type": "stream",
          "name": "stderr",
          "text": [
            "100%|██████████| 1/1 [00:00<00:00, 39.92it/s]\n"
          ]
        },
        {
          "output_type": "stream",
          "name": "stdout",
          "text": [
            "calculate_scores_from_matrix finished after 0.00 seconds\n",
            "calculate_scores_from_matrix finished after 0.00 seconds\n",
            "Obligation Coverage score : 1.0\n",
            "calculate_coverage_score finished after 0.01 seconds\n",
            "Final composite score: 0.69512\n",
            "Item 171 processed in 0.04 seconds.\n",
            "---------------------------------------------------------------\n",
            "1 passages and 1 answers.\n"
          ]
        },
        {
          "output_type": "stream",
          "name": "stderr",
          "text": [
            "100%|██████████| 1/1 [00:00<00:00, 30.59it/s]\n"
          ]
        },
        {
          "output_type": "stream",
          "name": "stdout",
          "text": [
            "calculate_scores_from_matrix finished after 0.00 seconds\n",
            "calculate_scores_from_matrix finished after 0.00 seconds\n",
            "Obligation Coverage score : 1.0\n",
            "calculate_coverage_score finished after 0.00 seconds\n",
            "Final composite score: 0.69588\n",
            "Item 172 processed in 0.05 seconds.\n",
            "---------------------------------------------------------------\n",
            "3 passages and 3 answers.\n"
          ]
        },
        {
          "output_type": "stream",
          "name": "stderr",
          "text": [
            "100%|██████████| 3/3 [00:00<00:00, 32.89it/s]\n"
          ]
        },
        {
          "output_type": "stream",
          "name": "stdout",
          "text": [
            "calculate_scores_from_matrix finished after 0.00 seconds\n",
            "calculate_scores_from_matrix finished after 0.00 seconds\n",
            "Obligation Coverage score : 0.5\n",
            "calculate_coverage_score finished after 0.01 seconds\n",
            "Final composite score: 0.47005\n",
            "Item 173 processed in 0.11 seconds.\n",
            "---------------------------------------------------------------\n",
            "3 passages and 1 answers.\n"
          ]
        },
        {
          "output_type": "stream",
          "name": "stderr",
          "text": [
            "100%|██████████| 3/3 [00:00<00:00, 41.41it/s]\n"
          ]
        },
        {
          "output_type": "stream",
          "name": "stdout",
          "text": [
            "calculate_scores_from_matrix finished after 0.00 seconds\n",
            "calculate_scores_from_matrix finished after 0.00 seconds\n",
            "Obligation Coverage score : 0.5\n",
            "calculate_coverage_score finished after 0.01 seconds\n",
            "Final composite score: 0.18834\n",
            "Item 174 processed in 0.09 seconds.\n",
            "---------------------------------------------------------------\n",
            "2 passages and 2 answers.\n"
          ]
        },
        {
          "output_type": "stream",
          "name": "stderr",
          "text": [
            "100%|██████████| 2/2 [00:00<00:00, 37.20it/s]\n"
          ]
        },
        {
          "output_type": "stream",
          "name": "stdout",
          "text": [
            "calculate_scores_from_matrix finished after 0.00 seconds\n",
            "calculate_scores_from_matrix finished after 0.00 seconds\n",
            "Obligation Coverage score : 0.5\n",
            "calculate_coverage_score finished after 0.01 seconds\n",
            "Final composite score: 0.35032\n",
            "Item 175 processed in 0.07 seconds.\n",
            "---------------------------------------------------------------\n",
            "1 passages and 2 answers.\n"
          ]
        },
        {
          "output_type": "stream",
          "name": "stderr",
          "text": [
            "100%|██████████| 1/1 [00:00<00:00, 33.60it/s]"
          ]
        },
        {
          "output_type": "stream",
          "name": "stdout",
          "text": [
            "calculate_scores_from_matrix finished after 0.00 seconds\n",
            "calculate_scores_from_matrix finished after 0.00 seconds\n",
            "Obligation Coverage score : 1.0\n",
            "calculate_coverage_score finished after 0.01 seconds"
          ]
        },
        {
          "output_type": "stream",
          "name": "stderr",
          "text": [
            "\n"
          ]
        },
        {
          "output_type": "stream",
          "name": "stdout",
          "text": [
            "\n",
            "Final composite score: 0.53481\n",
            "Item 176 processed in 0.04 seconds.\n",
            "---------------------------------------------------------------\n",
            "1 passages and 2 answers.\n"
          ]
        },
        {
          "output_type": "stream",
          "name": "stderr",
          "text": [
            "100%|██████████| 1/1 [00:00<00:00, 32.06it/s]\n"
          ]
        },
        {
          "output_type": "stream",
          "name": "stdout",
          "text": [
            "calculate_scores_from_matrix finished after 0.00 seconds\n",
            "calculate_scores_from_matrix finished after 0.00 seconds\n",
            "Obligation Coverage score : 1.0\n",
            "calculate_coverage_score finished after 0.00 seconds\n",
            "Final composite score: 0.50312\n",
            "Item 177 processed in 0.04 seconds.\n",
            "---------------------------------------------------------------\n",
            "1 passages and 2 answers.\n"
          ]
        },
        {
          "output_type": "stream",
          "name": "stderr",
          "text": [
            "100%|██████████| 1/1 [00:00<00:00, 34.51it/s]\n"
          ]
        },
        {
          "output_type": "stream",
          "name": "stdout",
          "text": [
            "calculate_scores_from_matrix finished after 0.00 seconds\n",
            "calculate_scores_from_matrix finished after 0.00 seconds\n",
            "Obligation Coverage score : 1.0\n",
            "calculate_coverage_score finished after 0.00 seconds\n",
            "Final composite score: 0.51295\n",
            "Item 178 processed in 0.04 seconds.\n",
            "---------------------------------------------------------------\n",
            "1 passages and 2 answers.\n"
          ]
        },
        {
          "output_type": "stream",
          "name": "stderr",
          "text": [
            "100%|██████████| 1/1 [00:00<00:00, 36.82it/s]\n"
          ]
        },
        {
          "output_type": "stream",
          "name": "stdout",
          "text": [
            "calculate_scores_from_matrix finished after 0.00 seconds\n",
            "calculate_scores_from_matrix finished after 0.00 seconds\n",
            "Obligation Coverage score : 1.0\n",
            "calculate_coverage_score finished after 0.01 seconds\n",
            "Final composite score: 0.50943\n",
            "Item 179 processed in 0.04 seconds.\n",
            "---------------------------------------------------------------\n",
            "2 passages and 2 answers.\n"
          ]
        },
        {
          "output_type": "stream",
          "name": "stderr",
          "text": [
            "100%|██████████| 2/2 [00:00<00:00, 35.99it/s]\n"
          ]
        },
        {
          "output_type": "stream",
          "name": "stdout",
          "text": [
            "calculate_scores_from_matrix finished after 0.00 seconds\n",
            "calculate_scores_from_matrix finished after 0.00 seconds\n",
            "Obligation Coverage score : 0.5\n",
            "calculate_coverage_score finished after 0.00 seconds\n",
            "Final composite score: 0.33303\n",
            "Item 180 processed in 0.07 seconds.\n",
            "---------------------------------------------------------------\n",
            "2 passages and 4 answers.\n"
          ]
        },
        {
          "output_type": "stream",
          "name": "stderr",
          "text": [
            "100%|██████████| 2/2 [00:00<00:00, 36.63it/s]\n"
          ]
        },
        {
          "output_type": "stream",
          "name": "stdout",
          "text": [
            "calculate_scores_from_matrix finished after 0.00 seconds\n",
            "calculate_scores_from_matrix finished after 0.00 seconds\n",
            "Obligation Coverage score : 0.5\n",
            "calculate_coverage_score finished after 0.01 seconds\n",
            "Final composite score: 0.26251\n",
            "Item 181 processed in 0.07 seconds.\n",
            "---------------------------------------------------------------\n",
            "2 passages and 3 answers.\n"
          ]
        },
        {
          "output_type": "stream",
          "name": "stderr",
          "text": [
            "100%|██████████| 2/2 [00:00<00:00, 33.11it/s]\n"
          ]
        },
        {
          "output_type": "stream",
          "name": "stdout",
          "text": [
            "calculate_scores_from_matrix finished after 0.00 seconds\n",
            "calculate_scores_from_matrix finished after 0.00 seconds\n",
            "Obligation Coverage score : 0.5\n",
            "calculate_coverage_score finished after 0.00 seconds\n",
            "Final composite score: 0.40021\n",
            "Item 182 processed in 0.07 seconds.\n",
            "---------------------------------------------------------------\n",
            "1 passages and 3 answers.\n"
          ]
        },
        {
          "output_type": "stream",
          "name": "stderr",
          "text": [
            "100%|██████████| 1/1 [00:00<00:00, 34.98it/s]\n"
          ]
        },
        {
          "output_type": "stream",
          "name": "stdout",
          "text": [
            "calculate_scores_from_matrix finished after 0.00 seconds\n",
            "calculate_scores_from_matrix finished after 0.00 seconds\n",
            "Obligation Coverage score : 1.0\n",
            "calculate_coverage_score finished after 0.01 seconds\n",
            "Final composite score: 0.68992\n",
            "Item 183 processed in 0.04 seconds.\n",
            "---------------------------------------------------------------\n",
            "1 passages and 3 answers.\n"
          ]
        },
        {
          "output_type": "stream",
          "name": "stderr",
          "text": [
            "100%|██████████| 1/1 [00:00<00:00, 29.34it/s]\n"
          ]
        },
        {
          "output_type": "stream",
          "name": "stdout",
          "text": [
            "calculate_scores_from_matrix finished after 0.00 seconds\n",
            "calculate_scores_from_matrix finished after 0.00 seconds\n",
            "Obligation Coverage score : 1.0\n",
            "calculate_coverage_score finished after 0.01 seconds\n",
            "Final composite score: 0.69202\n",
            "Item 184 processed in 0.04 seconds.\n",
            "---------------------------------------------------------------\n",
            "3 passages and 4 answers.\n"
          ]
        },
        {
          "output_type": "stream",
          "name": "stderr",
          "text": [
            "100%|██████████| 3/3 [00:00<00:00, 40.33it/s]\n"
          ]
        },
        {
          "output_type": "stream",
          "name": "stdout",
          "text": [
            "calculate_scores_from_matrix finished after 0.00 seconds\n",
            "calculate_scores_from_matrix finished after 0.00 seconds\n",
            "Obligation Coverage score : 0.33333\n",
            "calculate_coverage_score finished after 0.00 seconds\n",
            "Final composite score: 0.24364\n",
            "Item 185 processed in 0.09 seconds.\n",
            "---------------------------------------------------------------\n",
            "1 passages and 2 answers.\n"
          ]
        },
        {
          "output_type": "stream",
          "name": "stderr",
          "text": [
            "100%|██████████| 1/1 [00:00<00:00, 36.78it/s]\n"
          ]
        },
        {
          "output_type": "stream",
          "name": "stdout",
          "text": [
            "calculate_scores_from_matrix finished after 0.00 seconds\n",
            "calculate_scores_from_matrix finished after 0.00 seconds\n",
            "Obligation Coverage score : 1.0\n",
            "calculate_coverage_score finished after 0.00 seconds\n",
            "Final composite score: 0.69545\n",
            "Item 186 processed in 0.04 seconds.\n",
            "---------------------------------------------------------------\n",
            "1 passages and 1 answers.\n"
          ]
        },
        {
          "output_type": "stream",
          "name": "stderr",
          "text": [
            "100%|██████████| 1/1 [00:00<00:00, 36.57it/s]\n"
          ]
        },
        {
          "output_type": "stream",
          "name": "stdout",
          "text": [
            "calculate_scores_from_matrix finished after 0.00 seconds\n",
            "calculate_scores_from_matrix finished after 0.00 seconds\n",
            "Obligation Coverage score : 1.0\n",
            "calculate_coverage_score finished after 0.00 seconds\n",
            "Final composite score: 0.36814\n",
            "Item 187 processed in 0.04 seconds.\n",
            "---------------------------------------------------------------\n",
            "1 passages and 1 answers.\n"
          ]
        },
        {
          "output_type": "stream",
          "name": "stderr",
          "text": [
            "100%|██████████| 1/1 [00:00<00:00, 35.71it/s]\n"
          ]
        },
        {
          "output_type": "stream",
          "name": "stdout",
          "text": [
            "calculate_scores_from_matrix finished after 0.00 seconds\n",
            "calculate_scores_from_matrix finished after 0.00 seconds\n",
            "Obligation Coverage score : 1.0\n",
            "calculate_coverage_score finished after 0.01 seconds\n",
            "Final composite score: 0.69342\n",
            "Item 188 processed in 0.04 seconds.\n",
            "---------------------------------------------------------------\n",
            "1 passages and 3 answers.\n"
          ]
        },
        {
          "output_type": "stream",
          "name": "stderr",
          "text": [
            "100%|██████████| 1/1 [00:00<00:00, 34.33it/s]\n"
          ]
        },
        {
          "output_type": "stream",
          "name": "stdout",
          "text": [
            "calculate_scores_from_matrix finished after 0.00 seconds\n",
            "calculate_scores_from_matrix finished after 0.00 seconds\n",
            "Obligation Coverage score : 1.0\n",
            "calculate_coverage_score finished after 0.01 seconds\n",
            "Final composite score: 0.68502\n",
            "Item 189 processed in 0.04 seconds.\n",
            "---------------------------------------------------------------\n",
            "2 passages and 4 answers.\n"
          ]
        },
        {
          "output_type": "stream",
          "name": "stderr",
          "text": [
            "100%|██████████| 2/2 [00:00<00:00, 33.66it/s]\n"
          ]
        },
        {
          "output_type": "stream",
          "name": "stdout",
          "text": [
            "calculate_scores_from_matrix finished after 0.00 seconds\n",
            "calculate_scores_from_matrix finished after 0.00 seconds\n",
            "Obligation Coverage score : 0.5\n",
            "calculate_coverage_score finished after 0.01 seconds\n",
            "Final composite score: 0.15683\n",
            "Item 190 processed in 0.08 seconds.\n",
            "---------------------------------------------------------------\n",
            "4 passages and 4 answers.\n"
          ]
        },
        {
          "output_type": "stream",
          "name": "stderr",
          "text": [
            "100%|██████████| 4/4 [00:00<00:00, 36.18it/s]\n"
          ]
        },
        {
          "output_type": "stream",
          "name": "stdout",
          "text": [
            "calculate_scores_from_matrix finished after 0.00 seconds\n",
            "calculate_scores_from_matrix finished after 0.00 seconds\n",
            "Obligation Coverage score : 0.25\n",
            "calculate_coverage_score finished after 0.01 seconds\n",
            "Final composite score: 0.17262\n",
            "Item 191 processed in 0.13 seconds.\n",
            "---------------------------------------------------------------\n",
            "2 passages and 2 answers.\n"
          ]
        },
        {
          "output_type": "stream",
          "name": "stderr",
          "text": [
            "100%|██████████| 2/2 [00:00<00:00, 39.70it/s]\n"
          ]
        },
        {
          "output_type": "stream",
          "name": "stdout",
          "text": [
            "calculate_scores_from_matrix finished after 0.00 seconds\n",
            "calculate_scores_from_matrix finished after 0.00 seconds\n",
            "Obligation Coverage score : 0.5\n",
            "calculate_coverage_score finished after 0.01 seconds\n",
            "Final composite score: 0.32121\n",
            "Item 192 processed in 0.07 seconds.\n",
            "---------------------------------------------------------------\n",
            "4 passages and 2 answers.\n"
          ]
        },
        {
          "output_type": "stream",
          "name": "stderr",
          "text": [
            "100%|██████████| 4/4 [00:00<00:00, 36.25it/s]\n"
          ]
        },
        {
          "output_type": "stream",
          "name": "stdout",
          "text": [
            "calculate_scores_from_matrix finished after 0.00 seconds\n",
            "calculate_scores_from_matrix finished after 0.00 seconds\n",
            "Obligation Coverage score : 0.25\n",
            "calculate_coverage_score finished after 0.01 seconds\n",
            "Final composite score: 0.27391\n",
            "Item 193 processed in 0.13 seconds.\n",
            "---------------------------------------------------------------\n",
            "2 passages and 3 answers.\n"
          ]
        },
        {
          "output_type": "stream",
          "name": "stderr",
          "text": [
            "100%|██████████| 2/2 [00:00<00:00, 31.10it/s]\n"
          ]
        },
        {
          "output_type": "stream",
          "name": "stdout",
          "text": [
            "calculate_scores_from_matrix finished after 0.00 seconds\n",
            "calculate_scores_from_matrix finished after 0.00 seconds\n",
            "Obligation Coverage score : 0.5\n",
            "calculate_coverage_score finished after 0.01 seconds\n",
            "Final composite score: 0.54465\n",
            "Item 194 processed in 0.08 seconds.\n",
            "---------------------------------------------------------------\n",
            "2 passages and 1 answers.\n"
          ]
        },
        {
          "output_type": "stream",
          "name": "stderr",
          "text": [
            "100%|██████████| 2/2 [00:00<00:00, 41.93it/s]\n"
          ]
        },
        {
          "output_type": "stream",
          "name": "stdout",
          "text": [
            "calculate_scores_from_matrix finished after 0.00 seconds\n",
            "calculate_scores_from_matrix finished after 0.00 seconds\n",
            "Obligation Coverage score : 0.5\n",
            "calculate_coverage_score finished after 0.01 seconds\n",
            "Final composite score: 0.54802\n",
            "Item 195 processed in 0.06 seconds.\n",
            "---------------------------------------------------------------\n",
            "4 passages and 3 answers.\n"
          ]
        },
        {
          "output_type": "stream",
          "name": "stderr",
          "text": [
            "100%|██████████| 4/4 [00:00<00:00, 40.57it/s]\n"
          ]
        },
        {
          "output_type": "stream",
          "name": "stdout",
          "text": [
            "calculate_scores_from_matrix finished after 0.00 seconds\n",
            "calculate_scores_from_matrix finished after 0.00 seconds\n",
            "Obligation Coverage score : 0.25\n",
            "calculate_coverage_score finished after 0.01 seconds\n",
            "Final composite score: 0.34187\n",
            "Item 196 processed in 0.12 seconds.\n",
            "---------------------------------------------------------------\n",
            "4 passages and 3 answers.\n"
          ]
        },
        {
          "output_type": "stream",
          "name": "stderr",
          "text": [
            "100%|██████████| 4/4 [00:00<00:00, 43.87it/s]\n"
          ]
        },
        {
          "output_type": "stream",
          "name": "stdout",
          "text": [
            "calculate_scores_from_matrix finished after 0.00 seconds\n",
            "calculate_scores_from_matrix finished after 0.00 seconds\n",
            "Obligation Coverage score : 0.25\n",
            "calculate_coverage_score finished after 0.01 seconds\n",
            "Final composite score: 0.46803\n",
            "Item 197 processed in 0.11 seconds.\n",
            "---------------------------------------------------------------\n",
            "4 passages and 1 answers.\n"
          ]
        },
        {
          "output_type": "stream",
          "name": "stderr",
          "text": [
            "100%|██████████| 4/4 [00:00<00:00, 43.18it/s]\n"
          ]
        },
        {
          "output_type": "stream",
          "name": "stdout",
          "text": [
            "calculate_scores_from_matrix finished after 0.00 seconds\n",
            "calculate_scores_from_matrix finished after 0.00 seconds\n",
            "Obligation Coverage score : 0.25\n",
            "calculate_coverage_score finished after 0.01 seconds\n",
            "Final composite score: 0.46423\n",
            "Item 198 processed in 0.11 seconds.\n",
            "---------------------------------------------------------------\n",
            "1 passages and 2 answers.\n"
          ]
        },
        {
          "output_type": "stream",
          "name": "stderr",
          "text": [
            "100%|██████████| 1/1 [00:00<00:00, 35.81it/s]\n"
          ]
        },
        {
          "output_type": "stream",
          "name": "stdout",
          "text": [
            "calculate_scores_from_matrix finished after 0.00 seconds\n",
            "calculate_scores_from_matrix finished after 0.00 seconds\n",
            "Obligation Coverage score : 1.0\n",
            "calculate_coverage_score finished after 0.01 seconds\n",
            "Final composite score: 0.69606\n",
            "Item 199 processed in 0.04 seconds.\n",
            "---------------------------------------------------------------\n",
            "1 passages and 7 answers.\n"
          ]
        },
        {
          "output_type": "stream",
          "name": "stderr",
          "text": [
            "100%|██████████| 1/1 [00:00<00:00, 28.89it/s]\n"
          ]
        },
        {
          "output_type": "stream",
          "name": "stdout",
          "text": [
            "calculate_scores_from_matrix finished after 0.00 seconds\n",
            "calculate_scores_from_matrix finished after 0.00 seconds\n",
            "Obligation Coverage score : 1.0\n",
            "calculate_coverage_score finished after 0.00 seconds\n",
            "Final composite score: 0.52086\n",
            "Item 200 processed in 0.05 seconds.\n",
            "---------------------------------------------------------------\n",
            "All 200 items processed. Total time: 136.42 seconds.\n",
            "Updated JSON data with scores has been saved to ./retrieval_results.hierarchical_bm25_updated_subtask2_with_scores.json.\n"
          ]
        }
      ],
      "source": [
        "import json\n",
        "import time\n",
        "import torch\n",
        "from transformers import AutoTokenizer, AutoModelForSequenceClassification\n",
        "from nltk.tokenize import sent_tokenize as sent_tokenize_uncached\n",
        "import numpy as np\n",
        "from sklearn.model_selection import train_test_split\n",
        "from sklearn.feature_extraction.text import TfidfVectorizer\n",
        "from sklearn.linear_model import LogisticRegression\n",
        "from sklearn.pipeline import make_pipeline\n",
        "import nltk\n",
        "import tqdm\n",
        "from functools import cache\n",
        "nltk.download('punkt')\n",
        "\n",
        "@cache\n",
        "def sent_tokenize(passage: str):\n",
        "  return sent_tokenize_uncached(passage)\n",
        "\n",
        "print(\"Dependencies imported and NLTK punkt downloaded.\")\n",
        "\n",
        "# Load NLI model\n",
        "nli_model = AutoModelForSequenceClassification.from_pretrained('cross-encoder/nli-deberta-v3-xsmall')\n",
        "nli_model.to(\"cuda\")\n",
        "tokenizer = AutoTokenizer.from_pretrained('cross-encoder/nli-deberta-v3-xsmall')\n",
        "\n",
        "print(\"NLI model and tokenizer loaded.\")\n",
        "\n",
        "# Fit the obligation classifier\n",
        "json_path = \"./Processed_Obligations.json\"\n",
        "with open(json_path, 'r') as file:\n",
        "    data = json.load(file)\n",
        "texts = [item['Text'] for item in data]\n",
        "labels = [item['Obligation'] for item in data]\n",
        "\n",
        "X_train, _, y_train, _ = train_test_split(texts, labels, test_size=0.2, random_state=42)\n",
        "pipeline = make_pipeline(TfidfVectorizer(stop_words='english'), LogisticRegression(max_iter=1000))\n",
        "pipeline.fit(X_train, y_train)\n",
        "\n",
        "print(\"Obligation classifier fitted\")\n",
        "\n",
        "def softmax(logits):\n",
        "    e_logits = np.exp(logits - np.max(logits, axis=1, keepdims=True))\n",
        "    return e_logits / np.sum(e_logits, axis=1, keepdims=True)\n",
        "\n",
        "def get_nli_probabilities(premises, hypotheses):\n",
        "    features = tokenizer(premises, hypotheses, padding=True, truncation=True, return_tensors=\"pt\").to(\"cuda\")\n",
        "    nli_model.eval()\n",
        "    with torch.no_grad():\n",
        "        logits = nli_model(**features).logits.cpu().numpy()\n",
        "    probabilities = softmax(logits)\n",
        "    return probabilities\n",
        "\n",
        "def get_nli_matrix(passages, answers):\n",
        "    print(f\"{len(passages)} passages and {len(answers)} answers.\")\n",
        "    entailment_matrix = np.zeros((len(passages), len(answers)))\n",
        "    contradiction_matrix = np.zeros((len(passages), len(answers)))\n",
        "\n",
        "    batch_size = 16\n",
        "    for i, pas in enumerate(tqdm.tqdm(passages)):\n",
        "      for b in range(0, len(answers), batch_size):\n",
        "        e = b + batch_size\n",
        "        probs = get_nli_probabilities([pas] * len(answers[b:e]), answers[b:e])  # Get NLI probabilities\n",
        "        entailment_matrix[i, b:e] = probs[:, 1]  # Access the first element to avoid deprecation warning\n",
        "        contradiction_matrix[i, b:e] = probs[:, 0]  # Access the first element to avoid deprecation warning\n",
        "\n",
        "    # for i, pas in enumerate(tqdm.tqdm(passages)):\n",
        "    #     for j, ans in enumerate(answers):\n",
        "    #         probs = get_nli_probabilities([pas], [ans])  # Get NLI probabilities\n",
        "    #         entailment_matrix[i, j] = probs[:, 1][0]  # Access the first element to avoid deprecation warning\n",
        "    #         contradiction_matrix[i, j] = probs[:, 0][0]  # Access the first element to avoid deprecation warning\n",
        "\n",
        "    #print(\"NLI matrix calculation completed.\")\n",
        "    return entailment_matrix, contradiction_matrix\n",
        "\n",
        "def calculate_scores_from_matrix(nli_matrix, score_type='entailment'):\n",
        "    if nli_matrix.size == 0:\n",
        "        print(\"Warning: NLI matrix is empty. Returning default score of 0.\")\n",
        "        return 0.0  # or some other default score or handling as appropriate for your use case\n",
        "\n",
        "    if score_type == 'entailment':\n",
        "        reduced_vector = np.max(nli_matrix, axis=0)\n",
        "    elif score_type == 'contradiction':\n",
        "        reduced_vector = np.min(nli_matrix, axis=0)\n",
        "    score = np.round(np.mean(reduced_vector), 5)\n",
        "    return score\n",
        "\n",
        "def check_obligation(text):\n",
        "    #print(f\"Checking obligation for text: {text[:30]}...\")\n",
        "    return pipeline.predict([text])[0]\n",
        "\n",
        "def calculate_coverage_score(passages, answers):\n",
        "    #print(\"Calculating coverage score.\")\n",
        "    covered_obligations = 0\n",
        "    total_obligations = sum(check_obligation(sent) for passage in passages for sent in sent_tokenize(passage))\n",
        "\n",
        "    for ans in answers:\n",
        "        for passage in passages:\n",
        "            for sent in sent_tokenize(passage):\n",
        "                if check_obligation(sent):\n",
        "                    covered_obligations += 1\n",
        "                    break\n",
        "\n",
        "    coverage_score = covered_obligations / total_obligations if total_obligations > 0 else 0\n",
        "    print(f\"Obligation Coverage score : {np.round(coverage_score, 5)}\")\n",
        "    return np.round(coverage_score, 5)\n",
        "\n",
        "def calculate_final_composite_score(passages, answers, we=0.4, wc=0.3, wo=0.3):\n",
        "    #print(\"Calculating final composite score.\")\n",
        "    passage_sentences = [sent for passage in passages for sent in sent_tokenize(passage)]\n",
        "    answer_sentences = [sent for answer in answers for sent in sent_tokenize(answer)]\n",
        "    entailment_matrix, contradiction_matrix = get_nli_matrix(passage_sentences, answer_sentences)\n",
        "\n",
        "    start = time.time()\n",
        "    entailment_score = calculate_scores_from_matrix(entailment_matrix, 'entailment')\n",
        "    print(f\"calculate_scores_from_matrix finished after {time.time()-start:.2f} seconds\")\n",
        "    contradiction_score = calculate_scores_from_matrix(contradiction_matrix, 'contradiction')\n",
        "    print(f\"calculate_scores_from_matrix finished after {time.time()-start:.2f} seconds\")\n",
        "    coverage_score = calculate_coverage_score(passages, answers)\n",
        "    print(f\"calculate_coverage_score finished after {time.time()-start:.2f} seconds\")\n",
        "\n",
        "    composite_score = we * entailment_score - wc * contradiction_score + wo * coverage_score\n",
        "    print(f\"Final composite score: {np.round(composite_score, 5)}\")\n",
        "    return np.round(composite_score, 5)\n",
        "\n",
        "\n",
        "# Load JSON data\n",
        "with open('./retrieval_results.hierarchical_bm25_updated_subtask2.json', 'r') as file:\n",
        "    data = json.load(file)\n",
        "\n",
        "total_start_time = time.time()\n",
        "item_count = 0\n",
        "processed_items = []  # List to hold processed items\n",
        "\n",
        "# Iterate over each item in the JSON data\n",
        "for item in data[:200]:\n",
        "    item_start_time = time.time()\n",
        "    passages = [item['RetrievedPassage']]\n",
        "    answers = [item['Answer']]\n",
        "\n",
        "    try:\n",
        "        # Calculate coverage score\n",
        "        score = calculate_final_composite_score(passages, answers)\n",
        "\n",
        "        # Add the calculated score to the item\n",
        "        item['Score'] = np.round(score, 5)\n",
        "        processed_items.append(item)  # Add the processed item to the list\n",
        "        item_end_time = time.time()\n",
        "\n",
        "        print(f\"Item {item_count + 1} processed in {item_end_time - item_start_time:.2f} seconds.\")\n",
        "        item_count += 1\n",
        "    except Exception as e:\n",
        "        print(f\"An error occurred while processing item {item_count + 1}: {e}\")\n",
        "\n",
        "    print(\"---------------------------------------------------------------\")\n",
        "\n",
        "# Save the updated JSON data with processed items to a new file\n",
        "output_file = './retrieval_results.hierarchical_bm25_updated_subtask2_with_scores.json'\n",
        "with open(output_file, 'w') as outfile:\n",
        "    json.dump(processed_items, outfile, indent=4)\n",
        "\n",
        "total_end_time = time.time()\n",
        "print(f\"All {item_count} items processed. Total time: {total_end_time - total_start_time:.2f} seconds.\")\n",
        "print(f\"Updated JSON data with scores has been saved to {output_file}.\")"
      ]
    },
    {
      "cell_type": "code",
      "source": [
        "get_nli_probabilities([\"This is a sentence\"] * 2, [\"This is another sentence\"] * 2).shape"
      ],
      "metadata": {
        "colab": {
          "base_uri": "https://localhost:8080/"
        },
        "id": "DtWl2V2cxn03",
        "outputId": "6125c562-da79-49b3-b055-1928a696d4f0"
      },
      "execution_count": null,
      "outputs": [
        {
          "output_type": "execute_result",
          "data": {
            "text/plain": [
              "(2, 3)"
            ]
          },
          "metadata": {},
          "execution_count": 7
        }
      ]
    },
    {
      "cell_type": "code",
      "source": [],
      "metadata": {
        "id": "2VdEIdkRGdvT"
      },
      "execution_count": null,
      "outputs": []
    },
    {
      "cell_type": "code",
      "source": [],
      "metadata": {
        "id": "2gf2VU99Gd9r"
      },
      "execution_count": null,
      "outputs": []
    },
    {
      "cell_type": "code",
      "source": [
        "# Play an audio beep. Any audio URL will do.\n",
        "from google.colab import output\n",
        "output.eval_js('new Audio(\"https://upload.wikimedia.org/wikipedia/commons/0/05/Beep-09.ogg\").play()')"
      ],
      "metadata": {
        "id": "y_6RKzuTGYxr"
      },
      "execution_count": null,
      "outputs": []
    },
    {
      "cell_type": "code",
      "source": [
        "import json\n",
        "\n",
        "def calculate_mean_model_score(json_file_path):\n",
        "    # Open and read the JSON file\n",
        "    with open(json_file_path, 'r') as file:\n",
        "        data = json.load(file)\n",
        "\n",
        "    # Extract \"Model_Score\" values, ensuring they are not None\n",
        "    model_scores = []\n",
        "    for item in data:\n",
        "        if \"Score\" in item and item[\"Score\"] is not None:\n",
        "            model_scores.append(item[\"Score\"])\n",
        "\n",
        "    # Calculate the mean of \"Model_Score\" values\n",
        "    if model_scores:\n",
        "        mean_score = sum(model_scores) / len(model_scores)\n",
        "        return mean_score\n",
        "    else:\n",
        "        return \"No valid Model_Score values found\""
      ],
      "metadata": {
        "id": "FF-hpYsegRTZ"
      },
      "execution_count": null,
      "outputs": []
    },
    {
      "cell_type": "code",
      "source": [
        "# Replace 'your_json_file.json' with the path to your actual JSON file\n",
        "mean_model_score = calculate_mean_model_score('retrieval_results.hierarchical_bm25_updated_subtask2_with_scores.json')\n",
        "print(\"Mean Model_Score:\", mean_model_score)"
      ],
      "metadata": {
        "colab": {
          "base_uri": "https://localhost:8080/"
        },
        "id": "WV7Lvu4Z18Uz",
        "outputId": "f07b7d1e-69cc-46f1-f398-876af045f84a"
      },
      "execution_count": null,
      "outputs": [
        {
          "output_type": "stream",
          "name": "stdout",
          "text": [
            "Mean Model_Score: 0.4505117999999997\n"
          ]
        }
      ]
    },
    {
      "cell_type": "code",
      "source": [
        "# Replace 'your_json_file.json' with the path to your actual JSON file\n",
        "mean_model_score = calculate_mean_model_score('/content/drive/Othercomputers/MBZUAI/MBZUAI/ADGM-Project/SharedTask/retrieval_results.passage_only_bm25_updated_subtask2_with_scores.json')\n",
        "print(\"Mean Model_Score:\", mean_model_score)"
      ],
      "metadata": {
        "colab": {
          "base_uri": "https://localhost:8080/"
        },
        "id": "7T9inrQ1ge2J",
        "outputId": "678843d9-ff82-41ef-bf42-bfc8f1f4fa4b"
      },
      "execution_count": null,
      "outputs": [
        {
          "output_type": "stream",
          "name": "stdout",
          "text": [
            "Mean Model_Score: 0.4390223999999997\n"
          ]
        }
      ]
    },
    {
      "cell_type": "code",
      "source": [
        "mean_model_score = calculate_mean_model_score('/content/drive/Othercomputers/MBZUAI/MBZUAI/ADGM-Project/SharedTask/retrieval_results.hierarchical_bm25_updated_subtask2_with_scores.json')\n",
        "print(\"Mean Model_Score:\", mean_model_score)"
      ],
      "metadata": {
        "colab": {
          "base_uri": "https://localhost:8080/"
        },
        "id": "isGCxjTngtfj",
        "outputId": "cb0c1956-1cbc-4481-f834-b9bceb127714"
      },
      "execution_count": null,
      "outputs": [
        {
          "output_type": "stream",
          "name": "stdout",
          "text": [
            "Mean Model_Score: 0.4505117999999997\n"
          ]
        }
      ]
    }
  ]
}
